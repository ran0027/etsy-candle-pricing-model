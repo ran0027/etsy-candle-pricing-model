{
 "cells": [
  {
   "cell_type": "markdown",
   "id": "33d88dfc",
   "metadata": {},
   "source": [
    "# Etsy Pricing Model\n",
    "\n",
    "Here is a brief description of the project / model.\n",
    "\n",
    "**Name** &nbsp; Rebecca Neel\n",
    "\n",
    "**Date** &nbsp; 11 July, 2023 -"
   ]
  },
  {
   "cell_type": "markdown",
   "id": "3f0fa04f",
   "metadata": {},
   "source": [
    "## Import Packages"
   ]
  },
  {
   "cell_type": "code",
   "execution_count": 1,
   "id": "e6fafffe",
   "metadata": {},
   "outputs": [
    {
     "name": "stdout",
     "output_type": "stream",
     "text": [
      "Intel MKL WARNING: Support of Intel(R) Streaming SIMD Extensions 4.2 (Intel(R) SSE4.2) enabled only processors has been deprecated. Intel oneAPI Math Kernel Library 2025.0 will require Intel(R) Advanced Vector Extensions (Intel(R) AVX) instructions.\n",
      "Intel MKL WARNING: Support of Intel(R) Streaming SIMD Extensions 4.2 (Intel(R) SSE4.2) enabled only processors has been deprecated. Intel oneAPI Math Kernel Library 2025.0 will require Intel(R) Advanced Vector Extensions (Intel(R) AVX) instructions.\n"
     ]
    }
   ],
   "source": [
    "import pandas as pd\n",
    "import numpy as np\n",
    "import matplotlib.pyplot as plt\n",
    "import seaborn as sns\n",
    "from pandasql import sqldf\n",
    "from sklearn.model_selection import train_test_split\n",
    "from sklearn.pipeline import Pipeline\n",
    "from sklearn.compose import ColumnTransformer\n",
    "from sklearn.impute import SimpleImputer\n",
    "from sklearn.preprocessing import OneHotEncoder, StandardScaler\n",
    "from sklearn.linear_model import LinearRegression\n",
    "from sklearn.ensemble import RandomForestRegressor\n",
    "\n",
    "import os\n",
    "os.environ['KMP_DUPLICATE_LIB_OK']='True'\n",
    "from xgboost import XGBRegressor\n",
    "\n",
    "from sklearn.metrics import mean_squared_error"
   ]
  },
  {
   "cell_type": "markdown",
   "id": "55a77c52",
   "metadata": {},
   "source": [
    "Set a seed for random state."
   ]
  },
  {
   "cell_type": "code",
   "execution_count": 2,
   "id": "a7ca1642",
   "metadata": {},
   "outputs": [],
   "source": [
    "seed = 92308"
   ]
  },
  {
   "cell_type": "markdown",
   "id": "0ead029a",
   "metadata": {},
   "source": [
    "## Load and Clean Data"
   ]
  },
  {
   "cell_type": "markdown",
   "id": "dd15436a",
   "metadata": {},
   "source": [
    "The following data was scraped from Etsy between July 7 and July 11, 2023. (See [this notebook](web-scraping.ipynb) for more details.)"
   ]
  },
  {
   "cell_type": "code",
   "execution_count": 3,
   "id": "dfa309a9",
   "metadata": {},
   "outputs": [
    {
     "data": {
      "text/html": [
       "<div>\n",
       "<style scoped>\n",
       "    .dataframe tbody tr th:only-of-type {\n",
       "        vertical-align: middle;\n",
       "    }\n",
       "\n",
       "    .dataframe tbody tr th {\n",
       "        vertical-align: top;\n",
       "    }\n",
       "\n",
       "    .dataframe thead th {\n",
       "        text-align: right;\n",
       "    }\n",
       "</style>\n",
       "<table border=\"1\" class=\"dataframe\">\n",
       "  <thead>\n",
       "    <tr style=\"text-align: right;\">\n",
       "      <th></th>\n",
       "      <th>product_name</th>\n",
       "      <th>product_url</th>\n",
       "      <th>brand_type</th>\n",
       "      <th>brand_name</th>\n",
       "      <th>price</th>\n",
       "      <th>currency</th>\n",
       "      <th>position</th>\n",
       "      <th>avg_rating</th>\n",
       "      <th>review_count</th>\n",
       "      <th>product_description</th>\n",
       "      <th>...</th>\n",
       "      <th>later_days_to_arrival</th>\n",
       "      <th>current_date</th>\n",
       "      <th>name</th>\n",
       "      <th>shop_description</th>\n",
       "      <th>location</th>\n",
       "      <th>num_sales</th>\n",
       "      <th>num_admirers</th>\n",
       "      <th>avg_item_review_rounded</th>\n",
       "      <th>num_item_reviews</th>\n",
       "      <th>on_etsy_since</th>\n",
       "    </tr>\n",
       "    <tr>\n",
       "      <th>index</th>\n",
       "      <th></th>\n",
       "      <th></th>\n",
       "      <th></th>\n",
       "      <th></th>\n",
       "      <th></th>\n",
       "      <th></th>\n",
       "      <th></th>\n",
       "      <th></th>\n",
       "      <th></th>\n",
       "      <th></th>\n",
       "      <th></th>\n",
       "      <th></th>\n",
       "      <th></th>\n",
       "      <th></th>\n",
       "      <th></th>\n",
       "      <th></th>\n",
       "      <th></th>\n",
       "      <th></th>\n",
       "      <th></th>\n",
       "      <th></th>\n",
       "      <th></th>\n",
       "    </tr>\n",
       "  </thead>\n",
       "  <tbody>\n",
       "    <tr>\n",
       "      <th>29337</th>\n",
       "      <td>School start PDF template candle tattoo candle...</td>\n",
       "      <td>https://www.etsy.com/listing/1438910230/school...</td>\n",
       "      <td>Brand</td>\n",
       "      <td>HellooAnni</td>\n",
       "      <td>2.4</td>\n",
       "      <td>USD</td>\n",
       "      <td>10</td>\n",
       "      <td>4.9766</td>\n",
       "      <td>1363.0</td>\n",
       "      <td>This product is a downloadable digital file :)...</td>\n",
       "      <td>...</td>\n",
       "      <td>NaN</td>\n",
       "      <td>2023-07-11</td>\n",
       "      <td>HellooAnni</td>\n",
       "      <td>Lovingly Made Clothes &amp; Accessories &lt;3&lt;3</td>\n",
       "      <td>Emsdetten, Germany</td>\n",
       "      <td>7869.0</td>\n",
       "      <td>872.0</td>\n",
       "      <td>5.0</td>\n",
       "      <td>1375.0</td>\n",
       "      <td>2020.0</td>\n",
       "    </tr>\n",
       "    <tr>\n",
       "      <th>144399</th>\n",
       "      <td>Endless Summer, Soy Candle, Jar Candles, Wood ...</td>\n",
       "      <td>https://www.etsy.com/listing/1144400794/endles...</td>\n",
       "      <td>Brand</td>\n",
       "      <td>ChineshasCloset</td>\n",
       "      <td>16.0</td>\n",
       "      <td>USD</td>\n",
       "      <td>16</td>\n",
       "      <td>4.9691</td>\n",
       "      <td>2420.0</td>\n",
       "      <td>Berry sorbet with light hints of summer flower...</td>\n",
       "      <td>...</td>\n",
       "      <td>17 days 00:00:00</td>\n",
       "      <td>2023-07-11</td>\n",
       "      <td>ChineshasCloset</td>\n",
       "      <td>AWAKEN YOUR SENSES WITH AROMATIC SCENTED CANDL...</td>\n",
       "      <td>Nashville, Tennessee</td>\n",
       "      <td>8276.0</td>\n",
       "      <td>1172.0</td>\n",
       "      <td>5.0</td>\n",
       "      <td>2420.0</td>\n",
       "      <td>2017.0</td>\n",
       "    </tr>\n",
       "    <tr>\n",
       "      <th>147618</th>\n",
       "      <td>Mystery Item from our wonky or Overstock Shelf...</td>\n",
       "      <td>https://www.etsy.com/listing/1075221942/myster...</td>\n",
       "      <td>Brand</td>\n",
       "      <td>TeresaLynnsSimpleLux</td>\n",
       "      <td>12.0</td>\n",
       "      <td>USD</td>\n",
       "      <td>19</td>\n",
       "      <td>4.9475</td>\n",
       "      <td>25699.0</td>\n",
       "      <td>We literally don&amp;#39;t even know what you are ...</td>\n",
       "      <td>...</td>\n",
       "      <td>7 days 00:00:00</td>\n",
       "      <td>2023-07-11</td>\n",
       "      <td>TeresaLynnsSimpleLux</td>\n",
       "      <td>Pure Soy Wax Wooden Wick Candles and Skin Care</td>\n",
       "      <td>Monrovia, Indiana</td>\n",
       "      <td>87673.0</td>\n",
       "      <td>10218.0</td>\n",
       "      <td>5.0</td>\n",
       "      <td>25723.0</td>\n",
       "      <td>2013.0</td>\n",
       "    </tr>\n",
       "    <tr>\n",
       "      <th>16123</th>\n",
       "      <td>Light Teal Turquoise Rustic Unscented Pillar C...</td>\n",
       "      <td>https://www.etsy.com/listing/198199650/light-t...</td>\n",
       "      <td>Brand</td>\n",
       "      <td>StillWaterCandles</td>\n",
       "      <td>16.0</td>\n",
       "      <td>USD</td>\n",
       "      <td>44</td>\n",
       "      <td>4.9282</td>\n",
       "      <td>3750.0</td>\n",
       "      <td>This large light teal unscented rustic pillar ...</td>\n",
       "      <td>...</td>\n",
       "      <td>9 days 00:00:00</td>\n",
       "      <td>2023-07-11</td>\n",
       "      <td>StillWaterCandles</td>\n",
       "      <td>Handmade Rustic Pillar Candles  - Free Ship ov...</td>\n",
       "      <td>Missouri, United States</td>\n",
       "      <td>20080.0</td>\n",
       "      <td>3958.0</td>\n",
       "      <td>5.0</td>\n",
       "      <td>3752.0</td>\n",
       "      <td>2011.0</td>\n",
       "    </tr>\n",
       "    <tr>\n",
       "      <th>7595</th>\n",
       "      <td>Fall Candle / Pure Soy / Autumn Candle / Fall ...</td>\n",
       "      <td>https://www.etsy.com/listing/251445692/fall-ca...</td>\n",
       "      <td>Brand</td>\n",
       "      <td>TheDancingWick</td>\n",
       "      <td>15.0</td>\n",
       "      <td>USD</td>\n",
       "      <td>12</td>\n",
       "      <td>4.9323</td>\n",
       "      <td>29144.0</td>\n",
       "      <td>These candles are my version of the white pump...</td>\n",
       "      <td>...</td>\n",
       "      <td>10 days 00:00:00</td>\n",
       "      <td>2023-07-11</td>\n",
       "      <td>TheDancingWick</td>\n",
       "      <td>Personalized Soy Candles, Favors &amp; Sugar scrubs</td>\n",
       "      <td>Bixby, Oklahoma</td>\n",
       "      <td>150866.0</td>\n",
       "      <td>21155.0</td>\n",
       "      <td>5.0</td>\n",
       "      <td>29173.0</td>\n",
       "      <td>2011.0</td>\n",
       "    </tr>\n",
       "  </tbody>\n",
       "</table>\n",
       "<p>5 rows × 27 columns</p>\n",
       "</div>"
      ],
      "text/plain": [
       "                                             product_name  \\\n",
       "index                                                       \n",
       "29337   School start PDF template candle tattoo candle...   \n",
       "144399  Endless Summer, Soy Candle, Jar Candles, Wood ...   \n",
       "147618  Mystery Item from our wonky or Overstock Shelf...   \n",
       "16123   Light Teal Turquoise Rustic Unscented Pillar C...   \n",
       "7595    Fall Candle / Pure Soy / Autumn Candle / Fall ...   \n",
       "\n",
       "                                              product_url brand_type  \\\n",
       "index                                                                  \n",
       "29337   https://www.etsy.com/listing/1438910230/school...      Brand   \n",
       "144399  https://www.etsy.com/listing/1144400794/endles...      Brand   \n",
       "147618  https://www.etsy.com/listing/1075221942/myster...      Brand   \n",
       "16123   https://www.etsy.com/listing/198199650/light-t...      Brand   \n",
       "7595    https://www.etsy.com/listing/251445692/fall-ca...      Brand   \n",
       "\n",
       "                  brand_name  price currency  position  avg_rating  \\\n",
       "index                                                                \n",
       "29337             HellooAnni    2.4      USD        10      4.9766   \n",
       "144399       ChineshasCloset   16.0      USD        16      4.9691   \n",
       "147618  TeresaLynnsSimpleLux   12.0      USD        19      4.9475   \n",
       "16123      StillWaterCandles   16.0      USD        44      4.9282   \n",
       "7595          TheDancingWick   15.0      USD        12      4.9323   \n",
       "\n",
       "        review_count                                product_description  ...  \\\n",
       "index                                                                    ...   \n",
       "29337         1363.0  This product is a downloadable digital file :)...  ...   \n",
       "144399        2420.0  Berry sorbet with light hints of summer flower...  ...   \n",
       "147618       25699.0  We literally don&#39;t even know what you are ...  ...   \n",
       "16123         3750.0  This large light teal unscented rustic pillar ...  ...   \n",
       "7595         29144.0  These candles are my version of the white pump...  ...   \n",
       "\n",
       "       later_days_to_arrival current_date                  name  \\\n",
       "index                                                             \n",
       "29337                    NaN   2023-07-11            HellooAnni   \n",
       "144399      17 days 00:00:00   2023-07-11       ChineshasCloset   \n",
       "147618       7 days 00:00:00   2023-07-11  TeresaLynnsSimpleLux   \n",
       "16123        9 days 00:00:00   2023-07-11     StillWaterCandles   \n",
       "7595        10 days 00:00:00   2023-07-11        TheDancingWick   \n",
       "\n",
       "                                         shop_description  \\\n",
       "index                                                       \n",
       "29337            Lovingly Made Clothes & Accessories <3<3   \n",
       "144399  AWAKEN YOUR SENSES WITH AROMATIC SCENTED CANDL...   \n",
       "147618     Pure Soy Wax Wooden Wick Candles and Skin Care   \n",
       "16123   Handmade Rustic Pillar Candles  - Free Ship ov...   \n",
       "7595      Personalized Soy Candles, Favors & Sugar scrubs   \n",
       "\n",
       "                       location num_sales num_admirers  \\\n",
       "index                                                    \n",
       "29337        Emsdetten, Germany    7869.0        872.0   \n",
       "144399     Nashville, Tennessee    8276.0       1172.0   \n",
       "147618        Monrovia, Indiana   87673.0      10218.0   \n",
       "16123   Missouri, United States   20080.0       3958.0   \n",
       "7595            Bixby, Oklahoma  150866.0      21155.0   \n",
       "\n",
       "       avg_item_review_rounded num_item_reviews on_etsy_since  \n",
       "index                                                          \n",
       "29337                      5.0           1375.0        2020.0  \n",
       "144399                     5.0           2420.0        2017.0  \n",
       "147618                     5.0          25723.0        2013.0  \n",
       "16123                      5.0           3752.0        2011.0  \n",
       "7595                       5.0          29173.0        2011.0  \n",
       "\n",
       "[5 rows x 27 columns]"
      ]
     },
     "execution_count": 3,
     "metadata": {},
     "output_type": "execute_result"
    }
   ],
   "source": [
    "df = pd.read_csv('Data/proof_of_concept_model.csv', index_col=0)\n",
    "df.head()"
   ]
  },
  {
   "cell_type": "markdown",
   "id": "c8ef26b7",
   "metadata": {},
   "source": [
    "Check null values."
   ]
  },
  {
   "cell_type": "code",
   "execution_count": 4,
   "id": "9311fd61",
   "metadata": {},
   "outputs": [
    {
     "data": {
      "text/plain": [
       "product_name                     0\n",
       "product_url                      0\n",
       "brand_type                       0\n",
       "brand_name                       0\n",
       "price                            0\n",
       "currency                         0\n",
       "position                         0\n",
       "avg_rating                     274\n",
       "review_count                   274\n",
       "product_description              0\n",
       "seller_response_time          1359\n",
       "return_and_exchange_policy     159\n",
       "item_listing_date              145\n",
       "item_favorites                 305\n",
       "early_est_arrival              469\n",
       "later_est_arrival              469\n",
       "early_days_to_arrival          469\n",
       "later_days_to_arrival          469\n",
       "current_date                     0\n",
       "name                             0\n",
       "shop_description                 0\n",
       "location                         1\n",
       "num_sales                        0\n",
       "num_admirers                     0\n",
       "avg_item_review_rounded        272\n",
       "num_item_reviews               272\n",
       "on_etsy_since                    0\n",
       "dtype: int64"
      ]
     },
     "execution_count": 4,
     "metadata": {},
     "output_type": "execute_result"
    }
   ],
   "source": [
    "df.isna().sum()"
   ]
  },
  {
   "cell_type": "markdown",
   "id": "cf6f58e3",
   "metadata": {},
   "source": [
    "### Summary of Cleaning Steps to be Applied\n",
    "\n",
    "For brands with null review count and on_etsy_since = current year, set review count to 0.\n",
    "Then impute the remaining records with the mean review count (these sellers just haven't had a review in the last year.) Treat avg_item_review_rounded and num_item_reviews similarly.\n",
    "\n",
    "Impute average rating with the mean.\n",
    "\n",
    "Impute seller response time with the mean.\n",
    "\n",
    "Treat return & exchange policy as a categorical variable - null can be treated as a category (no policy listed.)\n",
    "\n",
    "Create a new feature from item listing date (days since listed.) Then impute missing values with the mean.\n",
    "\n",
    "Replace null values for item_favorites with 0. (If not listed on the page, no one has favorited the item, presumably. Etsy does not report \"0 item favorites.\")\n",
    "\n",
    "Impute early and late days to arrival with the mean.\n",
    "\n",
    "Fill in \"no_response_time_given\" for seller response time categories, and change names.\n",
    "\n",
    "Do not include location in baseline model, but could treat as a categorical variable later by classifying to regions (e.g. northeast United States, eastern Europe, etc.)\n",
    "\n",
    "Ultimately, do not include the following columns in the baseline model:\n",
    "- product name *\n",
    "- product url\n",
    "- brand type (all the same)\n",
    "- brand name *\n",
    "- price (this is the target)\n",
    "- currency (all the same)\n",
    "- position\n",
    "- product description *\n",
    "- item listing date (use days since listed instead)\n",
    "- early estimated arrival\n",
    "- later estimated arrival\n",
    "- current date\n",
    "- name (this is the name of the brand, from the brand data dataframe)\n",
    "- shop description *\n",
    "- location **\n",
    "\n",
    "\\* These features are NLP features that could be included later.\n",
    "\n",
    "\\** Location could be included later after mapping to broader categories (see above.)"
   ]
  },
  {
   "cell_type": "markdown",
   "id": "55c2ddb0",
   "metadata": {},
   "source": [
    "For brands with null review count and on_etsy_since = current year, set review count to 0. We will assume that these sellers have not received any reviews yet."
   ]
  },
  {
   "cell_type": "code",
   "execution_count": 4,
   "id": "e354772c",
   "metadata": {},
   "outputs": [],
   "source": [
    "df.loc[(df.review_count.isna())&(df.on_etsy_since==2023), 'review_count'] = 0"
   ]
  },
  {
   "cell_type": "markdown",
   "id": "56810110",
   "metadata": {},
   "source": [
    "Other sellers with a null review count likely have not received any reviews in the past year, or their shop has gone inactive since we scraped the initial product data. We will impute these missing values with the mean."
   ]
  },
  {
   "cell_type": "code",
   "execution_count": 6,
   "id": "1d9b53ac",
   "metadata": {},
   "outputs": [],
   "source": [
    "from sklearn.impute import SimpleImputer\n",
    "\n",
    "si = SimpleImputer()"
   ]
  },
  {
   "cell_type": "markdown",
   "id": "ee94cbed",
   "metadata": {},
   "source": [
    "To be imputed (with the mean):\n",
    "\n",
    "avg_rating, avg_item_review_rounded\n",
    "\n",
    "review_count, num_item_reviews"
   ]
  },
  {
   "cell_type": "markdown",
   "id": "848785d0",
   "metadata": {},
   "source": [
    "Repeat the above steps for avg_item_review and num_item_reviews."
   ]
  },
  {
   "cell_type": "code",
   "execution_count": 5,
   "id": "01537788",
   "metadata": {},
   "outputs": [],
   "source": [
    "df.loc[(df.num_item_reviews.isna())&(df.on_etsy_since==2023), 'num_item_reviews'] = 0"
   ]
  },
  {
   "cell_type": "markdown",
   "id": "e12e7ae0",
   "metadata": {},
   "source": [
    "Return and exchange policy can be categorized into: \"not accepted\", \"free\", \"cost\", \"date-restricted\", and \"not listed\"."
   ]
  },
  {
   "cell_type": "markdown",
   "id": "a96af61b",
   "metadata": {},
   "source": [
    "Replace null values with the string \"Not listed.\""
   ]
  },
  {
   "cell_type": "code",
   "execution_count": 6,
   "id": "ce5dcab6",
   "metadata": {},
   "outputs": [],
   "source": [
    "df.loc[df.return_and_exchange_policy.isna(), 'return_and_exchange_policy'] = \"Not listed\""
   ]
  },
  {
   "cell_type": "markdown",
   "id": "52da1c60",
   "metadata": {},
   "source": [
    "Map return and exchange policies to return and exchange policy categories."
   ]
  },
  {
   "cell_type": "code",
   "execution_count": 7,
   "id": "0b8d872a",
   "metadata": {},
   "outputs": [],
   "source": [
    "# all costs start with $; date restricted start with \"J\" or \"A\" for Jul or Aug\n",
    "df['return_and_exchange_policy_category'] = df.return_and_exchange_policy.map(lambda x: x[0])"
   ]
  },
  {
   "cell_type": "code",
   "execution_count": 8,
   "id": "20586b40",
   "metadata": {},
   "outputs": [],
   "source": [
    "df.loc[df.return_and_exchange_policy_category == 'J', 'return_and_exchange_policy_category'] = 'date_restricted'"
   ]
  },
  {
   "cell_type": "code",
   "execution_count": 9,
   "id": "1a267307",
   "metadata": {},
   "outputs": [],
   "source": [
    "df.loc[df.return_and_exchange_policy_category == 'A', 'return_and_exchange_policy_category'] = 'date_restricted'"
   ]
  },
  {
   "cell_type": "code",
   "execution_count": 10,
   "id": "261ff12e",
   "metadata": {},
   "outputs": [],
   "source": [
    "df.loc[df.return_and_exchange_policy_category == '$', 'return_and_exchange_policy_category'] = 'cost'"
   ]
  },
  {
   "cell_type": "code",
   "execution_count": 11,
   "id": "2b9cf3c9",
   "metadata": {},
   "outputs": [],
   "source": [
    "df.loc[df.return_and_exchange_policy == 'Not accepted', 'return_and_exchange_policy_category'] = 'not_accepted'"
   ]
  },
  {
   "cell_type": "code",
   "execution_count": 12,
   "id": "7a620309",
   "metadata": {},
   "outputs": [],
   "source": [
    "df.loc[df.return_and_exchange_policy == 'Free', 'return_and_exchange_policy_category'] = 'free'"
   ]
  },
  {
   "cell_type": "code",
   "execution_count": 13,
   "id": "9bea330c",
   "metadata": {},
   "outputs": [],
   "source": [
    "df.loc[df.return_and_exchange_policy == 'Not listed', 'return_and_exchange_policy_category'] = 'not_listed'"
   ]
  },
  {
   "cell_type": "code",
   "execution_count": 14,
   "id": "d2e656f7",
   "metadata": {},
   "outputs": [
    {
     "data": {
      "text/plain": [
       "not_accepted       2592\n",
       "date_restricted    1326\n",
       "cost               1316\n",
       "free                647\n",
       "not_listed          159\n",
       "Name: return_and_exchange_policy_category, dtype: int64"
      ]
     },
     "execution_count": 14,
     "metadata": {},
     "output_type": "execute_result"
    }
   ],
   "source": [
    "df.return_and_exchange_policy_category.value_counts()"
   ]
  },
  {
   "cell_type": "markdown",
   "id": "8ddba915",
   "metadata": {},
   "source": [
    "Get days since listing was first posted."
   ]
  },
  {
   "cell_type": "code",
   "execution_count": 15,
   "id": "e177d5ef",
   "metadata": {},
   "outputs": [],
   "source": [
    "df['days_since_listed'] = pd.to_datetime(df.current_date) - pd.to_datetime(df.item_listing_date)"
   ]
  },
  {
   "cell_type": "markdown",
   "id": "32704baa",
   "metadata": {},
   "source": [
    "Impute the above column with the mean."
   ]
  },
  {
   "cell_type": "markdown",
   "id": "95b91f17",
   "metadata": {},
   "source": [
    "Replace null values for \"item_favorites\" with 0. (This information is not displayed if an item has not been favorited by anyone, so it is null after scraping.)"
   ]
  },
  {
   "cell_type": "code",
   "execution_count": 16,
   "id": "6d0ccf8c",
   "metadata": {},
   "outputs": [],
   "source": [
    "df.loc[df.item_favorites.isna(), 'item_favorites'] = 0"
   ]
  },
  {
   "cell_type": "markdown",
   "id": "eb4c564e",
   "metadata": {},
   "source": [
    "Impute early and later days to arrival with the mean."
   ]
  },
  {
   "cell_type": "markdown",
   "id": "025eb832",
   "metadata": {},
   "source": [
    "Re-word categories for seller response time."
   ]
  },
  {
   "cell_type": "code",
   "execution_count": 18,
   "id": "1500fb30",
   "metadata": {
    "scrolled": true
   },
   "outputs": [
    {
     "data": {
      "text/plain": [
       "This seller usually responds within a few hours.    3138\n",
       "This seller usually responds within 24 hours.       1543\n",
       "Name: seller_response_time, dtype: int64"
      ]
     },
     "execution_count": 18,
     "metadata": {},
     "output_type": "execute_result"
    }
   ],
   "source": [
    "df.seller_response_time.value_counts()"
   ]
  },
  {
   "cell_type": "code",
   "execution_count": 17,
   "id": "bb4b11ab",
   "metadata": {},
   "outputs": [],
   "source": [
    "df.seller_response_time = \\\n",
    "df.seller_response_time.replace({'This seller usually responds within a few hours.': 'within_a_few_hours',\n",
    "                                 'This seller usually responds within 24 hours.': 'within_24_hours',\n",
    "                                 None: 'none_given'})"
   ]
  },
  {
   "cell_type": "code",
   "execution_count": 20,
   "id": "0e38f9b0",
   "metadata": {
    "scrolled": true
   },
   "outputs": [
    {
     "data": {
      "text/plain": [
       "within_a_few_hours    3138\n",
       "within_24_hours       1543\n",
       "none_given            1359\n",
       "Name: seller_response_time, dtype: int64"
      ]
     },
     "execution_count": 20,
     "metadata": {},
     "output_type": "execute_result"
    }
   ],
   "source": [
    "df.seller_response_time.value_counts()"
   ]
  },
  {
   "cell_type": "markdown",
   "id": "bc95954b",
   "metadata": {},
   "source": [
    "Convert datetime objects to float, to avoid issues imputing the mean."
   ]
  },
  {
   "cell_type": "markdown",
   "id": "1f9ef8ce",
   "metadata": {},
   "source": [
    "For early days to arrival and later days to arrival, give the number of days as an integer for all non-null values."
   ]
  },
  {
   "cell_type": "code",
   "execution_count": 18,
   "id": "4de5fb0d",
   "metadata": {},
   "outputs": [],
   "source": [
    "df.loc[~df.early_days_to_arrival.isna(), 'early_days_to_arrival'] = \\\n",
    "df.early_days_to_arrival.dropna().map(lambda x: int(' '.join(x.split()[:1])))"
   ]
  },
  {
   "cell_type": "code",
   "execution_count": 19,
   "id": "e99ed790",
   "metadata": {},
   "outputs": [],
   "source": [
    "df.loc[~df.later_days_to_arrival.isna(), 'later_days_to_arrival'] = \\\n",
    "df.later_days_to_arrival.dropna().map(lambda x: int(' '.join(x.split()[:1])))"
   ]
  },
  {
   "cell_type": "code",
   "execution_count": 20,
   "id": "865e51cd",
   "metadata": {},
   "outputs": [],
   "source": [
    "df.early_days_to_arrival = df.early_days_to_arrival.astype(float)\n",
    "df.later_days_to_arrival = df.later_days_to_arrival.astype(float)"
   ]
  },
  {
   "cell_type": "markdown",
   "id": "156041e2",
   "metadata": {},
   "source": [
    "Give the number of days since an item was listed as a float."
   ]
  },
  {
   "cell_type": "code",
   "execution_count": 21,
   "id": "ffa77056",
   "metadata": {},
   "outputs": [],
   "source": [
    "df.loc[~(df.days_since_listed.isna()), 'days_since_listed'] = \\\n",
    "df.days_since_listed.dropna().map(lambda x: int(str(x).split()[0]))"
   ]
  },
  {
   "cell_type": "code",
   "execution_count": 22,
   "id": "18171242",
   "metadata": {},
   "outputs": [],
   "source": [
    "df.loc[df.days_since_listed.map(lambda x: str(x)) == 'NaT', 'days_since_listed'] = None"
   ]
  },
  {
   "cell_type": "code",
   "execution_count": 23,
   "id": "fa1ea801",
   "metadata": {},
   "outputs": [],
   "source": [
    "df.days_since_listed = df.days_since_listed.astype(float)"
   ]
  },
  {
   "cell_type": "markdown",
   "id": "4ccaa4cc",
   "metadata": {},
   "source": [
    "## Correlation"
   ]
  },
  {
   "cell_type": "markdown",
   "id": "bfea37f0",
   "metadata": {},
   "source": [
    "Check for correlations between numerical features, and correlations of numerical features with the target."
   ]
  },
  {
   "cell_type": "code",
   "execution_count": 26,
   "id": "4b8f0ae7",
   "metadata": {},
   "outputs": [
    {
     "name": "stderr",
     "output_type": "stream",
     "text": [
      "/var/folders/n1/06kwj40j2q1g58ss6ym4_57h0000gn/T/ipykernel_4584/488310907.py:1: FutureWarning: The default value of numeric_only in DataFrame.corr is deprecated. In a future version, it will default to False. Select only valid columns or specify the value of numeric_only to silence this warning.\n",
      "  sns.heatmap(df.corr(), annot=True, fmt='.2g', cmap='coolwarm');\n"
     ]
    },
    {
     "data": {
      "image/png": "[encoded data removed]",
      "text/plain": [
       "<Figure size 640x480 with 2 Axes>"
      ]
     },
     "metadata": {},
     "output_type": "display_data"
    }
   ],
   "source": [
    "sns.heatmap(df.corr(), annot=True, fmt='.2g', cmap='coolwarm');"
   ]
  },
  {
   "cell_type": "markdown",
   "id": "95711467",
   "metadata": {},
   "source": [
    "The heatmap will be easier to read if we remove the diagonal and lower \"triangle\" of the matrix (to avoid extraneous and repetitive information, respectively.)"
   ]
  },
  {
   "cell_type": "code",
   "execution_count": 25,
   "id": "1a916160",
   "metadata": {},
   "outputs": [
    {
     "name": "stderr",
     "output_type": "stream",
     "text": [
      "/var/folders/n1/06kwj40j2q1g58ss6ym4_57h0000gn/T/ipykernel_4722/274361138.py:1: FutureWarning: The default value of numeric_only in DataFrame.corr is deprecated. In a future version, it will default to False. Select only valid columns or specify the value of numeric_only to silence this warning.\n",
      "  upperMatrix = df.corr().where(np.triu(np.ones(df.corr().shape), k=1).astype(bool))\n"
     ]
    }
   ],
   "source": [
    "upperMatrix = df.corr().where(np.triu(np.ones(df.corr().shape), k=1).astype(bool))"
   ]
  },
  {
   "cell_type": "code",
   "execution_count": 26,
   "id": "54432d7c",
   "metadata": {},
   "outputs": [
    {
     "data": {
      "image/png": "[encoded data removed]",
      "text/plain": [
       "<Figure size 960x720 with 2 Axes>"
      ]
     },
     "metadata": {},
     "output_type": "display_data"
    }
   ],
   "source": [
    "fig, ax = plt.subplots(figsize=(9.6, 7.2))\n",
    "\n",
    "# print(fig.get_size_inches())\n",
    "\n",
    "sns.heatmap(upperMatrix, annot=True, fmt='.2g', cmap='coolwarm', ax=ax);"
   ]
  },
  {
   "cell_type": "markdown",
   "id": "a632633f",
   "metadata": {},
   "source": [
    "Review count is strongly correlated with number of sales, number of admirers and number of item reviews.\n",
    "\n",
    "The number of favorites that an item has is also strongly correlated to the above four features, although substantially less so.\n",
    "\n",
    "Unfortunately, very few numerical features in the dataset have a strong correlation to price. :("
   ]
  },
  {
   "cell_type": "markdown",
   "id": "7b3d692c",
   "metadata": {},
   "source": [
    "### Categorical Features"
   ]
  },
  {
   "cell_type": "markdown",
   "id": "7bb25035",
   "metadata": {},
   "source": [
    "How does response time affect price?"
   ]
  },
  {
   "cell_type": "code",
   "execution_count": 29,
   "id": "3cb01c42",
   "metadata": {},
   "outputs": [
    {
     "name": "stdout",
     "output_type": "stream",
     "text": [
      "Response time: none_given\n",
      "Average (mean) price: 17.6\n",
      "Standard deviation: 12.58\n",
      "\n",
      "\n",
      "Response time: within_24_hours\n",
      "Average (mean) price: 24.42\n",
      "Standard deviation: 15.69\n",
      "\n",
      "\n",
      "Response time: within_a_few_hours\n",
      "Average (mean) price: 17.92\n",
      "Standard deviation: 10.54\n",
      "\n",
      "\n"
     ]
    },
    {
     "data": {
      "image/png": "[encoded data removed]",
      "text/plain": [
       "<Figure size 1200x400 with 3 Axes>"
      ]
     },
     "metadata": {},
     "output_type": "display_data"
    }
   ],
   "source": [
    "fig, ax = plt.subplots(ncols=3, figsize=(12, 4), sharex=True)\n",
    "i=0\n",
    "\n",
    "for response_time in np.unique(df.seller_response_time):\n",
    "\n",
    "    print(f'Response time: {response_time}')\n",
    "    print(f\"Average (mean) price: {round(np.mean(df.loc[df.seller_response_time==response_time, 'price']), 2)}\")\n",
    "    print(f\"Standard deviation: {round(np.std(df.loc[df.seller_response_time==response_time, 'price']), 2)}\")\n",
    "    sns.histplot(df.loc[df.seller_response_time==response_time, 'price'], ax=ax[i])\n",
    "    ax[i].set_title(f'Sellers who respond {response_time}');\n",
    "    i+=1\n",
    "    print('\\n')"
   ]
  },
  {
   "cell_type": "markdown",
   "id": "27881627",
   "metadata": {},
   "source": [
    "How does a listed return and exchange policy affect price?"
   ]
  },
  {
   "cell_type": "code",
   "execution_count": 30,
   "id": "0c51016b",
   "metadata": {},
   "outputs": [
    {
     "name": "stdout",
     "output_type": "stream",
     "text": [
      "Response time: within_a_few_hours\n",
      "Average (mean) price: 16.68\n",
      "Standard deviation: 6.52\n",
      "\n",
      "\n",
      "Response time: within_a_few_hours\n",
      "Average (mean) price: 17.43\n",
      "Standard deviation: 8.45\n",
      "\n",
      "\n",
      "Response time: within_a_few_hours\n",
      "Average (mean) price: 20.35\n",
      "Standard deviation: 14.63\n",
      "\n",
      "\n",
      "Response time: within_a_few_hours\n",
      "Average (mean) price: 21.18\n",
      "Standard deviation: 13.85\n",
      "\n",
      "\n",
      "Response time: within_a_few_hours\n",
      "Average (mean) price: 29.52\n",
      "Standard deviation: 32.49\n",
      "\n",
      "\n"
     ]
    },
    {
     "data": {
      "image/png": "[encoded data removed]",
      "text/plain": [
       "<Figure size 400x1200 with 5 Axes>"
      ]
     },
     "metadata": {},
     "output_type": "display_data"
    }
   ],
   "source": [
    "fig, ax = plt.subplots(nrows=5, figsize=(4, 12), sharex=True)\n",
    "i=0\n",
    "\n",
    "for policy in np.unique(df.return_and_exchange_policy_category):\n",
    "\n",
    "    print(f'Response time: {response_time}')\n",
    "    print(f\"Average (mean) price: {round(np.mean(df.loc[df.return_and_exchange_policy_category==policy, 'price']), 2)}\")\n",
    "    print(f\"Standard deviation: {round(np.std(df.loc[df.return_and_exchange_policy_category==policy, 'price']), 2)}\")\n",
    "    sns.histplot(df.loc[df.return_and_exchange_policy_category==policy, 'price'], ax=ax[i])\n",
    "    ax[i].set_title(f'Return&exchange policy: {policy}');\n",
    "    i+=1\n",
    "    print('\\n')"
   ]
  },
  {
   "cell_type": "markdown",
   "id": "d8f01cb7",
   "metadata": {},
   "source": [
    "## Distribution of Target"
   ]
  },
  {
   "cell_type": "code",
   "execution_count": 31,
   "id": "05b17562",
   "metadata": {},
   "outputs": [
    {
     "data": {
      "image/png": "[encoded data removed]",
      "text/plain": [
       "<Figure size 640x480 with 1 Axes>"
      ]
     },
     "metadata": {},
     "output_type": "display_data"
    }
   ],
   "source": [
    "df['price'].plot(kind='hist');"
   ]
  },
  {
   "cell_type": "code",
   "execution_count": 32,
   "id": "fc015925",
   "metadata": {},
   "outputs": [
    {
     "name": "stderr",
     "output_type": "stream",
     "text": [
      "/Users/user/opt/anaconda3/envs/etsy-demand-model/lib/python3.11/site-packages/seaborn/_decorators.py:36: FutureWarning: Pass the following variable as a keyword arg: x. From version 0.12, the only valid positional argument will be `data`, and passing other arguments without an explicit keyword will result in an error or misinterpretation.\n",
      "  warnings.warn(\n"
     ]
    },
    {
     "data": {
      "image/png": "[encoded data removed]",
      "text/plain": [
       "<Figure size 640x480 with 1 Axes>"
      ]
     },
     "metadata": {},
     "output_type": "display_data"
    }
   ],
   "source": [
    "sns.boxplot(df['price']);"
   ]
  },
  {
   "cell_type": "code",
   "execution_count": 33,
   "id": "382d1169",
   "metadata": {},
   "outputs": [
    {
     "data": {
      "text/plain": [
       "count    6040.000000\n",
       "mean       19.505818\n",
       "std        12.828481\n",
       "min         1.020000\n",
       "25%        13.990000\n",
       "50%        15.000000\n",
       "75%        20.990000\n",
       "max       350.000000\n",
       "Name: price, dtype: float64"
      ]
     },
     "execution_count": 33,
     "metadata": {},
     "output_type": "execute_result"
    }
   ],
   "source": [
    "df['price'].describe()"
   ]
  },
  {
   "cell_type": "markdown",
   "id": "1eeefcb6",
   "metadata": {},
   "source": [
    "Most candles are priced within a very narrow range. It might be beneficial to remove outliers before modeling."
   ]
  },
  {
   "cell_type": "markdown",
   "id": "46ddea51",
   "metadata": {},
   "source": [
    "## Remove Outliers\n",
    "\n",
    "for price"
   ]
  },
  {
   "cell_type": "markdown",
   "id": "a3f24c4a",
   "metadata": {},
   "source": [
    "Standard formula:\n",
    "\n",
    "Compute IQR.\n",
    "\n",
    "Compute minimum value: Q1 - 1.5\\*IQR\n",
    "\n",
    "Compute maximum value: Q3 + 1.5\\*IQR\n",
    "\n",
    "Find and inspect records which are outliers (price < minimum value) | (price > maximum value).\n",
    "\n",
    "Remove those records from dataframe."
   ]
  },
  {
   "cell_type": "code",
   "execution_count": 27,
   "id": "0c8d610d",
   "metadata": {},
   "outputs": [
    {
     "data": {
      "text/plain": [
       "6.999999999999998"
      ]
     },
     "execution_count": 27,
     "metadata": {},
     "output_type": "execute_result"
    }
   ],
   "source": [
    "price_IQR = df.price.quantile(0.75) - df.price.quantile(0.25)\n",
    "price_IQR"
   ]
  },
  {
   "cell_type": "code",
   "execution_count": 28,
   "id": "171ca16e",
   "metadata": {},
   "outputs": [
    {
     "data": {
      "text/plain": [
       "3.4900000000000038"
      ]
     },
     "execution_count": 28,
     "metadata": {},
     "output_type": "execute_result"
    }
   ],
   "source": [
    "price_min_acceptable_value = df.price.quantile(0.25) - 1.5*price_IQR\n",
    "price_min_acceptable_value"
   ]
  },
  {
   "cell_type": "code",
   "execution_count": 29,
   "id": "506ffb0d",
   "metadata": {},
   "outputs": [
    {
     "data": {
      "text/plain": [
       "31.489999999999995"
      ]
     },
     "execution_count": 29,
     "metadata": {},
     "output_type": "execute_result"
    }
   ],
   "source": [
    "price_max_acceptable_value = df.price.quantile(.75) + 1.5*price_IQR\n",
    "price_max_acceptable_value"
   ]
  },
  {
   "cell_type": "code",
   "execution_count": 37,
   "id": "52cc1831",
   "metadata": {},
   "outputs": [
    {
     "data": {
      "text/html": [
       "<div>\n",
       "<style scoped>\n",
       "    .dataframe tbody tr th:only-of-type {\n",
       "        vertical-align: middle;\n",
       "    }\n",
       "\n",
       "    .dataframe tbody tr th {\n",
       "        vertical-align: top;\n",
       "    }\n",
       "\n",
       "    .dataframe thead th {\n",
       "        text-align: right;\n",
       "    }\n",
       "</style>\n",
       "<table border=\"1\" class=\"dataframe\">\n",
       "  <thead>\n",
       "    <tr style=\"text-align: right;\">\n",
       "      <th></th>\n",
       "      <th>product_name</th>\n",
       "      <th>product_url</th>\n",
       "      <th>brand_type</th>\n",
       "      <th>brand_name</th>\n",
       "      <th>price</th>\n",
       "      <th>currency</th>\n",
       "      <th>position</th>\n",
       "      <th>avg_rating</th>\n",
       "      <th>review_count</th>\n",
       "      <th>product_description</th>\n",
       "      <th>...</th>\n",
       "      <th>name</th>\n",
       "      <th>shop_description</th>\n",
       "      <th>location</th>\n",
       "      <th>num_sales</th>\n",
       "      <th>num_admirers</th>\n",
       "      <th>avg_item_review_rounded</th>\n",
       "      <th>num_item_reviews</th>\n",
       "      <th>on_etsy_since</th>\n",
       "      <th>return_and_exchange_policy_category</th>\n",
       "      <th>days_since_listed</th>\n",
       "    </tr>\n",
       "    <tr>\n",
       "      <th>index</th>\n",
       "      <th></th>\n",
       "      <th></th>\n",
       "      <th></th>\n",
       "      <th></th>\n",
       "      <th></th>\n",
       "      <th></th>\n",
       "      <th></th>\n",
       "      <th></th>\n",
       "      <th></th>\n",
       "      <th></th>\n",
       "      <th></th>\n",
       "      <th></th>\n",
       "      <th></th>\n",
       "      <th></th>\n",
       "      <th></th>\n",
       "      <th></th>\n",
       "      <th></th>\n",
       "      <th></th>\n",
       "      <th></th>\n",
       "      <th></th>\n",
       "      <th></th>\n",
       "    </tr>\n",
       "  </thead>\n",
       "  <tbody>\n",
       "    <tr>\n",
       "      <th>29337</th>\n",
       "      <td>School start PDF template candle tattoo candle...</td>\n",
       "      <td>https://www.etsy.com/listing/1438910230/school...</td>\n",
       "      <td>Brand</td>\n",
       "      <td>HellooAnni</td>\n",
       "      <td>2.40</td>\n",
       "      <td>USD</td>\n",
       "      <td>10</td>\n",
       "      <td>4.9766</td>\n",
       "      <td>1363.0</td>\n",
       "      <td>This product is a downloadable digital file :)...</td>\n",
       "      <td>...</td>\n",
       "      <td>HellooAnni</td>\n",
       "      <td>Lovingly Made Clothes &amp; Accessories &lt;3&lt;3</td>\n",
       "      <td>Emsdetten, Germany</td>\n",
       "      <td>7869.0</td>\n",
       "      <td>872.0</td>\n",
       "      <td>5.0</td>\n",
       "      <td>1375.0</td>\n",
       "      <td>2020.0</td>\n",
       "      <td>not_listed</td>\n",
       "      <td>2.0</td>\n",
       "    </tr>\n",
       "    <tr>\n",
       "      <th>94936</th>\n",
       "      <td>Personalized Friend Gift, Gift For Her, Friend...</td>\n",
       "      <td>https://www.etsy.com/listing/562718695/persona...</td>\n",
       "      <td>Brand</td>\n",
       "      <td>TheShabbyWick</td>\n",
       "      <td>33.00</td>\n",
       "      <td>USD</td>\n",
       "      <td>41</td>\n",
       "      <td>4.9313</td>\n",
       "      <td>5385.0</td>\n",
       "      <td>Personalized Friend Gift Gift For Her Friend B...</td>\n",
       "      <td>...</td>\n",
       "      <td>TheShabbyWick</td>\n",
       "      <td>A Candle For Every Moment</td>\n",
       "      <td>Dripping Springs, Texas</td>\n",
       "      <td>26354.0</td>\n",
       "      <td>3173.0</td>\n",
       "      <td>5.0</td>\n",
       "      <td>5387.0</td>\n",
       "      <td>2016.0</td>\n",
       "      <td>not_accepted</td>\n",
       "      <td>3.0</td>\n",
       "    </tr>\n",
       "    <tr>\n",
       "      <th>156692</th>\n",
       "      <td>One Dozen 6&amp;quot; Tall Hand Rolled Pure Beeswa...</td>\n",
       "      <td>https://www.etsy.com/listing/483834821/one-doz...</td>\n",
       "      <td>Brand</td>\n",
       "      <td>BearCreekCandleCo</td>\n",
       "      <td>34.00</td>\n",
       "      <td>USD</td>\n",
       "      <td>21</td>\n",
       "      <td>4.9348</td>\n",
       "      <td>110.0</td>\n",
       "      <td>Our lovely beeswax honeycomb taper candles are...</td>\n",
       "      <td>...</td>\n",
       "      <td>BearCreekCandleCo</td>\n",
       "      <td>Pure Beeswax Honeycomb Candles. Hand-made in A...</td>\n",
       "      <td>Asheville, North Carolina</td>\n",
       "      <td>451.0</td>\n",
       "      <td>109.0</td>\n",
       "      <td>5.0</td>\n",
       "      <td>110.0</td>\n",
       "      <td>2014.0</td>\n",
       "      <td>date_restricted</td>\n",
       "      <td>2.0</td>\n",
       "    </tr>\n",
       "    <tr>\n",
       "      <th>28027</th>\n",
       "      <td>A Personalised Steel Love Heart T Light~ 11th ...</td>\n",
       "      <td>https://www.etsy.com/listing/552227465/a-perso...</td>\n",
       "      <td>Brand</td>\n",
       "      <td>JonsCountryIronwork</td>\n",
       "      <td>56.22</td>\n",
       "      <td>USD</td>\n",
       "      <td>44</td>\n",
       "      <td>4.9211</td>\n",
       "      <td>1660.0</td>\n",
       "      <td>A Single &amp;#39;Personalised Heart&amp;#39; Steel T ...</td>\n",
       "      <td>...</td>\n",
       "      <td>JonsCountryIronwork</td>\n",
       "      <td>Jons Country Ironwork</td>\n",
       "      <td>Isle of Man</td>\n",
       "      <td>13929.0</td>\n",
       "      <td>1256.0</td>\n",
       "      <td>5.0</td>\n",
       "      <td>1667.0</td>\n",
       "      <td>2014.0</td>\n",
       "      <td>cost</td>\n",
       "      <td>2.0</td>\n",
       "    </tr>\n",
       "    <tr>\n",
       "      <th>14913</th>\n",
       "      <td>Personalized Friend Gift, Gift For Her, Friend...</td>\n",
       "      <td>https://www.etsy.com/listing/562718695/persona...</td>\n",
       "      <td>Brand</td>\n",
       "      <td>TheShabbyWick</td>\n",
       "      <td>33.00</td>\n",
       "      <td>USD</td>\n",
       "      <td>34</td>\n",
       "      <td>4.9313</td>\n",
       "      <td>5385.0</td>\n",
       "      <td>Personalized Friend Gift Gift For Her Friend B...</td>\n",
       "      <td>...</td>\n",
       "      <td>TheShabbyWick</td>\n",
       "      <td>A Candle For Every Moment</td>\n",
       "      <td>Dripping Springs, Texas</td>\n",
       "      <td>26354.0</td>\n",
       "      <td>3173.0</td>\n",
       "      <td>5.0</td>\n",
       "      <td>5387.0</td>\n",
       "      <td>2016.0</td>\n",
       "      <td>not_accepted</td>\n",
       "      <td>3.0</td>\n",
       "    </tr>\n",
       "    <tr>\n",
       "      <th>...</th>\n",
       "      <td>...</td>\n",
       "      <td>...</td>\n",
       "      <td>...</td>\n",
       "      <td>...</td>\n",
       "      <td>...</td>\n",
       "      <td>...</td>\n",
       "      <td>...</td>\n",
       "      <td>...</td>\n",
       "      <td>...</td>\n",
       "      <td>...</td>\n",
       "      <td>...</td>\n",
       "      <td>...</td>\n",
       "      <td>...</td>\n",
       "      <td>...</td>\n",
       "      <td>...</td>\n",
       "      <td>...</td>\n",
       "      <td>...</td>\n",
       "      <td>...</td>\n",
       "      <td>...</td>\n",
       "      <td>...</td>\n",
       "      <td>...</td>\n",
       "    </tr>\n",
       "    <tr>\n",
       "      <th>151168</th>\n",
       "      <td>One Dozen 6&amp;quot; Tall Hand Rolled Pure Beeswa...</td>\n",
       "      <td>https://www.etsy.com/listing/483834821/one-doz...</td>\n",
       "      <td>Brand</td>\n",
       "      <td>BearCreekCandleCo</td>\n",
       "      <td>34.00</td>\n",
       "      <td>USD</td>\n",
       "      <td>17</td>\n",
       "      <td>4.9348</td>\n",
       "      <td>110.0</td>\n",
       "      <td>Our lovely beeswax honeycomb taper candles are...</td>\n",
       "      <td>...</td>\n",
       "      <td>BearCreekCandleCo</td>\n",
       "      <td>Pure Beeswax Honeycomb Candles. Hand-made in A...</td>\n",
       "      <td>Asheville, North Carolina</td>\n",
       "      <td>451.0</td>\n",
       "      <td>109.0</td>\n",
       "      <td>5.0</td>\n",
       "      <td>110.0</td>\n",
       "      <td>2014.0</td>\n",
       "      <td>cost</td>\n",
       "      <td>2.0</td>\n",
       "    </tr>\n",
       "    <tr>\n",
       "      <th>44137</th>\n",
       "      <td>beeswax Hanukkah Menorah candle - Hanukkah can...</td>\n",
       "      <td>https://www.etsy.com/listing/260343047/beeswax...</td>\n",
       "      <td>Brand</td>\n",
       "      <td>MileEndSoapandCandle</td>\n",
       "      <td>35.34</td>\n",
       "      <td>USD</td>\n",
       "      <td>26</td>\n",
       "      <td>4.9574</td>\n",
       "      <td>417.0</td>\n",
       "      <td>Hanukkah candles and menorah all in one!\\n\\nCe...</td>\n",
       "      <td>...</td>\n",
       "      <td>MileEndSoapandCandle</td>\n",
       "      <td>Botanical soap and pure beeswax candles</td>\n",
       "      <td>Montreal, Canada</td>\n",
       "      <td>2023.0</td>\n",
       "      <td>1069.0</td>\n",
       "      <td>5.0</td>\n",
       "      <td>417.0</td>\n",
       "      <td>2009.0</td>\n",
       "      <td>cost</td>\n",
       "      <td>77.0</td>\n",
       "    </tr>\n",
       "    <tr>\n",
       "      <th>121986</th>\n",
       "      <td>Unscented Soy Tealights 100 Pack, Handmade, No...</td>\n",
       "      <td>https://www.etsy.com/listing/76662115/unscente...</td>\n",
       "      <td>Brand</td>\n",
       "      <td>southernmadecandle</td>\n",
       "      <td>45.90</td>\n",
       "      <td>USD</td>\n",
       "      <td>19</td>\n",
       "      <td>4.9855</td>\n",
       "      <td>1720.0</td>\n",
       "      <td>Unscented (no fragrance oil added) Soy Clear P...</td>\n",
       "      <td>...</td>\n",
       "      <td>southernmadecandle</td>\n",
       "      <td>Southern Made Candles LLC</td>\n",
       "      <td>Weaverville, North Carolina</td>\n",
       "      <td>4825.0</td>\n",
       "      <td>758.0</td>\n",
       "      <td>5.0</td>\n",
       "      <td>1720.0</td>\n",
       "      <td>2011.0</td>\n",
       "      <td>free</td>\n",
       "      <td>6.0</td>\n",
       "    </tr>\n",
       "    <tr>\n",
       "      <th>66415</th>\n",
       "      <td>beeswax Hanukkah Menorah candle - Hanukkah can...</td>\n",
       "      <td>https://www.etsy.com/listing/260343047/beeswax...</td>\n",
       "      <td>Brand</td>\n",
       "      <td>MileEndSoapandCandle</td>\n",
       "      <td>35.34</td>\n",
       "      <td>USD</td>\n",
       "      <td>32</td>\n",
       "      <td>4.9574</td>\n",
       "      <td>417.0</td>\n",
       "      <td>Hanukkah candles and menorah all in one!\\n\\nCe...</td>\n",
       "      <td>...</td>\n",
       "      <td>MileEndSoapandCandle</td>\n",
       "      <td>Botanical soap and pure beeswax candles</td>\n",
       "      <td>Montreal, Canada</td>\n",
       "      <td>2023.0</td>\n",
       "      <td>1069.0</td>\n",
       "      <td>5.0</td>\n",
       "      <td>417.0</td>\n",
       "      <td>2009.0</td>\n",
       "      <td>cost</td>\n",
       "      <td>77.0</td>\n",
       "    </tr>\n",
       "    <tr>\n",
       "      <th>55720</th>\n",
       "      <td>Hand Gesture Candle F*ck You. Handmade Candle....</td>\n",
       "      <td>https://www.etsy.com/listing/126911167/hand-ge...</td>\n",
       "      <td>Brand</td>\n",
       "      <td>CandleHandShop</td>\n",
       "      <td>51.43</td>\n",
       "      <td>USD</td>\n",
       "      <td>41</td>\n",
       "      <td>4.8519</td>\n",
       "      <td>133.0</td>\n",
       "      <td>One f*cking gesture to express it all – your m...</td>\n",
       "      <td>...</td>\n",
       "      <td>CandleHandShop</td>\n",
       "      <td>Unique hand gesture candles and yummy candle cans</td>\n",
       "      <td>Vilnius, Lithuania</td>\n",
       "      <td>1001.0</td>\n",
       "      <td>936.0</td>\n",
       "      <td>5.0</td>\n",
       "      <td>133.0</td>\n",
       "      <td>2015.0</td>\n",
       "      <td>date_restricted</td>\n",
       "      <td>63.0</td>\n",
       "    </tr>\n",
       "  </tbody>\n",
       "</table>\n",
       "<p>801 rows × 29 columns</p>\n",
       "</div>"
      ],
      "text/plain": [
       "                                             product_name  \\\n",
       "index                                                       \n",
       "29337   School start PDF template candle tattoo candle...   \n",
       "94936   Personalized Friend Gift, Gift For Her, Friend...   \n",
       "156692  One Dozen 6&quot; Tall Hand Rolled Pure Beeswa...   \n",
       "28027   A Personalised Steel Love Heart T Light~ 11th ...   \n",
       "14913   Personalized Friend Gift, Gift For Her, Friend...   \n",
       "...                                                   ...   \n",
       "151168  One Dozen 6&quot; Tall Hand Rolled Pure Beeswa...   \n",
       "44137   beeswax Hanukkah Menorah candle - Hanukkah can...   \n",
       "121986  Unscented Soy Tealights 100 Pack, Handmade, No...   \n",
       "66415   beeswax Hanukkah Menorah candle - Hanukkah can...   \n",
       "55720   Hand Gesture Candle F*ck You. Handmade Candle....   \n",
       "\n",
       "                                              product_url brand_type  \\\n",
       "index                                                                  \n",
       "29337   https://www.etsy.com/listing/1438910230/school...      Brand   \n",
       "94936   https://www.etsy.com/listing/562718695/persona...      Brand   \n",
       "156692  https://www.etsy.com/listing/483834821/one-doz...      Brand   \n",
       "28027   https://www.etsy.com/listing/552227465/a-perso...      Brand   \n",
       "14913   https://www.etsy.com/listing/562718695/persona...      Brand   \n",
       "...                                                   ...        ...   \n",
       "151168  https://www.etsy.com/listing/483834821/one-doz...      Brand   \n",
       "44137   https://www.etsy.com/listing/260343047/beeswax...      Brand   \n",
       "121986  https://www.etsy.com/listing/76662115/unscente...      Brand   \n",
       "66415   https://www.etsy.com/listing/260343047/beeswax...      Brand   \n",
       "55720   https://www.etsy.com/listing/126911167/hand-ge...      Brand   \n",
       "\n",
       "                  brand_name  price currency  position  avg_rating  \\\n",
       "index                                                                \n",
       "29337             HellooAnni   2.40      USD        10      4.9766   \n",
       "94936          TheShabbyWick  33.00      USD        41      4.9313   \n",
       "156692     BearCreekCandleCo  34.00      USD        21      4.9348   \n",
       "28027    JonsCountryIronwork  56.22      USD        44      4.9211   \n",
       "14913          TheShabbyWick  33.00      USD        34      4.9313   \n",
       "...                      ...    ...      ...       ...         ...   \n",
       "151168     BearCreekCandleCo  34.00      USD        17      4.9348   \n",
       "44137   MileEndSoapandCandle  35.34      USD        26      4.9574   \n",
       "121986    southernmadecandle  45.90      USD        19      4.9855   \n",
       "66415   MileEndSoapandCandle  35.34      USD        32      4.9574   \n",
       "55720         CandleHandShop  51.43      USD        41      4.8519   \n",
       "\n",
       "        review_count                                product_description  ...  \\\n",
       "index                                                                    ...   \n",
       "29337         1363.0  This product is a downloadable digital file :)...  ...   \n",
       "94936         5385.0  Personalized Friend Gift Gift For Her Friend B...  ...   \n",
       "156692         110.0  Our lovely beeswax honeycomb taper candles are...  ...   \n",
       "28027         1660.0  A Single &#39;Personalised Heart&#39; Steel T ...  ...   \n",
       "14913         5385.0  Personalized Friend Gift Gift For Her Friend B...  ...   \n",
       "...              ...                                                ...  ...   \n",
       "151168         110.0  Our lovely beeswax honeycomb taper candles are...  ...   \n",
       "44137          417.0  Hanukkah candles and menorah all in one!\\n\\nCe...  ...   \n",
       "121986        1720.0  Unscented (no fragrance oil added) Soy Clear P...  ...   \n",
       "66415          417.0  Hanukkah candles and menorah all in one!\\n\\nCe...  ...   \n",
       "55720          133.0  One f*cking gesture to express it all – your m...  ...   \n",
       "\n",
       "                        name  \\\n",
       "index                          \n",
       "29337             HellooAnni   \n",
       "94936          TheShabbyWick   \n",
       "156692     BearCreekCandleCo   \n",
       "28027    JonsCountryIronwork   \n",
       "14913          TheShabbyWick   \n",
       "...                      ...   \n",
       "151168     BearCreekCandleCo   \n",
       "44137   MileEndSoapandCandle   \n",
       "121986    southernmadecandle   \n",
       "66415   MileEndSoapandCandle   \n",
       "55720         CandleHandShop   \n",
       "\n",
       "                                         shop_description  \\\n",
       "index                                                       \n",
       "29337            Lovingly Made Clothes & Accessories <3<3   \n",
       "94936                           A Candle For Every Moment   \n",
       "156692  Pure Beeswax Honeycomb Candles. Hand-made in A...   \n",
       "28027                               Jons Country Ironwork   \n",
       "14913                           A Candle For Every Moment   \n",
       "...                                                   ...   \n",
       "151168  Pure Beeswax Honeycomb Candles. Hand-made in A...   \n",
       "44137             Botanical soap and pure beeswax candles   \n",
       "121986                          Southern Made Candles LLC   \n",
       "66415             Botanical soap and pure beeswax candles   \n",
       "55720   Unique hand gesture candles and yummy candle cans   \n",
       "\n",
       "                           location  num_sales num_admirers  \\\n",
       "index                                                         \n",
       "29337            Emsdetten, Germany     7869.0        872.0   \n",
       "94936       Dripping Springs, Texas    26354.0       3173.0   \n",
       "156692    Asheville, North Carolina      451.0        109.0   \n",
       "28027                   Isle of Man    13929.0       1256.0   \n",
       "14913       Dripping Springs, Texas    26354.0       3173.0   \n",
       "...                             ...        ...          ...   \n",
       "151168    Asheville, North Carolina      451.0        109.0   \n",
       "44137              Montreal, Canada     2023.0       1069.0   \n",
       "121986  Weaverville, North Carolina     4825.0        758.0   \n",
       "66415              Montreal, Canada     2023.0       1069.0   \n",
       "55720            Vilnius, Lithuania     1001.0        936.0   \n",
       "\n",
       "       avg_item_review_rounded  num_item_reviews  on_etsy_since  \\\n",
       "index                                                             \n",
       "29337                      5.0            1375.0         2020.0   \n",
       "94936                      5.0            5387.0         2016.0   \n",
       "156692                     5.0             110.0         2014.0   \n",
       "28027                      5.0            1667.0         2014.0   \n",
       "14913                      5.0            5387.0         2016.0   \n",
       "...                        ...               ...            ...   \n",
       "151168                     5.0             110.0         2014.0   \n",
       "44137                      5.0             417.0         2009.0   \n",
       "121986                     5.0            1720.0         2011.0   \n",
       "66415                      5.0             417.0         2009.0   \n",
       "55720                      5.0             133.0         2015.0   \n",
       "\n",
       "       return_and_exchange_policy_category days_since_listed  \n",
       "index                                                         \n",
       "29337                           not_listed               2.0  \n",
       "94936                         not_accepted               3.0  \n",
       "156692                     date_restricted               2.0  \n",
       "28027                                 cost               2.0  \n",
       "14913                         not_accepted               3.0  \n",
       "...                                    ...               ...  \n",
       "151168                                cost               2.0  \n",
       "44137                                 cost              77.0  \n",
       "121986                                free               6.0  \n",
       "66415                                 cost              77.0  \n",
       "55720                      date_restricted              63.0  \n",
       "\n",
       "[801 rows x 29 columns]"
      ]
     },
     "execution_count": 37,
     "metadata": {},
     "output_type": "execute_result"
    }
   ],
   "source": [
    "# find outliers\n",
    "df.loc[(df.price < price_min_acceptable_value) | (df.price > price_max_acceptable_value)]"
   ]
  },
  {
   "cell_type": "markdown",
   "id": "6aee9e56",
   "metadata": {},
   "source": [
    "I don't love the idea of losing hundreds of candles, some of which are barely over the maximum acceptable price according to the standard formula for computing outliers (and which I definitely don't personally think are overpriced.)\n",
    "\n",
    "Instead of using the formula to determine an \"upper bound\" on acceptable price for a candle, I am going to implement \\\\$100 as the maximum acceptable price."
   ]
  },
  {
   "cell_type": "code",
   "execution_count": 30,
   "id": "1521a55f",
   "metadata": {},
   "outputs": [],
   "source": [
    "price_max_acceptable_value = 100"
   ]
  },
  {
   "cell_type": "markdown",
   "id": "c04bc5ae",
   "metadata": {},
   "source": [
    "## Train Test Split"
   ]
  },
  {
   "cell_type": "markdown",
   "id": "6c6af70d",
   "metadata": {},
   "source": [
    "Remove outliers."
   ]
  },
  {
   "cell_type": "code",
   "execution_count": 31,
   "id": "e73509f6",
   "metadata": {},
   "outputs": [],
   "source": [
    "df_no_outliers = df.loc[(df.price > price_min_acceptable_value) & (df.price < price_max_acceptable_value)]"
   ]
  },
  {
   "cell_type": "markdown",
   "id": "14509135",
   "metadata": {},
   "source": [
    "Drop columns not needed for modeling."
   ]
  },
  {
   "cell_type": "code",
   "execution_count": 32,
   "id": "8b98abec",
   "metadata": {},
   "outputs": [
    {
     "data": {
      "text/html": [
       "<div>\n",
       "<style scoped>\n",
       "    .dataframe tbody tr th:only-of-type {\n",
       "        vertical-align: middle;\n",
       "    }\n",
       "\n",
       "    .dataframe tbody tr th {\n",
       "        vertical-align: top;\n",
       "    }\n",
       "\n",
       "    .dataframe thead th {\n",
       "        text-align: right;\n",
       "    }\n",
       "</style>\n",
       "<table border=\"1\" class=\"dataframe\">\n",
       "  <thead>\n",
       "    <tr style=\"text-align: right;\">\n",
       "      <th></th>\n",
       "      <th>avg_rating</th>\n",
       "      <th>review_count</th>\n",
       "      <th>seller_response_time</th>\n",
       "      <th>item_favorites</th>\n",
       "      <th>early_days_to_arrival</th>\n",
       "      <th>later_days_to_arrival</th>\n",
       "      <th>num_sales</th>\n",
       "      <th>num_admirers</th>\n",
       "      <th>avg_item_review_rounded</th>\n",
       "      <th>num_item_reviews</th>\n",
       "      <th>on_etsy_since</th>\n",
       "      <th>return_and_exchange_policy_category</th>\n",
       "      <th>days_since_listed</th>\n",
       "    </tr>\n",
       "    <tr>\n",
       "      <th>index</th>\n",
       "      <th></th>\n",
       "      <th></th>\n",
       "      <th></th>\n",
       "      <th></th>\n",
       "      <th></th>\n",
       "      <th></th>\n",
       "      <th></th>\n",
       "      <th></th>\n",
       "      <th></th>\n",
       "      <th></th>\n",
       "      <th></th>\n",
       "      <th></th>\n",
       "      <th></th>\n",
       "    </tr>\n",
       "  </thead>\n",
       "  <tbody>\n",
       "    <tr>\n",
       "      <th>144399</th>\n",
       "      <td>4.9691</td>\n",
       "      <td>2420.0</td>\n",
       "      <td>within_a_few_hours</td>\n",
       "      <td>2.0</td>\n",
       "      <td>11.0</td>\n",
       "      <td>17.0</td>\n",
       "      <td>8276.0</td>\n",
       "      <td>1172.0</td>\n",
       "      <td>5.0</td>\n",
       "      <td>2420.0</td>\n",
       "      <td>2017.0</td>\n",
       "      <td>not_accepted</td>\n",
       "      <td>2.0</td>\n",
       "    </tr>\n",
       "    <tr>\n",
       "      <th>147618</th>\n",
       "      <td>4.9475</td>\n",
       "      <td>25699.0</td>\n",
       "      <td>within_a_few_hours</td>\n",
       "      <td>1307.0</td>\n",
       "      <td>2.0</td>\n",
       "      <td>7.0</td>\n",
       "      <td>87673.0</td>\n",
       "      <td>10218.0</td>\n",
       "      <td>5.0</td>\n",
       "      <td>25723.0</td>\n",
       "      <td>2013.0</td>\n",
       "      <td>date_restricted</td>\n",
       "      <td>0.0</td>\n",
       "    </tr>\n",
       "    <tr>\n",
       "      <th>16123</th>\n",
       "      <td>4.9282</td>\n",
       "      <td>3750.0</td>\n",
       "      <td>none_given</td>\n",
       "      <td>762.0</td>\n",
       "      <td>8.0</td>\n",
       "      <td>9.0</td>\n",
       "      <td>20080.0</td>\n",
       "      <td>3958.0</td>\n",
       "      <td>5.0</td>\n",
       "      <td>3752.0</td>\n",
       "      <td>2011.0</td>\n",
       "      <td>not_accepted</td>\n",
       "      <td>0.0</td>\n",
       "    </tr>\n",
       "    <tr>\n",
       "      <th>7595</th>\n",
       "      <td>4.9323</td>\n",
       "      <td>29144.0</td>\n",
       "      <td>within_a_few_hours</td>\n",
       "      <td>17705.0</td>\n",
       "      <td>2.0</td>\n",
       "      <td>10.0</td>\n",
       "      <td>150866.0</td>\n",
       "      <td>21155.0</td>\n",
       "      <td>5.0</td>\n",
       "      <td>29173.0</td>\n",
       "      <td>2011.0</td>\n",
       "      <td>date_restricted</td>\n",
       "      <td>0.0</td>\n",
       "    </tr>\n",
       "    <tr>\n",
       "      <th>182537</th>\n",
       "      <td>4.9524</td>\n",
       "      <td>24133.0</td>\n",
       "      <td>within_24_hours</td>\n",
       "      <td>569.0</td>\n",
       "      <td>2.0</td>\n",
       "      <td>10.0</td>\n",
       "      <td>76266.0</td>\n",
       "      <td>17753.0</td>\n",
       "      <td>5.0</td>\n",
       "      <td>24136.0</td>\n",
       "      <td>2010.0</td>\n",
       "      <td>date_restricted</td>\n",
       "      <td>36.0</td>\n",
       "    </tr>\n",
       "  </tbody>\n",
       "</table>\n",
       "</div>"
      ],
      "text/plain": [
       "        avg_rating  review_count seller_response_time  item_favorites  \\\n",
       "index                                                                   \n",
       "144399      4.9691        2420.0   within_a_few_hours             2.0   \n",
       "147618      4.9475       25699.0   within_a_few_hours          1307.0   \n",
       "16123       4.9282        3750.0           none_given           762.0   \n",
       "7595        4.9323       29144.0   within_a_few_hours         17705.0   \n",
       "182537      4.9524       24133.0      within_24_hours           569.0   \n",
       "\n",
       "        early_days_to_arrival  later_days_to_arrival  num_sales  num_admirers  \\\n",
       "index                                                                           \n",
       "144399                   11.0                   17.0     8276.0        1172.0   \n",
       "147618                    2.0                    7.0    87673.0       10218.0   \n",
       "16123                     8.0                    9.0    20080.0        3958.0   \n",
       "7595                      2.0                   10.0   150866.0       21155.0   \n",
       "182537                    2.0                   10.0    76266.0       17753.0   \n",
       "\n",
       "        avg_item_review_rounded  num_item_reviews  on_etsy_since  \\\n",
       "index                                                              \n",
       "144399                      5.0            2420.0         2017.0   \n",
       "147618                      5.0           25723.0         2013.0   \n",
       "16123                       5.0            3752.0         2011.0   \n",
       "7595                        5.0           29173.0         2011.0   \n",
       "182537                      5.0           24136.0         2010.0   \n",
       "\n",
       "       return_and_exchange_policy_category  days_since_listed  \n",
       "index                                                          \n",
       "144399                        not_accepted                2.0  \n",
       "147618                     date_restricted                0.0  \n",
       "16123                         not_accepted                0.0  \n",
       "7595                       date_restricted                0.0  \n",
       "182537                     date_restricted               36.0  "
      ]
     },
     "execution_count": 32,
     "metadata": {},
     "output_type": "execute_result"
    }
   ],
   "source": [
    "X = df_no_outliers.drop(columns=['product_name', 'product_url', 'brand_type', 'brand_name', 'price', 'currency',\n",
    "                                 'position', 'product_description', 'return_and_exchange_policy', 'item_listing_date',\n",
    "                                 'early_est_arrival', 'later_est_arrival', 'current_date', 'name', 'shop_description',\n",
    "                                 'location']\n",
    "                       )\n",
    "y = df_no_outliers['price'].copy()\n",
    "\n",
    "X.head()"
   ]
  },
  {
   "cell_type": "markdown",
   "id": "24648637",
   "metadata": {},
   "source": [
    "Train test split."
   ]
  },
  {
   "cell_type": "code",
   "execution_count": 33,
   "id": "e53aa613",
   "metadata": {},
   "outputs": [],
   "source": [
    "X_train, X_test, y_train, y_test = train_test_split(X, y, test_size=0.2, random_state=seed)"
   ]
  },
  {
   "cell_type": "code",
   "execution_count": 34,
   "id": "f126f3fe",
   "metadata": {},
   "outputs": [
    {
     "name": "stdout",
     "output_type": "stream",
     "text": [
      "(4815, 13)\n",
      "(4815,)\n"
     ]
    }
   ],
   "source": [
    "print(X_train.shape)\n",
    "print(y_train.shape)"
   ]
  },
  {
   "cell_type": "markdown",
   "id": "878e529e",
   "metadata": {},
   "source": [
    "## Preprocess Data for Modeling"
   ]
  },
  {
   "cell_type": "markdown",
   "id": "ba9d3c40",
   "metadata": {},
   "source": [
    "Instantiate a one hot encoder and simple imputer. Use a column transformer to apply each one to the appropriate columns. Then scale all of the data with a standard scaler."
   ]
  },
  {
   "cell_type": "code",
   "execution_count": 35,
   "id": "1a7ef5de",
   "metadata": {},
   "outputs": [
    {
     "data": {
      "text/html": [
       "<div>\n",
       "<style scoped>\n",
       "    .dataframe tbody tr th:only-of-type {\n",
       "        vertical-align: middle;\n",
       "    }\n",
       "\n",
       "    .dataframe tbody tr th {\n",
       "        vertical-align: top;\n",
       "    }\n",
       "\n",
       "    .dataframe thead th {\n",
       "        text-align: right;\n",
       "    }\n",
       "</style>\n",
       "<table border=\"1\" class=\"dataframe\">\n",
       "  <thead>\n",
       "    <tr style=\"text-align: right;\">\n",
       "      <th></th>\n",
       "      <th>num__avg_rating</th>\n",
       "      <th>num__review_count</th>\n",
       "      <th>num__early_days_to_arrival</th>\n",
       "      <th>num__later_days_to_arrival</th>\n",
       "      <th>num__avg_item_review_rounded</th>\n",
       "      <th>num__num_item_reviews</th>\n",
       "      <th>num__days_since_listed</th>\n",
       "      <th>cat__seller_response_time_within_24_hours</th>\n",
       "      <th>cat__seller_response_time_within_a_few_hours</th>\n",
       "      <th>cat__return_and_exchange_policy_category_date_restricted</th>\n",
       "      <th>cat__return_and_exchange_policy_category_free</th>\n",
       "      <th>cat__return_and_exchange_policy_category_not_accepted</th>\n",
       "      <th>cat__return_and_exchange_policy_category_not_listed</th>\n",
       "      <th>remainder__item_favorites</th>\n",
       "      <th>remainder__num_sales</th>\n",
       "      <th>remainder__num_admirers</th>\n",
       "      <th>remainder__on_etsy_since</th>\n",
       "    </tr>\n",
       "    <tr>\n",
       "      <th>index</th>\n",
       "      <th></th>\n",
       "      <th></th>\n",
       "      <th></th>\n",
       "      <th></th>\n",
       "      <th></th>\n",
       "      <th></th>\n",
       "      <th></th>\n",
       "      <th></th>\n",
       "      <th></th>\n",
       "      <th></th>\n",
       "      <th></th>\n",
       "      <th></th>\n",
       "      <th></th>\n",
       "      <th></th>\n",
       "      <th></th>\n",
       "      <th></th>\n",
       "      <th></th>\n",
       "    </tr>\n",
       "  </thead>\n",
       "  <tbody>\n",
       "    <tr>\n",
       "      <th>162739</th>\n",
       "      <td>0.068165</td>\n",
       "      <td>4.130193</td>\n",
       "      <td>-0.637577</td>\n",
       "      <td>-0.956764</td>\n",
       "      <td>0.213763</td>\n",
       "      <td>4.128933</td>\n",
       "      <td>-0.591078</td>\n",
       "      <td>-0.596621</td>\n",
       "      <td>0.978426</td>\n",
       "      <td>-0.524878</td>\n",
       "      <td>2.889553</td>\n",
       "      <td>-0.878735</td>\n",
       "      <td>-0.158501</td>\n",
       "      <td>2.375068</td>\n",
       "      <td>4.092112</td>\n",
       "      <td>4.064413</td>\n",
       "      <td>-0.070779</td>\n",
       "    </tr>\n",
       "    <tr>\n",
       "      <th>163673</th>\n",
       "      <td>0.251380</td>\n",
       "      <td>0.379596</td>\n",
       "      <td>-0.637577</td>\n",
       "      <td>-0.303214</td>\n",
       "      <td>0.213763</td>\n",
       "      <td>0.379427</td>\n",
       "      <td>-0.495472</td>\n",
       "      <td>-0.596621</td>\n",
       "      <td>0.978426</td>\n",
       "      <td>-0.524878</td>\n",
       "      <td>-0.346074</td>\n",
       "      <td>-0.878735</td>\n",
       "      <td>-0.158501</td>\n",
       "      <td>-0.273701</td>\n",
       "      <td>0.541450</td>\n",
       "      <td>0.304473</td>\n",
       "      <td>-1.038053</td>\n",
       "    </tr>\n",
       "    <tr>\n",
       "      <th>179954</th>\n",
       "      <td>-1.064439</td>\n",
       "      <td>-0.378166</td>\n",
       "      <td>-0.637577</td>\n",
       "      <td>-0.629989</td>\n",
       "      <td>0.213763</td>\n",
       "      <td>-0.378096</td>\n",
       "      <td>-0.543275</td>\n",
       "      <td>1.676107</td>\n",
       "      <td>-1.022050</td>\n",
       "      <td>-0.524878</td>\n",
       "      <td>-0.346074</td>\n",
       "      <td>1.138000</td>\n",
       "      <td>-0.158501</td>\n",
       "      <td>-0.282067</td>\n",
       "      <td>-0.377082</td>\n",
       "      <td>-0.392371</td>\n",
       "      <td>0.896494</td>\n",
       "    </tr>\n",
       "    <tr>\n",
       "      <th>14828</th>\n",
       "      <td>0.807966</td>\n",
       "      <td>-0.315216</td>\n",
       "      <td>-0.637577</td>\n",
       "      <td>-0.956764</td>\n",
       "      <td>0.213763</td>\n",
       "      <td>-0.315105</td>\n",
       "      <td>-0.495472</td>\n",
       "      <td>-0.596621</td>\n",
       "      <td>0.978426</td>\n",
       "      <td>1.905205</td>\n",
       "      <td>-0.346074</td>\n",
       "      <td>-0.878735</td>\n",
       "      <td>-0.158501</td>\n",
       "      <td>-0.161189</td>\n",
       "      <td>-0.302125</td>\n",
       "      <td>-0.220050</td>\n",
       "      <td>0.251645</td>\n",
       "    </tr>\n",
       "    <tr>\n",
       "      <th>168688</th>\n",
       "      <td>-0.228866</td>\n",
       "      <td>-0.296644</td>\n",
       "      <td>-0.637577</td>\n",
       "      <td>-1.283540</td>\n",
       "      <td>0.213763</td>\n",
       "      <td>-0.296626</td>\n",
       "      <td>0.173772</td>\n",
       "      <td>-0.596621</td>\n",
       "      <td>-1.022050</td>\n",
       "      <td>-0.524878</td>\n",
       "      <td>-0.346074</td>\n",
       "      <td>-0.878735</td>\n",
       "      <td>-0.158501</td>\n",
       "      <td>-0.252847</td>\n",
       "      <td>-0.295835</td>\n",
       "      <td>-0.283354</td>\n",
       "      <td>0.574070</td>\n",
       "    </tr>\n",
       "  </tbody>\n",
       "</table>\n",
       "</div>"
      ],
      "text/plain": [
       "        num__avg_rating  num__review_count  num__early_days_to_arrival  \\\n",
       "index                                                                    \n",
       "162739         0.068165           4.130193                   -0.637577   \n",
       "163673         0.251380           0.379596                   -0.637577   \n",
       "179954        -1.064439          -0.378166                   -0.637577   \n",
       "14828          0.807966          -0.315216                   -0.637577   \n",
       "168688        -0.228866          -0.296644                   -0.637577   \n",
       "\n",
       "        num__later_days_to_arrival  num__avg_item_review_rounded  \\\n",
       "index                                                              \n",
       "162739                   -0.956764                      0.213763   \n",
       "163673                   -0.303214                      0.213763   \n",
       "179954                   -0.629989                      0.213763   \n",
       "14828                    -0.956764                      0.213763   \n",
       "168688                   -1.283540                      0.213763   \n",
       "\n",
       "        num__num_item_reviews  num__days_since_listed  \\\n",
       "index                                                   \n",
       "162739               4.128933               -0.591078   \n",
       "163673               0.379427               -0.495472   \n",
       "179954              -0.378096               -0.543275   \n",
       "14828               -0.315105               -0.495472   \n",
       "168688              -0.296626                0.173772   \n",
       "\n",
       "        cat__seller_response_time_within_24_hours  \\\n",
       "index                                               \n",
       "162739                                  -0.596621   \n",
       "163673                                  -0.596621   \n",
       "179954                                   1.676107   \n",
       "14828                                   -0.596621   \n",
       "168688                                  -0.596621   \n",
       "\n",
       "        cat__seller_response_time_within_a_few_hours  \\\n",
       "index                                                  \n",
       "162739                                      0.978426   \n",
       "163673                                      0.978426   \n",
       "179954                                     -1.022050   \n",
       "14828                                       0.978426   \n",
       "168688                                     -1.022050   \n",
       "\n",
       "        cat__return_and_exchange_policy_category_date_restricted  \\\n",
       "index                                                              \n",
       "162739                                          -0.524878          \n",
       "163673                                          -0.524878          \n",
       "179954                                          -0.524878          \n",
       "14828                                            1.905205          \n",
       "168688                                          -0.524878          \n",
       "\n",
       "        cat__return_and_exchange_policy_category_free  \\\n",
       "index                                                   \n",
       "162739                                       2.889553   \n",
       "163673                                      -0.346074   \n",
       "179954                                      -0.346074   \n",
       "14828                                       -0.346074   \n",
       "168688                                      -0.346074   \n",
       "\n",
       "        cat__return_and_exchange_policy_category_not_accepted  \\\n",
       "index                                                           \n",
       "162739                                          -0.878735       \n",
       "163673                                          -0.878735       \n",
       "179954                                           1.138000       \n",
       "14828                                           -0.878735       \n",
       "168688                                          -0.878735       \n",
       "\n",
       "        cat__return_and_exchange_policy_category_not_listed  \\\n",
       "index                                                         \n",
       "162739                                          -0.158501     \n",
       "163673                                          -0.158501     \n",
       "179954                                          -0.158501     \n",
       "14828                                           -0.158501     \n",
       "168688                                          -0.158501     \n",
       "\n",
       "        remainder__item_favorites  remainder__num_sales  \\\n",
       "index                                                     \n",
       "162739                   2.375068              4.092112   \n",
       "163673                  -0.273701              0.541450   \n",
       "179954                  -0.282067             -0.377082   \n",
       "14828                   -0.161189             -0.302125   \n",
       "168688                  -0.252847             -0.295835   \n",
       "\n",
       "        remainder__num_admirers  remainder__on_etsy_since  \n",
       "index                                                      \n",
       "162739                 4.064413                 -0.070779  \n",
       "163673                 0.304473                 -1.038053  \n",
       "179954                -0.392371                  0.896494  \n",
       "14828                 -0.220050                  0.251645  \n",
       "168688                -0.283354                  0.574070  "
      ]
     },
     "execution_count": 35,
     "metadata": {},
     "output_type": "execute_result"
    }
   ],
   "source": [
    "ohe = OneHotEncoder(drop='first')\n",
    "si = SimpleImputer()\n",
    "\n",
    "categorical_features = ['seller_response_time', 'return_and_exchange_policy_category']\n",
    "\n",
    "numeric_features = ['avg_rating', 'review_count', 'early_days_to_arrival', 'later_days_to_arrival',\n",
    "                  'avg_item_review_rounded', 'num_item_reviews', 'days_since_listed']\n",
    "\n",
    "preprocessor = ColumnTransformer(\n",
    "    transformers=[\n",
    "        (\"num\", si, numeric_features),\n",
    "        (\"cat\", ohe, categorical_features),\n",
    "    ],\n",
    "    remainder='passthrough' # keep other features\n",
    ")\n",
    "\n",
    "ss = StandardScaler()\n",
    "\n",
    "X_train_preprocessed = pd.DataFrame(ss.fit_transform(preprocessor.fit_transform(X_train)),\n",
    "                                    columns=preprocessor.get_feature_names_out(),\n",
    "                                    index=X_train.index)\n",
    "X_test_preprocessed = pd.DataFrame(ss.transform(preprocessor.transform(X_test)),\n",
    "                                   columns=preprocessor.get_feature_names_out(),\n",
    "                                   index=X_test.index)\n",
    "\n",
    "X_train_preprocessed.head()"
   ]
  },
  {
   "cell_type": "markdown",
   "id": "910f6b46",
   "metadata": {},
   "source": [
    "## Baseline Model"
   ]
  },
  {
   "cell_type": "code",
   "execution_count": 73,
   "id": "26bdeff8",
   "metadata": {},
   "outputs": [
    {
     "name": "stdout",
     "output_type": "stream",
     "text": [
      "RMSE on Training Data: 10.424423506741952\n",
      "RMSE on Test Data: 9.753327969372958\n"
     ]
    }
   ],
   "source": [
    "lr = LinearRegression()\n",
    "\n",
    "lr.fit(X_train_preprocessed, y_train)\n",
    "\n",
    "print(f'RMSE on Training Data: {np.sqrt(mean_squared_error(y_train, lr.predict(X_train_preprocessed)))}')\n",
    "\n",
    "print(f'RMSE on Test Data: {np.sqrt(mean_squared_error(y_test, lr.predict(X_test_preprocessed)))}')"
   ]
  },
  {
   "cell_type": "code",
   "execution_count": 55,
   "id": "bf75cce9",
   "metadata": {},
   "outputs": [
    {
     "data": {
      "text/plain": [
       "0.20372484238256838"
      ]
     },
     "execution_count": 55,
     "metadata": {},
     "output_type": "execute_result"
    }
   ],
   "source": [
    "lr.score(X_test_preprocessed, y_test)"
   ]
  },
  {
   "cell_type": "markdown",
   "id": "f6af6433",
   "metadata": {},
   "source": [
    "To compare, here is the root mean squared error for a model which predicts the mean."
   ]
  },
  {
   "cell_type": "code",
   "execution_count": 56,
   "id": "a428d123",
   "metadata": {},
   "outputs": [
    {
     "data": {
      "text/plain": [
       "0.14790080803971103"
      ]
     },
     "execution_count": 56,
     "metadata": {},
     "output_type": "execute_result"
    }
   ],
   "source": [
    "np.sqrt(mean_squared_error(df_no_outliers.price, df_no_outliers.price.mean()*np.ones(df_no_outliers.price.shape))/len(df_no_outliers))"
   ]
  },
  {
   "cell_type": "markdown",
   "id": "88907894",
   "metadata": {},
   "source": [
    "Residual plot:"
   ]
  },
  {
   "cell_type": "code",
   "execution_count": 74,
   "id": "0b56a777",
   "metadata": {},
   "outputs": [
    {
     "data": {
      "image/png": "[encoded data removed]",
      "text/plain": [
       "<Figure size 640x480 with 1 Axes>"
      ]
     },
     "metadata": {},
     "output_type": "display_data"
    }
   ],
   "source": [
    "test_residuals = (lr.predict(X_test_preprocessed) - y_test)\n",
    "\n",
    "fig, ax = plt.subplots()\n",
    "\n",
    "sns.scatterplot(x=y_test, y=test_residuals);"
   ]
  },
  {
   "cell_type": "markdown",
   "id": "c023d894",
   "metadata": {},
   "source": [
    "## Random Forest Baseline"
   ]
  },
  {
   "cell_type": "code",
   "execution_count": 67,
   "id": "454d2ed9",
   "metadata": {},
   "outputs": [
    {
     "name": "stdout",
     "output_type": "stream",
     "text": [
      "RMSE on Training Data: 0.9973256506463808\n",
      "RMSE on Test Data: 2.9338023601995604\n"
     ]
    }
   ],
   "source": [
    "rf = RandomForestRegressor(random_state=seed)\n",
    "rf.fit(X_train_preprocessed, y_train)\n",
    "\n",
    "print(f'RMSE on Training Data: {np.sqrt(mean_squared_error(y_train, rf.predict(X_train_preprocessed)))}')\n",
    "\n",
    "print(f'RMSE on Test Data: {np.sqrt(mean_squared_error(y_test, rf.predict(X_test_preprocessed)))}')"
   ]
  },
  {
   "cell_type": "markdown",
   "id": "1c733273",
   "metadata": {},
   "source": [
    "Check R^2 on test data."
   ]
  },
  {
   "cell_type": "code",
   "execution_count": 68,
   "id": "895d25cb",
   "metadata": {},
   "outputs": [
    {
     "data": {
      "text/plain": [
       "0.9279524499281627"
      ]
     },
     "execution_count": 68,
     "metadata": {},
     "output_type": "execute_result"
    }
   ],
   "source": [
    "rf.score(X_test_preprocessed, y_test)"
   ]
  },
  {
   "cell_type": "markdown",
   "id": "c208b14a",
   "metadata": {},
   "source": [
    "Residual plot:"
   ]
  },
  {
   "cell_type": "code",
   "execution_count": 70,
   "id": "0ed61076",
   "metadata": {},
   "outputs": [
    {
     "data": {
      "image/png": "[encoded data removed]",
      "text/plain": [
       "<Figure size 640x480 with 1 Axes>"
      ]
     },
     "metadata": {},
     "output_type": "display_data"
    }
   ],
   "source": [
    "test_residuals = (rf.predict(X_test_preprocessed) - y_test)\n",
    "\n",
    "fig, ax = plt.subplots()\n",
    "\n",
    "sns.scatterplot(x=y_test, y=test_residuals);"
   ]
  },
  {
   "cell_type": "markdown",
   "id": "ed28a7d4",
   "metadata": {},
   "source": [
    "## XG Boost"
   ]
  },
  {
   "cell_type": "code",
   "execution_count": null,
   "id": "bb16ab0d",
   "metadata": {},
   "outputs": [],
   "source": [
    "%%time\n",
    "\n",
    "xgb = XGBRegressor()\n",
    "xgb.fit(X_train_preprocessed, y_train)\n",
    "\n",
    "print(f'RMSE on Training Data: {np.sqrt(mean_squared_error(y_train, xgb.predict(X_train_preprocessed)))}')\n",
    "\n",
    "print(f'RMSE on Test Data: {np.sqrt(mean_squared_error(y_test, xgb.predict(X_test_preprocessed)))}')"
   ]
  },
  {
   "cell_type": "markdown",
   "id": "36f4b8ce",
   "metadata": {},
   "source": [
    "Check R^2 on test data."
   ]
  },
  {
   "cell_type": "code",
   "execution_count": null,
   "id": "387affd6",
   "metadata": {},
   "outputs": [],
   "source": [
    "xgb.score(X_test_preprocessed, y_test)"
   ]
  },
  {
   "cell_type": "markdown",
   "id": "54ab8243",
   "metadata": {},
   "source": [
    "Residual plot:"
   ]
  },
  {
   "cell_type": "code",
   "execution_count": null,
   "id": "c6fc8d9c",
   "metadata": {},
   "outputs": [],
   "source": [
    "test_residuals = (xgb.predict(X_test_preprocessed) - y_test)\n",
    "\n",
    "fig, ax = plt.subplots()\n",
    "\n",
    "sns.scatterplot(x=y_test, y=test_residuals);"
   ]
  },
  {
   "cell_type": "markdown",
   "id": "50d90888",
   "metadata": {},
   "source": [
    "## Drop More Outliers"
   ]
  },
  {
   "cell_type": "markdown",
   "id": "9d358ea6",
   "metadata": {},
   "source": [
    "Earlier, we set an arbitrary ceiling for the price of a candle at \\\\$100. Let's try lowering this ceiling, and we can also try using the standard upper limit for outliers (based on the interquartile range.)"
   ]
  },
  {
   "cell_type": "code",
   "execution_count": 41,
   "id": "b5bb8be7",
   "metadata": {},
   "outputs": [],
   "source": [
    "price_IQR = df.price.quantile(0.75) - df.price.quantile(0.25)\n",
    "\n",
    "price_min_acceptable_value = df.price.quantile(0.25) - 1.5*price_IQR\n",
    "price_max_acceptable_value = df.price.quantile(.75) + 1.5*price_IQR\n",
    "\n",
    "# drop outliers\n",
    "df_less_outliers = df.loc[(df.price > price_min_acceptable_value) & (df.price < price_max_acceptable_value)].copy()"
   ]
  },
  {
   "cell_type": "markdown",
   "id": "e3beecc5",
   "metadata": {},
   "source": [
    "Separate features and target."
   ]
  },
  {
   "cell_type": "code",
   "execution_count": 43,
   "id": "a8a4a263",
   "metadata": {},
   "outputs": [
    {
     "data": {
      "text/html": [
       "<div>\n",
       "<style scoped>\n",
       "    .dataframe tbody tr th:only-of-type {\n",
       "        vertical-align: middle;\n",
       "    }\n",
       "\n",
       "    .dataframe tbody tr th {\n",
       "        vertical-align: top;\n",
       "    }\n",
       "\n",
       "    .dataframe thead th {\n",
       "        text-align: right;\n",
       "    }\n",
       "</style>\n",
       "<table border=\"1\" class=\"dataframe\">\n",
       "  <thead>\n",
       "    <tr style=\"text-align: right;\">\n",
       "      <th></th>\n",
       "      <th>avg_rating</th>\n",
       "      <th>review_count</th>\n",
       "      <th>seller_response_time</th>\n",
       "      <th>item_favorites</th>\n",
       "      <th>early_days_to_arrival</th>\n",
       "      <th>later_days_to_arrival</th>\n",
       "      <th>num_sales</th>\n",
       "      <th>num_admirers</th>\n",
       "      <th>avg_item_review_rounded</th>\n",
       "      <th>num_item_reviews</th>\n",
       "      <th>on_etsy_since</th>\n",
       "      <th>return_and_exchange_policy_category</th>\n",
       "      <th>days_since_listed</th>\n",
       "    </tr>\n",
       "    <tr>\n",
       "      <th>index</th>\n",
       "      <th></th>\n",
       "      <th></th>\n",
       "      <th></th>\n",
       "      <th></th>\n",
       "      <th></th>\n",
       "      <th></th>\n",
       "      <th></th>\n",
       "      <th></th>\n",
       "      <th></th>\n",
       "      <th></th>\n",
       "      <th></th>\n",
       "      <th></th>\n",
       "      <th></th>\n",
       "    </tr>\n",
       "  </thead>\n",
       "  <tbody>\n",
       "    <tr>\n",
       "      <th>144399</th>\n",
       "      <td>4.9691</td>\n",
       "      <td>2420.0</td>\n",
       "      <td>within_a_few_hours</td>\n",
       "      <td>2.0</td>\n",
       "      <td>11.0</td>\n",
       "      <td>17.0</td>\n",
       "      <td>8276.0</td>\n",
       "      <td>1172.0</td>\n",
       "      <td>5.0</td>\n",
       "      <td>2420.0</td>\n",
       "      <td>2017.0</td>\n",
       "      <td>not_accepted</td>\n",
       "      <td>2.0</td>\n",
       "    </tr>\n",
       "    <tr>\n",
       "      <th>147618</th>\n",
       "      <td>4.9475</td>\n",
       "      <td>25699.0</td>\n",
       "      <td>within_a_few_hours</td>\n",
       "      <td>1307.0</td>\n",
       "      <td>2.0</td>\n",
       "      <td>7.0</td>\n",
       "      <td>87673.0</td>\n",
       "      <td>10218.0</td>\n",
       "      <td>5.0</td>\n",
       "      <td>25723.0</td>\n",
       "      <td>2013.0</td>\n",
       "      <td>date_restricted</td>\n",
       "      <td>0.0</td>\n",
       "    </tr>\n",
       "    <tr>\n",
       "      <th>16123</th>\n",
       "      <td>4.9282</td>\n",
       "      <td>3750.0</td>\n",
       "      <td>none_given</td>\n",
       "      <td>762.0</td>\n",
       "      <td>8.0</td>\n",
       "      <td>9.0</td>\n",
       "      <td>20080.0</td>\n",
       "      <td>3958.0</td>\n",
       "      <td>5.0</td>\n",
       "      <td>3752.0</td>\n",
       "      <td>2011.0</td>\n",
       "      <td>not_accepted</td>\n",
       "      <td>0.0</td>\n",
       "    </tr>\n",
       "    <tr>\n",
       "      <th>7595</th>\n",
       "      <td>4.9323</td>\n",
       "      <td>29144.0</td>\n",
       "      <td>within_a_few_hours</td>\n",
       "      <td>17705.0</td>\n",
       "      <td>2.0</td>\n",
       "      <td>10.0</td>\n",
       "      <td>150866.0</td>\n",
       "      <td>21155.0</td>\n",
       "      <td>5.0</td>\n",
       "      <td>29173.0</td>\n",
       "      <td>2011.0</td>\n",
       "      <td>date_restricted</td>\n",
       "      <td>0.0</td>\n",
       "    </tr>\n",
       "    <tr>\n",
       "      <th>182537</th>\n",
       "      <td>4.9524</td>\n",
       "      <td>24133.0</td>\n",
       "      <td>within_24_hours</td>\n",
       "      <td>569.0</td>\n",
       "      <td>2.0</td>\n",
       "      <td>10.0</td>\n",
       "      <td>76266.0</td>\n",
       "      <td>17753.0</td>\n",
       "      <td>5.0</td>\n",
       "      <td>24136.0</td>\n",
       "      <td>2010.0</td>\n",
       "      <td>date_restricted</td>\n",
       "      <td>36.0</td>\n",
       "    </tr>\n",
       "  </tbody>\n",
       "</table>\n",
       "</div>"
      ],
      "text/plain": [
       "        avg_rating  review_count seller_response_time  item_favorites  \\\n",
       "index                                                                   \n",
       "144399      4.9691        2420.0   within_a_few_hours             2.0   \n",
       "147618      4.9475       25699.0   within_a_few_hours          1307.0   \n",
       "16123       4.9282        3750.0           none_given           762.0   \n",
       "7595        4.9323       29144.0   within_a_few_hours         17705.0   \n",
       "182537      4.9524       24133.0      within_24_hours           569.0   \n",
       "\n",
       "        early_days_to_arrival  later_days_to_arrival  num_sales  num_admirers  \\\n",
       "index                                                                           \n",
       "144399                   11.0                   17.0     8276.0        1172.0   \n",
       "147618                    2.0                    7.0    87673.0       10218.0   \n",
       "16123                     8.0                    9.0    20080.0        3958.0   \n",
       "7595                      2.0                   10.0   150866.0       21155.0   \n",
       "182537                    2.0                   10.0    76266.0       17753.0   \n",
       "\n",
       "        avg_item_review_rounded  num_item_reviews  on_etsy_since  \\\n",
       "index                                                              \n",
       "144399                      5.0            2420.0         2017.0   \n",
       "147618                      5.0           25723.0         2013.0   \n",
       "16123                       5.0            3752.0         2011.0   \n",
       "7595                        5.0           29173.0         2011.0   \n",
       "182537                      5.0           24136.0         2010.0   \n",
       "\n",
       "       return_and_exchange_policy_category  days_since_listed  \n",
       "index                                                          \n",
       "144399                        not_accepted                2.0  \n",
       "147618                     date_restricted                0.0  \n",
       "16123                         not_accepted                0.0  \n",
       "7595                       date_restricted                0.0  \n",
       "182537                     date_restricted               36.0  "
      ]
     },
     "execution_count": 43,
     "metadata": {},
     "output_type": "execute_result"
    }
   ],
   "source": [
    "X = df_less_outliers.drop(columns=['product_name', 'product_url', 'brand_type', 'brand_name', 'price', 'currency',\n",
    "                                 'position', 'product_description', 'return_and_exchange_policy', 'item_listing_date',\n",
    "                                 'early_est_arrival', 'later_est_arrival', 'current_date', 'name', 'shop_description',\n",
    "                                 'location']\n",
    "                       )\n",
    "y = df_less_outliers['price'].copy()\n",
    "\n",
    "X.head()"
   ]
  },
  {
   "cell_type": "markdown",
   "id": "91e7ccdb",
   "metadata": {},
   "source": [
    "Train test split."
   ]
  },
  {
   "cell_type": "code",
   "execution_count": 44,
   "id": "3eef77af",
   "metadata": {},
   "outputs": [],
   "source": [
    "X_train, X_test, y_train, y_test = train_test_split(X, y, test_size=0.2, random_state=seed)"
   ]
  },
  {
   "cell_type": "markdown",
   "id": "39670db5",
   "metadata": {},
   "source": [
    "Preprocess data for modeling."
   ]
  },
  {
   "cell_type": "code",
   "execution_count": 45,
   "id": "666aa257",
   "metadata": {},
   "outputs": [
    {
     "data": {
      "text/html": [
       "<div>\n",
       "<style scoped>\n",
       "    .dataframe tbody tr th:only-of-type {\n",
       "        vertical-align: middle;\n",
       "    }\n",
       "\n",
       "    .dataframe tbody tr th {\n",
       "        vertical-align: top;\n",
       "    }\n",
       "\n",
       "    .dataframe thead th {\n",
       "        text-align: right;\n",
       "    }\n",
       "</style>\n",
       "<table border=\"1\" class=\"dataframe\">\n",
       "  <thead>\n",
       "    <tr style=\"text-align: right;\">\n",
       "      <th></th>\n",
       "      <th>num__avg_rating</th>\n",
       "      <th>num__review_count</th>\n",
       "      <th>num__early_days_to_arrival</th>\n",
       "      <th>num__later_days_to_arrival</th>\n",
       "      <th>num__avg_item_review_rounded</th>\n",
       "      <th>num__num_item_reviews</th>\n",
       "      <th>num__days_since_listed</th>\n",
       "      <th>cat__seller_response_time_within_24_hours</th>\n",
       "      <th>cat__seller_response_time_within_a_few_hours</th>\n",
       "      <th>cat__return_and_exchange_policy_category_date_restricted</th>\n",
       "      <th>cat__return_and_exchange_policy_category_free</th>\n",
       "      <th>cat__return_and_exchange_policy_category_not_accepted</th>\n",
       "      <th>cat__return_and_exchange_policy_category_not_listed</th>\n",
       "      <th>remainder__item_favorites</th>\n",
       "      <th>remainder__num_sales</th>\n",
       "      <th>remainder__num_admirers</th>\n",
       "      <th>remainder__on_etsy_since</th>\n",
       "    </tr>\n",
       "    <tr>\n",
       "      <th>index</th>\n",
       "      <th></th>\n",
       "      <th></th>\n",
       "      <th></th>\n",
       "      <th></th>\n",
       "      <th></th>\n",
       "      <th></th>\n",
       "      <th></th>\n",
       "      <th></th>\n",
       "      <th></th>\n",
       "      <th></th>\n",
       "      <th></th>\n",
       "      <th></th>\n",
       "      <th></th>\n",
       "      <th></th>\n",
       "      <th></th>\n",
       "      <th></th>\n",
       "      <th></th>\n",
       "    </tr>\n",
       "  </thead>\n",
       "  <tbody>\n",
       "    <tr>\n",
       "      <th>170223</th>\n",
       "      <td>-0.218521</td>\n",
       "      <td>-0.336854</td>\n",
       "      <td>-0.615646</td>\n",
       "      <td>-1.211384</td>\n",
       "      <td>0.231504</td>\n",
       "      <td>-0.336808</td>\n",
       "      <td>0.242656</td>\n",
       "      <td>-0.563848</td>\n",
       "      <td>-1.043663</td>\n",
       "      <td>1.788686</td>\n",
       "      <td>-0.328407</td>\n",
       "      <td>-0.854210</td>\n",
       "      <td>-0.098164</td>\n",
       "      <td>-0.284297</td>\n",
       "      <td>-0.332230</td>\n",
       "      <td>-0.320101</td>\n",
       "      <td>0.549048</td>\n",
       "    </tr>\n",
       "    <tr>\n",
       "      <th>104914</th>\n",
       "      <td>0.403123</td>\n",
       "      <td>-0.229340</td>\n",
       "      <td>-0.615646</td>\n",
       "      <td>-0.888734</td>\n",
       "      <td>0.231504</td>\n",
       "      <td>-0.229364</td>\n",
       "      <td>-0.453034</td>\n",
       "      <td>1.773528</td>\n",
       "      <td>-1.043663</td>\n",
       "      <td>-0.559070</td>\n",
       "      <td>-0.328407</td>\n",
       "      <td>1.170673</td>\n",
       "      <td>-0.098164</td>\n",
       "      <td>-0.174289</td>\n",
       "      <td>-0.188076</td>\n",
       "      <td>-0.110565</td>\n",
       "      <td>0.236531</td>\n",
       "    </tr>\n",
       "    <tr>\n",
       "      <th>37534</th>\n",
       "      <td>-0.169336</td>\n",
       "      <td>-0.335651</td>\n",
       "      <td>-0.236028</td>\n",
       "      <td>0.079217</td>\n",
       "      <td>0.231504</td>\n",
       "      <td>-0.335605</td>\n",
       "      <td>-0.105189</td>\n",
       "      <td>-0.563848</td>\n",
       "      <td>0.958164</td>\n",
       "      <td>-0.559070</td>\n",
       "      <td>-0.328407</td>\n",
       "      <td>1.170673</td>\n",
       "      <td>-0.098164</td>\n",
       "      <td>-0.449094</td>\n",
       "      <td>-0.332923</td>\n",
       "      <td>-0.403106</td>\n",
       "      <td>0.861565</td>\n",
       "    </tr>\n",
       "    <tr>\n",
       "      <th>41947</th>\n",
       "      <td>0.076589</td>\n",
       "      <td>3.717629</td>\n",
       "      <td>-0.615646</td>\n",
       "      <td>-0.888734</td>\n",
       "      <td>0.231504</td>\n",
       "      <td>3.718570</td>\n",
       "      <td>-0.552418</td>\n",
       "      <td>-0.563848</td>\n",
       "      <td>0.958164</td>\n",
       "      <td>-0.559070</td>\n",
       "      <td>3.045006</td>\n",
       "      <td>-0.854210</td>\n",
       "      <td>-0.098164</td>\n",
       "      <td>2.057977</td>\n",
       "      <td>3.690450</td>\n",
       "      <td>3.665791</td>\n",
       "      <td>-0.075985</td>\n",
       "    </tr>\n",
       "    <tr>\n",
       "      <th>179924</th>\n",
       "      <td>0.444110</td>\n",
       "      <td>-0.184841</td>\n",
       "      <td>-0.236028</td>\n",
       "      <td>0.079217</td>\n",
       "      <td>0.231504</td>\n",
       "      <td>-0.184797</td>\n",
       "      <td>-0.552418</td>\n",
       "      <td>-0.563848</td>\n",
       "      <td>0.958164</td>\n",
       "      <td>1.788686</td>\n",
       "      <td>-0.328407</td>\n",
       "      <td>-0.854210</td>\n",
       "      <td>-0.098164</td>\n",
       "      <td>-0.118420</td>\n",
       "      <td>-0.106400</td>\n",
       "      <td>-0.352779</td>\n",
       "      <td>0.549048</td>\n",
       "    </tr>\n",
       "  </tbody>\n",
       "</table>\n",
       "</div>"
      ],
      "text/plain": [
       "        num__avg_rating  num__review_count  num__early_days_to_arrival  \\\n",
       "index                                                                    \n",
       "170223        -0.218521          -0.336854                   -0.615646   \n",
       "104914         0.403123          -0.229340                   -0.615646   \n",
       "37534         -0.169336          -0.335651                   -0.236028   \n",
       "41947          0.076589           3.717629                   -0.615646   \n",
       "179924         0.444110          -0.184841                   -0.236028   \n",
       "\n",
       "        num__later_days_to_arrival  num__avg_item_review_rounded  \\\n",
       "index                                                              \n",
       "170223                   -1.211384                      0.231504   \n",
       "104914                   -0.888734                      0.231504   \n",
       "37534                     0.079217                      0.231504   \n",
       "41947                    -0.888734                      0.231504   \n",
       "179924                    0.079217                      0.231504   \n",
       "\n",
       "        num__num_item_reviews  num__days_since_listed  \\\n",
       "index                                                   \n",
       "170223              -0.336808                0.242656   \n",
       "104914              -0.229364               -0.453034   \n",
       "37534               -0.335605               -0.105189   \n",
       "41947                3.718570               -0.552418   \n",
       "179924              -0.184797               -0.552418   \n",
       "\n",
       "        cat__seller_response_time_within_24_hours  \\\n",
       "index                                               \n",
       "170223                                  -0.563848   \n",
       "104914                                   1.773528   \n",
       "37534                                   -0.563848   \n",
       "41947                                   -0.563848   \n",
       "179924                                  -0.563848   \n",
       "\n",
       "        cat__seller_response_time_within_a_few_hours  \\\n",
       "index                                                  \n",
       "170223                                     -1.043663   \n",
       "104914                                     -1.043663   \n",
       "37534                                       0.958164   \n",
       "41947                                       0.958164   \n",
       "179924                                      0.958164   \n",
       "\n",
       "        cat__return_and_exchange_policy_category_date_restricted  \\\n",
       "index                                                              \n",
       "170223                                           1.788686          \n",
       "104914                                          -0.559070          \n",
       "37534                                           -0.559070          \n",
       "41947                                           -0.559070          \n",
       "179924                                           1.788686          \n",
       "\n",
       "        cat__return_and_exchange_policy_category_free  \\\n",
       "index                                                   \n",
       "170223                                      -0.328407   \n",
       "104914                                      -0.328407   \n",
       "37534                                       -0.328407   \n",
       "41947                                        3.045006   \n",
       "179924                                      -0.328407   \n",
       "\n",
       "        cat__return_and_exchange_policy_category_not_accepted  \\\n",
       "index                                                           \n",
       "170223                                          -0.854210       \n",
       "104914                                           1.170673       \n",
       "37534                                            1.170673       \n",
       "41947                                           -0.854210       \n",
       "179924                                          -0.854210       \n",
       "\n",
       "        cat__return_and_exchange_policy_category_not_listed  \\\n",
       "index                                                         \n",
       "170223                                          -0.098164     \n",
       "104914                                          -0.098164     \n",
       "37534                                           -0.098164     \n",
       "41947                                           -0.098164     \n",
       "179924                                          -0.098164     \n",
       "\n",
       "        remainder__item_favorites  remainder__num_sales  \\\n",
       "index                                                     \n",
       "170223                  -0.284297             -0.332230   \n",
       "104914                  -0.174289             -0.188076   \n",
       "37534                   -0.449094             -0.332923   \n",
       "41947                    2.057977              3.690450   \n",
       "179924                  -0.118420             -0.106400   \n",
       "\n",
       "        remainder__num_admirers  remainder__on_etsy_since  \n",
       "index                                                      \n",
       "170223                -0.320101                  0.549048  \n",
       "104914                -0.110565                  0.236531  \n",
       "37534                 -0.403106                  0.861565  \n",
       "41947                  3.665791                 -0.075985  \n",
       "179924                -0.352779                  0.549048  "
      ]
     },
     "execution_count": 45,
     "metadata": {},
     "output_type": "execute_result"
    }
   ],
   "source": [
    "ohe = OneHotEncoder(drop='first')\n",
    "si = SimpleImputer()\n",
    "\n",
    "categorical_features = ['seller_response_time', 'return_and_exchange_policy_category']\n",
    "\n",
    "numeric_features = ['avg_rating', 'review_count', 'early_days_to_arrival', 'later_days_to_arrival',\n",
    "                  'avg_item_review_rounded', 'num_item_reviews', 'days_since_listed']\n",
    "\n",
    "preprocessor = ColumnTransformer(\n",
    "    transformers=[\n",
    "        (\"num\", si, numeric_features),\n",
    "        (\"cat\", ohe, categorical_features),\n",
    "    ],\n",
    "    remainder='passthrough' # keep other features\n",
    ")\n",
    "\n",
    "ss = StandardScaler()\n",
    "\n",
    "X_train_preprocessed = pd.DataFrame(ss.fit_transform(preprocessor.fit_transform(X_train)),\n",
    "                                    columns=preprocessor.get_feature_names_out(),\n",
    "                                    index=X_train.index)\n",
    "X_test_preprocessed = pd.DataFrame(ss.transform(preprocessor.transform(X_test)),\n",
    "                                   columns=preprocessor.get_feature_names_out(),\n",
    "                                   index=X_test.index)\n",
    "\n",
    "X_train_preprocessed.head()"
   ]
  },
  {
   "cell_type": "markdown",
   "id": "cdb8dd18",
   "metadata": {},
   "source": [
    "### Linear Model"
   ]
  },
  {
   "cell_type": "code",
   "execution_count": 46,
   "id": "029aef33",
   "metadata": {},
   "outputs": [
    {
     "name": "stdout",
     "output_type": "stream",
     "text": [
      "RMSE on Training Data: 4.806022967430017\n",
      "RMSE on Test Data: 4.834199987613098\n"
     ]
    }
   ],
   "source": [
    "lr = LinearRegression()\n",
    "\n",
    "lr.fit(X_train_preprocessed, y_train)\n",
    "\n",
    "print(f'RMSE on Training Data: {np.sqrt(mean_squared_error(y_train, lr.predict(X_train_preprocessed)))}')\n",
    "\n",
    "print(f'RMSE on Test Data: {np.sqrt(mean_squared_error(y_test, lr.predict(X_test_preprocessed)))}')"
   ]
  },
  {
   "cell_type": "markdown",
   "id": "dc91917c",
   "metadata": {},
   "source": [
    "### Random Forest"
   ]
  },
  {
   "cell_type": "code",
   "execution_count": 47,
   "id": "11d1bfdf",
   "metadata": {},
   "outputs": [
    {
     "name": "stdout",
     "output_type": "stream",
     "text": [
      "RMSE on Training Data: 0.5955448181556956\n",
      "RMSE on Test Data: 1.672302597135333\n"
     ]
    }
   ],
   "source": [
    "rf = RandomForestRegressor(random_state=seed)\n",
    "rf.fit(X_train_preprocessed, y_train)\n",
    "\n",
    "print(f'RMSE on Training Data: {np.sqrt(mean_squared_error(y_train, rf.predict(X_train_preprocessed)))}')\n",
    "\n",
    "print(f'RMSE on Test Data: {np.sqrt(mean_squared_error(y_test, rf.predict(X_test_preprocessed)))}')"
   ]
  },
  {
   "cell_type": "markdown",
   "id": "4255d43d",
   "metadata": {},
   "source": [
    "## Next Steps"
   ]
  },
  {
   "cell_type": "markdown",
   "id": "cac788d7",
   "metadata": {},
   "source": [
    "- [ ] Try adding polynomial features. (What is the criteria for feature selection?)\n",
    "- [ ] Explore the best models.\n",
    "- [ ] Check assumptions for linear regression. Residual plot, qq plot (conda install statsmodels.)\n",
    "- [ ] Use statsmodels to assess statistical significance of coefficients. (This could be a way to select polynomial features to include.)\n",
    "- [ ] Visualize results from random forest model (actual vs. predicted scatter plot, feat importance, what else?)\n",
    "- [ ] Clean up mark down.\n",
    "- [ ] Re-position EDA.\n",
    "- [ ] Clean up web scraping notebook & get minimum reproducibility requirements met."
   ]
  },
  {
   "cell_type": "markdown",
   "id": "f931141f",
   "metadata": {},
   "source": [
    "## Load Data"
   ]
  },
  {
   "cell_type": "markdown",
   "id": "6807ebd2",
   "metadata": {},
   "source": [
    "Blurb about loading data. (Look at [this notebook](web-scraping.ipynb) to see script used to scrape the below data from July 7 - 10, 2023.)"
   ]
  },
  {
   "cell_type": "code",
   "execution_count": 3,
   "id": "a946c657",
   "metadata": {},
   "outputs": [
    {
     "data": {
      "text/html": [
       "<div>\n",
       "<style scoped>\n",
       "    .dataframe tbody tr th:only-of-type {\n",
       "        vertical-align: middle;\n",
       "    }\n",
       "\n",
       "    .dataframe tbody tr th {\n",
       "        vertical-align: top;\n",
       "    }\n",
       "\n",
       "    .dataframe thead th {\n",
       "        text-align: right;\n",
       "    }\n",
       "</style>\n",
       "<table border=\"1\" class=\"dataframe\">\n",
       "  <thead>\n",
       "    <tr style=\"text-align: right;\">\n",
       "      <th></th>\n",
       "      <th>product_name</th>\n",
       "      <th>product_url</th>\n",
       "      <th>brand_type</th>\n",
       "      <th>brand_name</th>\n",
       "      <th>price</th>\n",
       "      <th>currency</th>\n",
       "      <th>position</th>\n",
       "      <th>avg_rating</th>\n",
       "      <th>review_count</th>\n",
       "      <th>product_description</th>\n",
       "    </tr>\n",
       "  </thead>\n",
       "  <tbody>\n",
       "    <tr>\n",
       "      <th>0</th>\n",
       "      <td>Yellow Gold Rustic Unscented Pillar Candle - C...</td>\n",
       "      <td>https://www.etsy.com/listing/171033085/yellow-...</td>\n",
       "      <td>Brand</td>\n",
       "      <td>StillWaterCandles</td>\n",
       "      <td>16.0</td>\n",
       "      <td>USD</td>\n",
       "      <td>1</td>\n",
       "      <td>4.9284</td>\n",
       "      <td>3750.0</td>\n",
       "      <td>This large yellow gold rustic unscented pillar...</td>\n",
       "    </tr>\n",
       "    <tr>\n",
       "      <th>1</th>\n",
       "      <td>Pear Green Rustic Textured Unscented Block Pil...</td>\n",
       "      <td>https://www.etsy.com/listing/98864574/pear-gre...</td>\n",
       "      <td>Brand</td>\n",
       "      <td>StillWaterCandles</td>\n",
       "      <td>16.0</td>\n",
       "      <td>USD</td>\n",
       "      <td>2</td>\n",
       "      <td>4.9284</td>\n",
       "      <td>3750.0</td>\n",
       "      <td>This large pear green rustic unscented pillar ...</td>\n",
       "    </tr>\n",
       "    <tr>\n",
       "      <th>2</th>\n",
       "      <td>Burnt Orange Rustic Large Unscented Pillar Can...</td>\n",
       "      <td>https://www.etsy.com/listing/172053498/burnt-o...</td>\n",
       "      <td>Brand</td>\n",
       "      <td>StillWaterCandles</td>\n",
       "      <td>16.0</td>\n",
       "      <td>USD</td>\n",
       "      <td>3</td>\n",
       "      <td>4.9284</td>\n",
       "      <td>3750.0</td>\n",
       "      <td>This large burnt orange unscented rustic pilla...</td>\n",
       "    </tr>\n",
       "    <tr>\n",
       "      <th>3</th>\n",
       "      <td>Soy Mason Jar Candle////Choose Your Scent//Con...</td>\n",
       "      <td>https://www.etsy.com/listing/270002845/soy-mas...</td>\n",
       "      <td>Brand</td>\n",
       "      <td>TheDancingWick</td>\n",
       "      <td>15.0</td>\n",
       "      <td>USD</td>\n",
       "      <td>4</td>\n",
       "      <td>4.9323</td>\n",
       "      <td>29140.0</td>\n",
       "      <td>These beautiful candles are the perfect additi...</td>\n",
       "    </tr>\n",
       "    <tr>\n",
       "      <th>4</th>\n",
       "      <td>Rainbow Candle / Soy Candle with 6 colorful la...</td>\n",
       "      <td>https://www.etsy.com/listing/251774155/rainbow...</td>\n",
       "      <td>Brand</td>\n",
       "      <td>SoapForYourSoul</td>\n",
       "      <td>29.0</td>\n",
       "      <td>USD</td>\n",
       "      <td>5</td>\n",
       "      <td>4.9102</td>\n",
       "      <td>5057.0</td>\n",
       "      <td>Colorful rainbow candle is six layers of scent...</td>\n",
       "    </tr>\n",
       "  </tbody>\n",
       "</table>\n",
       "</div>"
      ],
      "text/plain": [
       "                                        product_name  \\\n",
       "0  Yellow Gold Rustic Unscented Pillar Candle - C...   \n",
       "1  Pear Green Rustic Textured Unscented Block Pil...   \n",
       "2  Burnt Orange Rustic Large Unscented Pillar Can...   \n",
       "3  Soy Mason Jar Candle////Choose Your Scent//Con...   \n",
       "4  Rainbow Candle / Soy Candle with 6 colorful la...   \n",
       "\n",
       "                                         product_url brand_type  \\\n",
       "0  https://www.etsy.com/listing/171033085/yellow-...      Brand   \n",
       "1  https://www.etsy.com/listing/98864574/pear-gre...      Brand   \n",
       "2  https://www.etsy.com/listing/172053498/burnt-o...      Brand   \n",
       "3  https://www.etsy.com/listing/270002845/soy-mas...      Brand   \n",
       "4  https://www.etsy.com/listing/251774155/rainbow...      Brand   \n",
       "\n",
       "          brand_name  price currency  position  avg_rating  review_count  \\\n",
       "0  StillWaterCandles   16.0      USD         1      4.9284        3750.0   \n",
       "1  StillWaterCandles   16.0      USD         2      4.9284        3750.0   \n",
       "2  StillWaterCandles   16.0      USD         3      4.9284        3750.0   \n",
       "3     TheDancingWick   15.0      USD         4      4.9323       29140.0   \n",
       "4    SoapForYourSoul   29.0      USD         5      4.9102        5057.0   \n",
       "\n",
       "                                 product_description  \n",
       "0  This large yellow gold rustic unscented pillar...  \n",
       "1  This large pear green rustic unscented pillar ...  \n",
       "2  This large burnt orange unscented rustic pilla...  \n",
       "3  These beautiful candles are the perfect additi...  \n",
       "4  Colorful rainbow candle is six layers of scent...  "
      ]
     },
     "execution_count": 3,
     "metadata": {},
     "output_type": "execute_result"
    }
   ],
   "source": [
    "data = pd.read_csv('Data/product_data.csv')\n",
    "data.head()"
   ]
  },
  {
   "cell_type": "markdown",
   "id": "ec0b854a",
   "metadata": {},
   "source": [
    "**TO DO **\n",
    "- [ ] Add brand info.\n",
    "- [ ] Drop records based on missing brand info.\n",
    "- [ ] Feature engineering round 1 (number of other candles for sale, etc.)\n",
    "- [ ] Get a random sample of 10,000 candles.\n",
    "- [ ] Fix the review_count for candles in sample (get number of review for individual product, as well as for brand as a whole.) Can you also get the earliest and latest estimated arrival, in days from now? And whether or not returns and exchanges are accepted? And the listing date? And the number of favorites?"
   ]
  },
  {
   "cell_type": "markdown",
   "id": "77db936a",
   "metadata": {},
   "source": [
    "We have information about 190,128 candles that were for sale on Etsy from July 7-10 in 2023."
   ]
  },
  {
   "cell_type": "code",
   "execution_count": 4,
   "id": "57f70186",
   "metadata": {},
   "outputs": [
    {
     "name": "stdout",
     "output_type": "stream",
     "text": [
      "(190128, 10)\n"
     ]
    }
   ],
   "source": [
    "print(data.shape)"
   ]
  },
  {
   "cell_type": "markdown",
   "id": "2fd45734",
   "metadata": {},
   "source": [
    "Add newly scraped information about the brand."
   ]
  },
  {
   "cell_type": "code",
   "execution_count": 25,
   "id": "c408b51a",
   "metadata": {
    "scrolled": false
   },
   "outputs": [
    {
     "data": {
      "text/html": [
       "<div>\n",
       "<style scoped>\n",
       "    .dataframe tbody tr th:only-of-type {\n",
       "        vertical-align: middle;\n",
       "    }\n",
       "\n",
       "    .dataframe tbody tr th {\n",
       "        vertical-align: top;\n",
       "    }\n",
       "\n",
       "    .dataframe thead th {\n",
       "        text-align: right;\n",
       "    }\n",
       "</style>\n",
       "<table border=\"1\" class=\"dataframe\">\n",
       "  <thead>\n",
       "    <tr style=\"text-align: right;\">\n",
       "      <th></th>\n",
       "      <th>name</th>\n",
       "      <th>shop_description</th>\n",
       "      <th>location</th>\n",
       "      <th>num_sales</th>\n",
       "      <th>num_admirers</th>\n",
       "      <th>avg_item_review_rounded</th>\n",
       "      <th>num_item_reviews</th>\n",
       "      <th>on_etsy_since</th>\n",
       "    </tr>\n",
       "  </thead>\n",
       "  <tbody>\n",
       "    <tr>\n",
       "      <th>0</th>\n",
       "      <td>160candles</td>\n",
       "      <td>Hand-poured candles – with 100% soy wax and 0%...</td>\n",
       "      <td>Europe</td>\n",
       "      <td>68.0</td>\n",
       "      <td>50.0</td>\n",
       "      <td>5.0</td>\n",
       "      <td>21.0</td>\n",
       "      <td>2021.0</td>\n",
       "    </tr>\n",
       "    <tr>\n",
       "      <th>1</th>\n",
       "      <td>16wishescandles</td>\n",
       "      <td>Everything SWEET 16 for your MAGICAL day- xoxo</td>\n",
       "      <td>Dallas, Texas</td>\n",
       "      <td>1533.0</td>\n",
       "      <td>363.0</td>\n",
       "      <td>4.0</td>\n",
       "      <td>280.0</td>\n",
       "      <td>NaN</td>\n",
       "    </tr>\n",
       "    <tr>\n",
       "      <th>2</th>\n",
       "      <td>Sunnysmilenyc</td>\n",
       "      <td>NaN</td>\n",
       "      <td>NaN</td>\n",
       "      <td>0.0</td>\n",
       "      <td>0.0</td>\n",
       "      <td>NaN</td>\n",
       "      <td>NaN</td>\n",
       "      <td>NaN</td>\n",
       "    </tr>\n",
       "    <tr>\n",
       "      <th>3</th>\n",
       "      <td>27thcandle</td>\n",
       "      <td>NaN</td>\n",
       "      <td>NaN</td>\n",
       "      <td>0.0</td>\n",
       "      <td>0.0</td>\n",
       "      <td>NaN</td>\n",
       "      <td>NaN</td>\n",
       "      <td>NaN</td>\n",
       "    </tr>\n",
       "    <tr>\n",
       "      <th>4</th>\n",
       "      <td>320Sycamorecandles</td>\n",
       "      <td>Hand Poured Pure Soy Candles with Cotton Wicks</td>\n",
       "      <td>Overland, Missouri</td>\n",
       "      <td>6700.0</td>\n",
       "      <td>1009.0</td>\n",
       "      <td>5.0</td>\n",
       "      <td>1715.0</td>\n",
       "      <td>2016.0</td>\n",
       "    </tr>\n",
       "  </tbody>\n",
       "</table>\n",
       "</div>"
      ],
      "text/plain": [
       "                 name                                   shop_description  \\\n",
       "0          160candles  Hand-poured candles – with 100% soy wax and 0%...   \n",
       "1     16wishescandles     Everything SWEET 16 for your MAGICAL day- xoxo   \n",
       "2       Sunnysmilenyc                                                NaN   \n",
       "3          27thcandle                                                NaN   \n",
       "4  320Sycamorecandles     Hand Poured Pure Soy Candles with Cotton Wicks   \n",
       "\n",
       "             location  num_sales  num_admirers  avg_item_review_rounded  \\\n",
       "0              Europe       68.0          50.0                      5.0   \n",
       "1       Dallas, Texas     1533.0         363.0                      4.0   \n",
       "2                 NaN        0.0           0.0                      NaN   \n",
       "3                 NaN        0.0           0.0                      NaN   \n",
       "4  Overland, Missouri     6700.0        1009.0                      5.0   \n",
       "\n",
       "   num_item_reviews  on_etsy_since  \n",
       "0              21.0         2021.0  \n",
       "1             280.0            NaN  \n",
       "2               NaN            NaN  \n",
       "3               NaN            NaN  \n",
       "4            1715.0         2016.0  "
      ]
     },
     "execution_count": 25,
     "metadata": {},
     "output_type": "execute_result"
    }
   ],
   "source": [
    "brand_data = pd.read_csv('Data/brand_data_raw.csv', index_col=0)\n",
    "brand_data.head()"
   ]
  },
  {
   "cell_type": "markdown",
   "id": "5f9fc1ec",
   "metadata": {},
   "source": [
    "Check null values in brand data."
   ]
  },
  {
   "cell_type": "code",
   "execution_count": 31,
   "id": "cd4e079a",
   "metadata": {},
   "outputs": [
    {
     "data": {
      "text/plain": [
       "name                         1\n",
       "shop_description           284\n",
       "location                   144\n",
       "num_sales                   30\n",
       "num_admirers                30\n",
       "avg_item_review_rounded    436\n",
       "num_item_reviews           436\n",
       "on_etsy_since              648\n",
       "dtype: int64"
      ]
     },
     "execution_count": 31,
     "metadata": {},
     "output_type": "execute_result"
    }
   ],
   "source": [
    "brand_data.isna().sum()"
   ]
  },
  {
   "cell_type": "markdown",
   "id": "bf805166",
   "metadata": {},
   "source": [
    "Drop records with a null value for num_sales or name."
   ]
  },
  {
   "cell_type": "code",
   "execution_count": 34,
   "id": "ca83ffac",
   "metadata": {},
   "outputs": [],
   "source": [
    "brand_data.dropna(subset=['name', 'num_sales'], axis=0, inplace=True)"
   ]
  },
  {
   "cell_type": "markdown",
   "id": "f41fd3ce",
   "metadata": {},
   "source": [
    "Join brand_data to product_data."
   ]
  },
  {
   "cell_type": "code",
   "execution_count": 42,
   "id": "86975d23",
   "metadata": {},
   "outputs": [
    {
     "data": {
      "text/html": [
       "<div>\n",
       "<style scoped>\n",
       "    .dataframe tbody tr th:only-of-type {\n",
       "        vertical-align: middle;\n",
       "    }\n",
       "\n",
       "    .dataframe tbody tr th {\n",
       "        vertical-align: top;\n",
       "    }\n",
       "\n",
       "    .dataframe thead th {\n",
       "        text-align: right;\n",
       "    }\n",
       "</style>\n",
       "<table border=\"1\" class=\"dataframe\">\n",
       "  <thead>\n",
       "    <tr style=\"text-align: right;\">\n",
       "      <th></th>\n",
       "      <th>product_name</th>\n",
       "      <th>product_url</th>\n",
       "      <th>brand_type</th>\n",
       "      <th>brand_name</th>\n",
       "      <th>price</th>\n",
       "      <th>currency</th>\n",
       "      <th>position</th>\n",
       "      <th>avg_rating</th>\n",
       "      <th>review_count</th>\n",
       "      <th>product_description</th>\n",
       "      <th>name</th>\n",
       "      <th>shop_description</th>\n",
       "      <th>location</th>\n",
       "      <th>num_sales</th>\n",
       "      <th>num_admirers</th>\n",
       "      <th>avg_item_review_rounded</th>\n",
       "      <th>num_item_reviews</th>\n",
       "      <th>on_etsy_since</th>\n",
       "    </tr>\n",
       "  </thead>\n",
       "  <tbody>\n",
       "    <tr>\n",
       "      <th>0</th>\n",
       "      <td>Yellow Gold Rustic Unscented Pillar Candle - C...</td>\n",
       "      <td>https://www.etsy.com/listing/171033085/yellow-...</td>\n",
       "      <td>Brand</td>\n",
       "      <td>StillWaterCandles</td>\n",
       "      <td>16.0</td>\n",
       "      <td>USD</td>\n",
       "      <td>1</td>\n",
       "      <td>4.9284</td>\n",
       "      <td>3750.0</td>\n",
       "      <td>This large yellow gold rustic unscented pillar...</td>\n",
       "      <td>StillWaterCandles</td>\n",
       "      <td>Handmade Rustic Pillar Candles  - Free Ship ov...</td>\n",
       "      <td>Missouri, United States</td>\n",
       "      <td>20080.0</td>\n",
       "      <td>3958.0</td>\n",
       "      <td>5.0</td>\n",
       "      <td>3752.0</td>\n",
       "      <td>2011.0</td>\n",
       "    </tr>\n",
       "    <tr>\n",
       "      <th>1</th>\n",
       "      <td>Pear Green Rustic Textured Unscented Block Pil...</td>\n",
       "      <td>https://www.etsy.com/listing/98864574/pear-gre...</td>\n",
       "      <td>Brand</td>\n",
       "      <td>StillWaterCandles</td>\n",
       "      <td>16.0</td>\n",
       "      <td>USD</td>\n",
       "      <td>2</td>\n",
       "      <td>4.9284</td>\n",
       "      <td>3750.0</td>\n",
       "      <td>This large pear green rustic unscented pillar ...</td>\n",
       "      <td>StillWaterCandles</td>\n",
       "      <td>Handmade Rustic Pillar Candles  - Free Ship ov...</td>\n",
       "      <td>Missouri, United States</td>\n",
       "      <td>20080.0</td>\n",
       "      <td>3958.0</td>\n",
       "      <td>5.0</td>\n",
       "      <td>3752.0</td>\n",
       "      <td>2011.0</td>\n",
       "    </tr>\n",
       "    <tr>\n",
       "      <th>2</th>\n",
       "      <td>Burnt Orange Rustic Large Unscented Pillar Can...</td>\n",
       "      <td>https://www.etsy.com/listing/172053498/burnt-o...</td>\n",
       "      <td>Brand</td>\n",
       "      <td>StillWaterCandles</td>\n",
       "      <td>16.0</td>\n",
       "      <td>USD</td>\n",
       "      <td>3</td>\n",
       "      <td>4.9284</td>\n",
       "      <td>3750.0</td>\n",
       "      <td>This large burnt orange unscented rustic pilla...</td>\n",
       "      <td>StillWaterCandles</td>\n",
       "      <td>Handmade Rustic Pillar Candles  - Free Ship ov...</td>\n",
       "      <td>Missouri, United States</td>\n",
       "      <td>20080.0</td>\n",
       "      <td>3958.0</td>\n",
       "      <td>5.0</td>\n",
       "      <td>3752.0</td>\n",
       "      <td>2011.0</td>\n",
       "    </tr>\n",
       "    <tr>\n",
       "      <th>3</th>\n",
       "      <td>Soy Mason Jar Candle////Choose Your Scent//Con...</td>\n",
       "      <td>https://www.etsy.com/listing/270002845/soy-mas...</td>\n",
       "      <td>Brand</td>\n",
       "      <td>TheDancingWick</td>\n",
       "      <td>15.0</td>\n",
       "      <td>USD</td>\n",
       "      <td>4</td>\n",
       "      <td>4.9323</td>\n",
       "      <td>29140.0</td>\n",
       "      <td>These beautiful candles are the perfect additi...</td>\n",
       "      <td>TheDancingWick</td>\n",
       "      <td>Personalized Soy Candles, Favors &amp; Sugar scrubs</td>\n",
       "      <td>Bixby, Oklahoma</td>\n",
       "      <td>150866.0</td>\n",
       "      <td>21155.0</td>\n",
       "      <td>5.0</td>\n",
       "      <td>29173.0</td>\n",
       "      <td>2011.0</td>\n",
       "    </tr>\n",
       "    <tr>\n",
       "      <th>4</th>\n",
       "      <td>Rainbow Candle / Soy Candle with 6 colorful la...</td>\n",
       "      <td>https://www.etsy.com/listing/251774155/rainbow...</td>\n",
       "      <td>Brand</td>\n",
       "      <td>SoapForYourSoul</td>\n",
       "      <td>29.0</td>\n",
       "      <td>USD</td>\n",
       "      <td>5</td>\n",
       "      <td>4.9102</td>\n",
       "      <td>5057.0</td>\n",
       "      <td>Colorful rainbow candle is six layers of scent...</td>\n",
       "      <td>SoapForYourSoul</td>\n",
       "      <td>Handmade Soap Company, Soy Candles &amp; Laundry Soap</td>\n",
       "      <td>Conway, South Carolina</td>\n",
       "      <td>13650.0</td>\n",
       "      <td>11583.0</td>\n",
       "      <td>5.0</td>\n",
       "      <td>5060.0</td>\n",
       "      <td>2009.0</td>\n",
       "    </tr>\n",
       "  </tbody>\n",
       "</table>\n",
       "</div>"
      ],
      "text/plain": [
       "                                        product_name  \\\n",
       "0  Yellow Gold Rustic Unscented Pillar Candle - C...   \n",
       "1  Pear Green Rustic Textured Unscented Block Pil...   \n",
       "2  Burnt Orange Rustic Large Unscented Pillar Can...   \n",
       "3  Soy Mason Jar Candle////Choose Your Scent//Con...   \n",
       "4  Rainbow Candle / Soy Candle with 6 colorful la...   \n",
       "\n",
       "                                         product_url brand_type  \\\n",
       "0  https://www.etsy.com/listing/171033085/yellow-...      Brand   \n",
       "1  https://www.etsy.com/listing/98864574/pear-gre...      Brand   \n",
       "2  https://www.etsy.com/listing/172053498/burnt-o...      Brand   \n",
       "3  https://www.etsy.com/listing/270002845/soy-mas...      Brand   \n",
       "4  https://www.etsy.com/listing/251774155/rainbow...      Brand   \n",
       "\n",
       "          brand_name  price currency  position  avg_rating  review_count  \\\n",
       "0  StillWaterCandles   16.0      USD         1      4.9284        3750.0   \n",
       "1  StillWaterCandles   16.0      USD         2      4.9284        3750.0   \n",
       "2  StillWaterCandles   16.0      USD         3      4.9284        3750.0   \n",
       "3     TheDancingWick   15.0      USD         4      4.9323       29140.0   \n",
       "4    SoapForYourSoul   29.0      USD         5      4.9102        5057.0   \n",
       "\n",
       "                                 product_description               name  \\\n",
       "0  This large yellow gold rustic unscented pillar...  StillWaterCandles   \n",
       "1  This large pear green rustic unscented pillar ...  StillWaterCandles   \n",
       "2  This large burnt orange unscented rustic pilla...  StillWaterCandles   \n",
       "3  These beautiful candles are the perfect additi...     TheDancingWick   \n",
       "4  Colorful rainbow candle is six layers of scent...    SoapForYourSoul   \n",
       "\n",
       "                                    shop_description                 location  \\\n",
       "0  Handmade Rustic Pillar Candles  - Free Ship ov...  Missouri, United States   \n",
       "1  Handmade Rustic Pillar Candles  - Free Ship ov...  Missouri, United States   \n",
       "2  Handmade Rustic Pillar Candles  - Free Ship ov...  Missouri, United States   \n",
       "3    Personalized Soy Candles, Favors & Sugar scrubs          Bixby, Oklahoma   \n",
       "4  Handmade Soap Company, Soy Candles & Laundry Soap   Conway, South Carolina   \n",
       "\n",
       "   num_sales  num_admirers  avg_item_review_rounded  num_item_reviews  \\\n",
       "0    20080.0        3958.0                      5.0            3752.0   \n",
       "1    20080.0        3958.0                      5.0            3752.0   \n",
       "2    20080.0        3958.0                      5.0            3752.0   \n",
       "3   150866.0       21155.0                      5.0           29173.0   \n",
       "4    13650.0       11583.0                      5.0            5060.0   \n",
       "\n",
       "   on_etsy_since  \n",
       "0         2011.0  \n",
       "1         2011.0  \n",
       "2         2011.0  \n",
       "3         2011.0  \n",
       "4         2009.0  "
      ]
     },
     "execution_count": 42,
     "metadata": {},
     "output_type": "execute_result"
    }
   ],
   "source": [
    "query = '''SELECT *\n",
    "           FROM data\n",
    "           LEFT JOIN brand_data\n",
    "           ON data.brand_name = brand_data.name'''\n",
    "\n",
    "all_data = sqldf(query)\n",
    "\n",
    "all_data.head()"
   ]
  },
  {
   "cell_type": "markdown",
   "id": "1c0ddc11",
   "metadata": {},
   "source": [
    "We don't need a \"brand_name\" and a \"name\" column. Also, \"brand_type\" is Brand for every record, so we can drop this feature. We also don't need product_url anymore."
   ]
  },
  {
   "cell_type": "code",
   "execution_count": 43,
   "id": "223a65c9",
   "metadata": {},
   "outputs": [],
   "source": [
    "all_data.drop(columns=['brand_type', 'name', 'product_url'], inplace=True)"
   ]
  },
  {
   "cell_type": "markdown",
   "id": "5e1e2698",
   "metadata": {},
   "source": [
    "Below are the current counts for all null values in each feature category."
   ]
  },
  {
   "cell_type": "code",
   "execution_count": 44,
   "id": "3c3f24bc",
   "metadata": {},
   "outputs": [
    {
     "data": {
      "text/plain": [
       "product_name                  14\n",
       "brand_name                     0\n",
       "price                         19\n",
       "currency                      19\n",
       "position                       0\n",
       "avg_rating                 11330\n",
       "review_count               11330\n",
       "product_description           24\n",
       "shop_description            5242\n",
       "location                    1689\n",
       "num_sales                    417\n",
       "num_admirers                 417\n",
       "avg_item_review_rounded    11332\n",
       "num_item_reviews           11332\n",
       "on_etsy_since              17875\n",
       "dtype: int64"
      ]
     },
     "execution_count": 44,
     "metadata": {},
     "output_type": "execute_result"
    }
   ],
   "source": [
    "all_data.isna().sum()"
   ]
  },
  {
   "cell_type": "code",
   "execution_count": 46,
   "id": "222a4852",
   "metadata": {},
   "outputs": [
    {
     "data": {
      "text/html": [
       "<div>\n",
       "<style scoped>\n",
       "    .dataframe tbody tr th:only-of-type {\n",
       "        vertical-align: middle;\n",
       "    }\n",
       "\n",
       "    .dataframe tbody tr th {\n",
       "        vertical-align: top;\n",
       "    }\n",
       "\n",
       "    .dataframe thead th {\n",
       "        text-align: right;\n",
       "    }\n",
       "</style>\n",
       "<table border=\"1\" class=\"dataframe\">\n",
       "  <thead>\n",
       "    <tr style=\"text-align: right;\">\n",
       "      <th></th>\n",
       "      <th>brand_name</th>\n",
       "      <th>candle_count</th>\n",
       "      <th>product_name</th>\n",
       "      <th>brand_name</th>\n",
       "      <th>price</th>\n",
       "      <th>currency</th>\n",
       "      <th>position</th>\n",
       "      <th>avg_rating</th>\n",
       "      <th>review_count</th>\n",
       "      <th>product_description</th>\n",
       "      <th>shop_description</th>\n",
       "      <th>location</th>\n",
       "      <th>num_sales</th>\n",
       "      <th>num_admirers</th>\n",
       "      <th>avg_item_review_rounded</th>\n",
       "      <th>num_item_reviews</th>\n",
       "      <th>on_etsy_since</th>\n",
       "    </tr>\n",
       "  </thead>\n",
       "  <tbody>\n",
       "    <tr>\n",
       "      <th>0</th>\n",
       "      <td>160candles</td>\n",
       "      <td>3</td>\n",
       "      <td>Birthdate zodiac candle Leo gift birthday astr...</td>\n",
       "      <td>160candles</td>\n",
       "      <td>28.0</td>\n",
       "      <td>USD</td>\n",
       "      <td>9</td>\n",
       "      <td>5.0000</td>\n",
       "      <td>21.0</td>\n",
       "      <td>Birthdate zodiac candle for Leo – perfect astr...</td>\n",
       "      <td>Hand-poured candles – with 100% soy wax and 0%...</td>\n",
       "      <td>Europe</td>\n",
       "      <td>68.0</td>\n",
       "      <td>50.0</td>\n",
       "      <td>5.0</td>\n",
       "      <td>21.0</td>\n",
       "      <td>2021.0</td>\n",
       "    </tr>\n",
       "    <tr>\n",
       "      <th>1</th>\n",
       "      <td>160candles</td>\n",
       "      <td>3</td>\n",
       "      <td>Birthdate zodiac candle Leo gift birthday astr...</td>\n",
       "      <td>160candles</td>\n",
       "      <td>28.0</td>\n",
       "      <td>USD</td>\n",
       "      <td>8</td>\n",
       "      <td>5.0000</td>\n",
       "      <td>21.0</td>\n",
       "      <td>Birthdate zodiac candle for Leo – perfect astr...</td>\n",
       "      <td>Hand-poured candles – with 100% soy wax and 0%...</td>\n",
       "      <td>Europe</td>\n",
       "      <td>68.0</td>\n",
       "      <td>50.0</td>\n",
       "      <td>5.0</td>\n",
       "      <td>21.0</td>\n",
       "      <td>2021.0</td>\n",
       "    </tr>\n",
       "    <tr>\n",
       "      <th>2</th>\n",
       "      <td>160candles</td>\n",
       "      <td>3</td>\n",
       "      <td>Birthdate zodiac candle Leo gift birthday astr...</td>\n",
       "      <td>160candles</td>\n",
       "      <td>28.0</td>\n",
       "      <td>USD</td>\n",
       "      <td>10</td>\n",
       "      <td>5.0000</td>\n",
       "      <td>21.0</td>\n",
       "      <td>Birthdate zodiac candle for Leo – perfect astr...</td>\n",
       "      <td>Hand-poured candles – with 100% soy wax and 0%...</td>\n",
       "      <td>Europe</td>\n",
       "      <td>68.0</td>\n",
       "      <td>50.0</td>\n",
       "      <td>5.0</td>\n",
       "      <td>21.0</td>\n",
       "      <td>2021.0</td>\n",
       "    </tr>\n",
       "    <tr>\n",
       "      <th>3</th>\n",
       "      <td>16wishescandles</td>\n",
       "      <td>6</td>\n",
       "      <td>16 Wishes Candle Box Gold tin Sweet 16 gift id...</td>\n",
       "      <td>16wishescandles</td>\n",
       "      <td>61.0</td>\n",
       "      <td>USD</td>\n",
       "      <td>30</td>\n",
       "      <td>4.6703</td>\n",
       "      <td>280.0</td>\n",
       "      <td>***optional add on**** a replica of Abby Jense...</td>\n",
       "      <td>Everything SWEET 16 for your MAGICAL day- xoxo</td>\n",
       "      <td>Dallas, Texas</td>\n",
       "      <td>1533.0</td>\n",
       "      <td>363.0</td>\n",
       "      <td>4.0</td>\n",
       "      <td>280.0</td>\n",
       "      <td>NaN</td>\n",
       "    </tr>\n",
       "    <tr>\n",
       "      <th>4</th>\n",
       "      <td>16wishescandles</td>\n",
       "      <td>6</td>\n",
       "      <td>16 Wishes Candle Box Gold tin Sweet 16 gift id...</td>\n",
       "      <td>16wishescandles</td>\n",
       "      <td>61.0</td>\n",
       "      <td>USD</td>\n",
       "      <td>29</td>\n",
       "      <td>4.6703</td>\n",
       "      <td>280.0</td>\n",
       "      <td>***optional add on**** a replica of Abby Jense...</td>\n",
       "      <td>Everything SWEET 16 for your MAGICAL day- xoxo</td>\n",
       "      <td>Dallas, Texas</td>\n",
       "      <td>1533.0</td>\n",
       "      <td>363.0</td>\n",
       "      <td>4.0</td>\n",
       "      <td>280.0</td>\n",
       "      <td>NaN</td>\n",
       "    </tr>\n",
       "    <tr>\n",
       "      <th>...</th>\n",
       "      <td>...</td>\n",
       "      <td>...</td>\n",
       "      <td>...</td>\n",
       "      <td>...</td>\n",
       "      <td>...</td>\n",
       "      <td>...</td>\n",
       "      <td>...</td>\n",
       "      <td>...</td>\n",
       "      <td>...</td>\n",
       "      <td>...</td>\n",
       "      <td>...</td>\n",
       "      <td>...</td>\n",
       "      <td>...</td>\n",
       "      <td>...</td>\n",
       "      <td>...</td>\n",
       "      <td>...</td>\n",
       "      <td>...</td>\n",
       "    </tr>\n",
       "    <tr>\n",
       "      <th>190174</th>\n",
       "      <td>yourclassicshop</td>\n",
       "      <td>7</td>\n",
       "      <td>Beyond Beautiful Cherry Blossom Scented Candle...</td>\n",
       "      <td>yourclassicshop</td>\n",
       "      <td>70.0</td>\n",
       "      <td>USD</td>\n",
       "      <td>11</td>\n",
       "      <td>NaN</td>\n",
       "      <td>NaN</td>\n",
       "      <td>Beyond Beautiful Cherry Blossom Scented Candle...</td>\n",
       "      <td>Loris Gift Shop</td>\n",
       "      <td>None</td>\n",
       "      <td>0.0</td>\n",
       "      <td>0.0</td>\n",
       "      <td>NaN</td>\n",
       "      <td>NaN</td>\n",
       "      <td>NaN</td>\n",
       "    </tr>\n",
       "    <tr>\n",
       "      <th>190175</th>\n",
       "      <td>yourclassicshop</td>\n",
       "      <td>7</td>\n",
       "      <td>Beyond Beautiful Cherry Blossom Scented Candle...</td>\n",
       "      <td>yourclassicshop</td>\n",
       "      <td>70.0</td>\n",
       "      <td>USD</td>\n",
       "      <td>4</td>\n",
       "      <td>NaN</td>\n",
       "      <td>NaN</td>\n",
       "      <td>Beyond Beautiful Cherry Blossom Scented Candle...</td>\n",
       "      <td>Loris Gift Shop</td>\n",
       "      <td>None</td>\n",
       "      <td>0.0</td>\n",
       "      <td>0.0</td>\n",
       "      <td>NaN</td>\n",
       "      <td>NaN</td>\n",
       "      <td>NaN</td>\n",
       "    </tr>\n",
       "    <tr>\n",
       "      <th>190176</th>\n",
       "      <td>yourclassicshop</td>\n",
       "      <td>7</td>\n",
       "      <td>Beyond Beautiful Cherry Blossom Scented Candle...</td>\n",
       "      <td>yourclassicshop</td>\n",
       "      <td>70.0</td>\n",
       "      <td>USD</td>\n",
       "      <td>11</td>\n",
       "      <td>NaN</td>\n",
       "      <td>NaN</td>\n",
       "      <td>Beyond Beautiful Cherry Blossom Scented Candle...</td>\n",
       "      <td>Loris Gift Shop</td>\n",
       "      <td>None</td>\n",
       "      <td>0.0</td>\n",
       "      <td>0.0</td>\n",
       "      <td>NaN</td>\n",
       "      <td>NaN</td>\n",
       "      <td>NaN</td>\n",
       "    </tr>\n",
       "    <tr>\n",
       "      <th>190177</th>\n",
       "      <td>yourclassicshop</td>\n",
       "      <td>7</td>\n",
       "      <td>Beyond Beautiful Cherry Blossom Scented Candle...</td>\n",
       "      <td>yourclassicshop</td>\n",
       "      <td>70.0</td>\n",
       "      <td>USD</td>\n",
       "      <td>10</td>\n",
       "      <td>NaN</td>\n",
       "      <td>NaN</td>\n",
       "      <td>Beyond Beautiful Cherry Blossom Scented Candle...</td>\n",
       "      <td>Loris Gift Shop</td>\n",
       "      <td>None</td>\n",
       "      <td>0.0</td>\n",
       "      <td>0.0</td>\n",
       "      <td>NaN</td>\n",
       "      <td>NaN</td>\n",
       "      <td>NaN</td>\n",
       "    </tr>\n",
       "    <tr>\n",
       "      <th>190178</th>\n",
       "      <td>yourclassicshop</td>\n",
       "      <td>7</td>\n",
       "      <td>Beyond Beautiful Cherry Blossom Scented Candle...</td>\n",
       "      <td>yourclassicshop</td>\n",
       "      <td>70.0</td>\n",
       "      <td>USD</td>\n",
       "      <td>10</td>\n",
       "      <td>NaN</td>\n",
       "      <td>NaN</td>\n",
       "      <td>Beyond Beautiful Cherry Blossom Scented Candle...</td>\n",
       "      <td>Loris Gift Shop</td>\n",
       "      <td>None</td>\n",
       "      <td>0.0</td>\n",
       "      <td>0.0</td>\n",
       "      <td>NaN</td>\n",
       "      <td>NaN</td>\n",
       "      <td>NaN</td>\n",
       "    </tr>\n",
       "  </tbody>\n",
       "</table>\n",
       "<p>190179 rows × 17 columns</p>\n",
       "</div>"
      ],
      "text/plain": [
       "             brand_name  candle_count  \\\n",
       "0            160candles             3   \n",
       "1            160candles             3   \n",
       "2            160candles             3   \n",
       "3       16wishescandles             6   \n",
       "4       16wishescandles             6   \n",
       "...                 ...           ...   \n",
       "190174  yourclassicshop             7   \n",
       "190175  yourclassicshop             7   \n",
       "190176  yourclassicshop             7   \n",
       "190177  yourclassicshop             7   \n",
       "190178  yourclassicshop             7   \n",
       "\n",
       "                                             product_name       brand_name  \\\n",
       "0       Birthdate zodiac candle Leo gift birthday astr...       160candles   \n",
       "1       Birthdate zodiac candle Leo gift birthday astr...       160candles   \n",
       "2       Birthdate zodiac candle Leo gift birthday astr...       160candles   \n",
       "3       16 Wishes Candle Box Gold tin Sweet 16 gift id...  16wishescandles   \n",
       "4       16 Wishes Candle Box Gold tin Sweet 16 gift id...  16wishescandles   \n",
       "...                                                   ...              ...   \n",
       "190174  Beyond Beautiful Cherry Blossom Scented Candle...  yourclassicshop   \n",
       "190175  Beyond Beautiful Cherry Blossom Scented Candle...  yourclassicshop   \n",
       "190176  Beyond Beautiful Cherry Blossom Scented Candle...  yourclassicshop   \n",
       "190177  Beyond Beautiful Cherry Blossom Scented Candle...  yourclassicshop   \n",
       "190178  Beyond Beautiful Cherry Blossom Scented Candle...  yourclassicshop   \n",
       "\n",
       "        price currency  position  avg_rating  review_count  \\\n",
       "0        28.0      USD         9      5.0000          21.0   \n",
       "1        28.0      USD         8      5.0000          21.0   \n",
       "2        28.0      USD        10      5.0000          21.0   \n",
       "3        61.0      USD        30      4.6703         280.0   \n",
       "4        61.0      USD        29      4.6703         280.0   \n",
       "...       ...      ...       ...         ...           ...   \n",
       "190174   70.0      USD        11         NaN           NaN   \n",
       "190175   70.0      USD         4         NaN           NaN   \n",
       "190176   70.0      USD        11         NaN           NaN   \n",
       "190177   70.0      USD        10         NaN           NaN   \n",
       "190178   70.0      USD        10         NaN           NaN   \n",
       "\n",
       "                                      product_description  \\\n",
       "0       Birthdate zodiac candle for Leo – perfect astr...   \n",
       "1       Birthdate zodiac candle for Leo – perfect astr...   \n",
       "2       Birthdate zodiac candle for Leo – perfect astr...   \n",
       "3       ***optional add on**** a replica of Abby Jense...   \n",
       "4       ***optional add on**** a replica of Abby Jense...   \n",
       "...                                                   ...   \n",
       "190174  Beyond Beautiful Cherry Blossom Scented Candle...   \n",
       "190175  Beyond Beautiful Cherry Blossom Scented Candle...   \n",
       "190176  Beyond Beautiful Cherry Blossom Scented Candle...   \n",
       "190177  Beyond Beautiful Cherry Blossom Scented Candle...   \n",
       "190178  Beyond Beautiful Cherry Blossom Scented Candle...   \n",
       "\n",
       "                                         shop_description       location  \\\n",
       "0       Hand-poured candles – with 100% soy wax and 0%...         Europe   \n",
       "1       Hand-poured candles – with 100% soy wax and 0%...         Europe   \n",
       "2       Hand-poured candles – with 100% soy wax and 0%...         Europe   \n",
       "3          Everything SWEET 16 for your MAGICAL day- xoxo  Dallas, Texas   \n",
       "4          Everything SWEET 16 for your MAGICAL day- xoxo  Dallas, Texas   \n",
       "...                                                   ...            ...   \n",
       "190174                                    Loris Gift Shop           None   \n",
       "190175                                    Loris Gift Shop           None   \n",
       "190176                                    Loris Gift Shop           None   \n",
       "190177                                    Loris Gift Shop           None   \n",
       "190178                                    Loris Gift Shop           None   \n",
       "\n",
       "        num_sales  num_admirers  avg_item_review_rounded  num_item_reviews  \\\n",
       "0            68.0          50.0                      5.0              21.0   \n",
       "1            68.0          50.0                      5.0              21.0   \n",
       "2            68.0          50.0                      5.0              21.0   \n",
       "3          1533.0         363.0                      4.0             280.0   \n",
       "4          1533.0         363.0                      4.0             280.0   \n",
       "...           ...           ...                      ...               ...   \n",
       "190174        0.0           0.0                      NaN               NaN   \n",
       "190175        0.0           0.0                      NaN               NaN   \n",
       "190176        0.0           0.0                      NaN               NaN   \n",
       "190177        0.0           0.0                      NaN               NaN   \n",
       "190178        0.0           0.0                      NaN               NaN   \n",
       "\n",
       "        on_etsy_since  \n",
       "0              2021.0  \n",
       "1              2021.0  \n",
       "2              2021.0  \n",
       "3                 NaN  \n",
       "4                 NaN  \n",
       "...               ...  \n",
       "190174            NaN  \n",
       "190175            NaN  \n",
       "190176            NaN  \n",
       "190177            NaN  \n",
       "190178            NaN  \n",
       "\n",
       "[190179 rows x 17 columns]"
      ]
     },
     "execution_count": 46,
     "metadata": {},
     "output_type": "execute_result"
    }
   ],
   "source": [
    "query = '''SELECT *\n",
    "           FROM (\n",
    "                 SELECT brand_name, count() AS candle_count\n",
    "                 FROM all_data\n",
    "                 GROUP BY brand_name\n",
    "                 ) AS candle_count_table\n",
    "           RIGHT JOIN all_data\n",
    "           ON candle_count_table.brand_name = all_data.brand_name\n",
    "           '''\n",
    "\n",
    "sqldf(query)"
   ]
  },
  {
   "cell_type": "code",
   "execution_count": 45,
   "id": "0fb705db",
   "metadata": {},
   "outputs": [
    {
     "data": {
      "text/plain": [
       "brand_name\n",
       "160candles               3\n",
       "16wishescandles          6\n",
       "1995DesignCompany        7\n",
       "27thcandle               3\n",
       "320Sycamorecandles      10\n",
       "                      ... \n",
       "withpoesie               4\n",
       "woodIandwitchcrafts      7\n",
       "woodwoodhoney            7\n",
       "www13grammcom          234\n",
       "yourclassicshop          7\n",
       "Name: product_name, Length: 1568, dtype: int64"
      ]
     },
     "execution_count": 45,
     "metadata": {},
     "output_type": "execute_result"
    }
   ],
   "source": [
    "all_data.groupby('brand_name').count()['product_name']"
   ]
  },
  {
   "cell_type": "markdown",
   "id": "bed8e767",
   "metadata": {},
   "source": [
    "We will use the following features to build a baseline model:\n",
    "\n",
    "ITEM INFO\n",
    "\n",
    "- avg_rating\n",
    "- review_count (for individual product, not brand!)\n",
    "-\n",
    "\n",
    "BRAND INFO\n",
    "\n",
    "- num_sales\n",
    "- num_admireres\n",
    "- avg_item_review_rounded\n",
    "- num_item_reviews\n",
    "- on_etsy_since"
   ]
  },
  {
   "cell_type": "markdown",
   "id": "c2feefcb",
   "metadata": {},
   "source": [
    "View five number summary for price, average rating and review count."
   ]
  },
  {
   "cell_type": "code",
   "execution_count": 6,
   "id": "d555e779",
   "metadata": {
    "scrolled": false
   },
   "outputs": [
    {
     "data": {
      "text/html": [
       "<div>\n",
       "<style scoped>\n",
       "    .dataframe tbody tr th:only-of-type {\n",
       "        vertical-align: middle;\n",
       "    }\n",
       "\n",
       "    .dataframe tbody tr th {\n",
       "        vertical-align: top;\n",
       "    }\n",
       "\n",
       "    .dataframe thead th {\n",
       "        text-align: right;\n",
       "    }\n",
       "</style>\n",
       "<table border=\"1\" class=\"dataframe\">\n",
       "  <thead>\n",
       "    <tr style=\"text-align: right;\">\n",
       "      <th></th>\n",
       "      <th>price</th>\n",
       "      <th>avg_rating</th>\n",
       "      <th>review_count</th>\n",
       "    </tr>\n",
       "  </thead>\n",
       "  <tbody>\n",
       "    <tr>\n",
       "      <th>count</th>\n",
       "      <td>190109.000000</td>\n",
       "      <td>178849.000000</td>\n",
       "      <td>178849.000000</td>\n",
       "    </tr>\n",
       "    <tr>\n",
       "      <th>mean</th>\n",
       "      <td>19.114158</td>\n",
       "      <td>4.915511</td>\n",
       "      <td>14551.489664</td>\n",
       "    </tr>\n",
       "    <tr>\n",
       "      <th>std</th>\n",
       "      <td>12.061501</td>\n",
       "      <td>0.081231</td>\n",
       "      <td>37589.173812</td>\n",
       "    </tr>\n",
       "    <tr>\n",
       "      <th>min</th>\n",
       "      <td>0.560000</td>\n",
       "      <td>1.000000</td>\n",
       "      <td>1.000000</td>\n",
       "    </tr>\n",
       "    <tr>\n",
       "      <th>25%</th>\n",
       "      <td>13.990000</td>\n",
       "      <td>4.901700</td>\n",
       "      <td>1257.000000</td>\n",
       "    </tr>\n",
       "    <tr>\n",
       "      <th>50%</th>\n",
       "      <td>15.000000</td>\n",
       "      <td>4.930000</td>\n",
       "      <td>3857.000000</td>\n",
       "    </tr>\n",
       "    <tr>\n",
       "      <th>75%</th>\n",
       "      <td>20.950000</td>\n",
       "      <td>4.953900</td>\n",
       "      <td>8205.000000</td>\n",
       "    </tr>\n",
       "    <tr>\n",
       "      <th>max</th>\n",
       "      <td>350.000000</td>\n",
       "      <td>5.000000</td>\n",
       "      <td>169122.000000</td>\n",
       "    </tr>\n",
       "  </tbody>\n",
       "</table>\n",
       "</div>"
      ],
      "text/plain": [
       "               price     avg_rating   review_count\n",
       "count  190109.000000  178849.000000  178849.000000\n",
       "mean       19.114158       4.915511   14551.489664\n",
       "std        12.061501       0.081231   37589.173812\n",
       "min         0.560000       1.000000       1.000000\n",
       "25%        13.990000       4.901700    1257.000000\n",
       "50%        15.000000       4.930000    3857.000000\n",
       "75%        20.950000       4.953900    8205.000000\n",
       "max       350.000000       5.000000  169122.000000"
      ]
     },
     "execution_count": 6,
     "metadata": {},
     "output_type": "execute_result"
    }
   ],
   "source": [
    "data.describe().drop(['position'], axis=1)"
   ]
  },
  {
   "cell_type": "markdown",
   "id": "14c5138b",
   "metadata": {},
   "source": [
    "**Price**\n",
    "\n",
    "Mean price of a candle: \\\\$19\n",
    "\n",
    "Standard deviation: $12\n",
    "\n",
    "Median price of a candle: \\\\$15\n",
    "\n",
    "Maximum price: \\\\$350\n",
    "\n",
    "Minimum price: \\\\$0.56\n",
    "\n",
    "^^*Explore outliers*\n",
    "\n",
    "**Average Rating**\n",
    "\n",
    "Mean mean rating: 4.92\n",
    "\n",
    "Standard deviation: 0.08\n",
    "\n",
    "*Most ratings are quite high.*\n",
    "\n",
    "In fact, 50\\% of ratings lie between 4.9 and 4.95.\n",
    "\n",
    "The minimum, however, is 1, and the maximum is 5, as expected.\n",
    "\n",
    "**Review Count**\n",
    "\n",
    "Mean review count: 14,551\n",
    "\n",
    "Standard deviation: 37,589\n",
    "\n",
    "Minimum: 1\n",
    "\n",
    "Maximum: 169,122\n",
    "\n",
    "50\\% lie between 1257 reviews and 8205 reviews."
   ]
  },
  {
   "cell_type": "markdown",
   "id": "44891214",
   "metadata": {},
   "source": [
    "**Null values**\n",
    "\n",
    "A little over 11,000 candles do not have an average rating or review count.\n",
    "\n",
    "19 candles do not have a price listed."
   ]
  },
  {
   "cell_type": "code",
   "execution_count": 8,
   "id": "f606da3f",
   "metadata": {},
   "outputs": [
    {
     "data": {
      "text/plain": [
       "11279"
      ]
     },
     "execution_count": 8,
     "metadata": {},
     "output_type": "execute_result"
    }
   ],
   "source": [
    "data.avg_rating.isna().sum()"
   ]
  },
  {
   "cell_type": "code",
   "execution_count": 9,
   "id": "8dc19ff2",
   "metadata": {},
   "outputs": [
    {
     "data": {
      "text/plain": [
       "19"
      ]
     },
     "execution_count": 9,
     "metadata": {},
     "output_type": "execute_result"
    }
   ],
   "source": [
    "data.price.isna().sum()"
   ]
  },
  {
   "cell_type": "markdown",
   "id": "4ebe05ab",
   "metadata": {},
   "source": [
    "**Brand**\n",
    "\n",
    "100% of candles have a brand listed."
   ]
  },
  {
   "cell_type": "code",
   "execution_count": 10,
   "id": "bb5857a0",
   "metadata": {},
   "outputs": [
    {
     "data": {
      "text/plain": [
       "Brand    190128\n",
       "Name: brand_type, dtype: int64"
      ]
     },
     "execution_count": 10,
     "metadata": {},
     "output_type": "execute_result"
    }
   ],
   "source": [
    "data.brand_type.value_counts()"
   ]
  },
  {
   "cell_type": "code",
   "execution_count": 14,
   "id": "46f5fd55",
   "metadata": {},
   "outputs": [
    {
     "data": {
      "text/plain": [
       "0"
      ]
     },
     "execution_count": 14,
     "metadata": {},
     "output_type": "execute_result"
    }
   ],
   "source": [
    "data.brand_name.isna().sum()"
   ]
  },
  {
   "cell_type": "markdown",
   "id": "0d0f2da5",
   "metadata": {},
   "source": [
    "Number of brands in the dataset: 1568"
   ]
  },
  {
   "cell_type": "code",
   "execution_count": 21,
   "id": "7ae0a312",
   "metadata": {},
   "outputs": [
    {
     "data": {
      "text/plain": [
       "(1568,)"
      ]
     },
     "execution_count": 21,
     "metadata": {},
     "output_type": "execute_result"
    }
   ],
   "source": [
    "data.brand_name.value_counts().shape"
   ]
  },
  {
   "cell_type": "markdown",
   "id": "88c2e4e4",
   "metadata": {},
   "source": [
    "50% of brands have between 6 and 19 candles for sale in the search results.\n",
    "\n",
    "The most prolific brand has 11,211 candles for sale in this dataset alone.\n",
    "\n",
    "25% of brands have 6 or fewer candles for sale in this dataset."
   ]
  },
  {
   "cell_type": "code",
   "execution_count": 12,
   "id": "723b5104",
   "metadata": {},
   "outputs": [
    {
     "data": {
      "text/plain": [
       "count     1568.000000\n",
       "mean       121.255102\n",
       "std        703.398801\n",
       "min          1.000000\n",
       "25%          6.000000\n",
       "50%          7.000000\n",
       "75%         19.000000\n",
       "max      11211.000000\n",
       "Name: brand_name, dtype: float64"
      ]
     },
     "execution_count": 12,
     "metadata": {},
     "output_type": "execute_result"
    }
   ],
   "source": [
    "data.brand_name.value_counts().describe()"
   ]
  },
  {
   "cell_type": "markdown",
   "id": "d52f95d7",
   "metadata": {},
   "source": [
    "**Product Description**"
   ]
  },
  {
   "cell_type": "markdown",
   "id": "6057f3b8",
   "metadata": {},
   "source": [
    "24 candles are missing a product description."
   ]
  },
  {
   "cell_type": "code",
   "execution_count": 16,
   "id": "16679811",
   "metadata": {},
   "outputs": [
    {
     "data": {
      "text/plain": [
       "24"
      ]
     },
     "execution_count": 16,
     "metadata": {},
     "output_type": "execute_result"
    }
   ],
   "source": [
    "data.product_description.isna().sum()"
   ]
  },
  {
   "cell_type": "markdown",
   "id": "394b9d68",
   "metadata": {},
   "source": [
    "The \"average\" product description contains 452 words, but there is a HUGE standard deviation! In reality, 75% of product descriptions are shorter than 389 words, and 50% have fewer than 233 words."
   ]
  },
  {
   "cell_type": "code",
   "execution_count": 18,
   "id": "8c96a36c",
   "metadata": {},
   "outputs": [
    {
     "data": {
      "text/plain": [
       "count    190104.000000\n",
       "mean        452.528279\n",
       "std         892.365711\n",
       "min           1.000000\n",
       "25%         146.000000\n",
       "50%         233.000000\n",
       "75%         389.000000\n",
       "max        5602.000000\n",
       "Name: product_description, dtype: float64"
      ]
     },
     "execution_count": 18,
     "metadata": {},
     "output_type": "execute_result"
    }
   ],
   "source": [
    "data.product_description.dropna().map(lambda x: len(x.split())).describe()"
   ]
  },
  {
   "cell_type": "markdown",
   "id": "dc3f14c7",
   "metadata": {},
   "source": [
    "TO DO:\n",
    "\n",
    "- [ ] Look at top words in product descriptions and product names"
   ]
  },
  {
   "cell_type": "markdown",
   "id": "02801e80",
   "metadata": {},
   "source": [
    "**Product Name**"
   ]
  },
  {
   "cell_type": "markdown",
   "id": "9f1105e8",
   "metadata": {},
   "source": [
    "14 candles do not have a product name."
   ]
  },
  {
   "cell_type": "code",
   "execution_count": 19,
   "id": "78d456cc",
   "metadata": {},
   "outputs": [
    {
     "data": {
      "text/plain": [
       "14"
      ]
     },
     "execution_count": 19,
     "metadata": {},
     "output_type": "execute_result"
    }
   ],
   "source": [
    "data.product_name.isna().sum()"
   ]
  },
  {
   "cell_type": "markdown",
   "id": "27ff5405",
   "metadata": {},
   "source": [
    "The \"average\" product name is 16 words long, which is relatively close to the median length as well."
   ]
  },
  {
   "cell_type": "code",
   "execution_count": 20,
   "id": "6a07fae5",
   "metadata": {},
   "outputs": [
    {
     "data": {
      "text/plain": [
       "count    190114.000000\n",
       "mean         16.107656\n",
       "std           6.302984\n",
       "min           1.000000\n",
       "25%          11.000000\n",
       "50%          17.000000\n",
       "75%          22.000000\n",
       "max          32.000000\n",
       "Name: product_name, dtype: float64"
      ]
     },
     "execution_count": 20,
     "metadata": {},
     "output_type": "execute_result"
    }
   ],
   "source": [
    "data.product_name.dropna().map(lambda x: len(x.split())).describe()"
   ]
  }
 ],
 "metadata": {
  "kernelspec": {
   "display_name": "etsy-demand-model",
   "language": "python",
   "name": "etsy-demand-model"
  },
  "language_info": {
   "codemirror_mode": {
    "name": "ipython",
    "version": 3
   },
   "file_extension": ".py",
   "mimetype": "text/x-python",
   "name": "python",
   "nbconvert_exporter": "python",
   "pygments_lexer": "ipython3",
   "version": "3.11.4"
  }
 },
 "nbformat": 4,
 "nbformat_minor": 5
}
