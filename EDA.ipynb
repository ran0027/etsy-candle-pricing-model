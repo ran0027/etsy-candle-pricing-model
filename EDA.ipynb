{
 "cells": [
  {
   "cell_type": "markdown",
   "id": "33d88dfc",
   "metadata": {},
   "source": [
    "# Etsy Pricing Model\n",
    "\n",
    "Here is a brief description of the project / model.\n",
    "\n",
    "**Name** &nbsp; Rebecca Neel\n",
    "\n",
    "**Date** &nbsp; 11 July, 2023 -"
   ]
  },
  {
   "cell_type": "markdown",
   "id": "3f0fa04f",
   "metadata": {},
   "source": [
    "## Import Packages"
   ]
  },
  {
   "cell_type": "code",
   "execution_count": 162,
   "id": "e6fafffe",
   "metadata": {},
   "outputs": [],
   "source": [
    "import pandas as pd\n",
    "import numpy as np\n",
    "import matplotlib.pyplot as plt\n",
    "import seaborn as sns\n",
    "from pandasql import sqldf\n",
    "from sklearn.model_selection import train_test_split\n",
    "from sklearn.pipeline import Pipeline\n",
    "from sklearn.compose import ColumnTransformer\n",
    "from sklearn.impute import SimpleImputer\n",
    "from sklearn.preprocessing import OneHotEncoder, StandardScaler\n",
    "\n",
    "from sklearn.linear_model import LinearRegression\n",
    "from sklearn.linear_model import Ridge\n",
    "from sklearn.linear_model import Lasso\n",
    "from sklearn.preprocessing import PolynomialFeatures\n",
    "\n",
    "from sklearn.ensemble import RandomForestRegressor\n",
    "\n",
    "import os\n",
    "os.environ['KMP_DUPLICATE_LIB_OK']='True'\n",
    "from xgboost import XGBRegressor\n",
    "\n",
    "from sklearn.metrics import mean_squared_error\n",
    "\n",
    "from sklearn.model_selection import GridSearchCV\n",
    "from sklearn.base import clone"
   ]
  },
  {
   "cell_type": "markdown",
   "id": "55a77c52",
   "metadata": {},
   "source": [
    "Set a seed for random state."
   ]
  },
  {
   "cell_type": "code",
   "execution_count": 2,
   "id": "a7ca1642",
   "metadata": {},
   "outputs": [],
   "source": [
    "seed = 92308"
   ]
  },
  {
   "cell_type": "markdown",
   "id": "0ead029a",
   "metadata": {},
   "source": [
    "## Load and Clean Data"
   ]
  },
  {
   "cell_type": "markdown",
   "id": "dd15436a",
   "metadata": {},
   "source": [
    "The following data was scraped from Etsy between July 7 and July 11, 2023. (See [this notebook](web-scraping.ipynb) for more details.)"
   ]
  },
  {
   "cell_type": "code",
   "execution_count": 3,
   "id": "dfa309a9",
   "metadata": {},
   "outputs": [
    {
     "data": {
      "text/html": [
       "<div>\n",
       "<style scoped>\n",
       "    .dataframe tbody tr th:only-of-type {\n",
       "        vertical-align: middle;\n",
       "    }\n",
       "\n",
       "    .dataframe tbody tr th {\n",
       "        vertical-align: top;\n",
       "    }\n",
       "\n",
       "    .dataframe thead th {\n",
       "        text-align: right;\n",
       "    }\n",
       "</style>\n",
       "<table border=\"1\" class=\"dataframe\">\n",
       "  <thead>\n",
       "    <tr style=\"text-align: right;\">\n",
       "      <th></th>\n",
       "      <th>product_name</th>\n",
       "      <th>product_url</th>\n",
       "      <th>brand_type</th>\n",
       "      <th>brand_name</th>\n",
       "      <th>price</th>\n",
       "      <th>currency</th>\n",
       "      <th>position</th>\n",
       "      <th>avg_rating</th>\n",
       "      <th>review_count</th>\n",
       "      <th>product_description</th>\n",
       "      <th>...</th>\n",
       "      <th>later_days_to_arrival</th>\n",
       "      <th>current_date</th>\n",
       "      <th>name</th>\n",
       "      <th>shop_description</th>\n",
       "      <th>location</th>\n",
       "      <th>num_sales</th>\n",
       "      <th>num_admirers</th>\n",
       "      <th>avg_item_review_rounded</th>\n",
       "      <th>num_item_reviews</th>\n",
       "      <th>on_etsy_since</th>\n",
       "    </tr>\n",
       "    <tr>\n",
       "      <th>index</th>\n",
       "      <th></th>\n",
       "      <th></th>\n",
       "      <th></th>\n",
       "      <th></th>\n",
       "      <th></th>\n",
       "      <th></th>\n",
       "      <th></th>\n",
       "      <th></th>\n",
       "      <th></th>\n",
       "      <th></th>\n",
       "      <th></th>\n",
       "      <th></th>\n",
       "      <th></th>\n",
       "      <th></th>\n",
       "      <th></th>\n",
       "      <th></th>\n",
       "      <th></th>\n",
       "      <th></th>\n",
       "      <th></th>\n",
       "      <th></th>\n",
       "      <th></th>\n",
       "    </tr>\n",
       "  </thead>\n",
       "  <tbody>\n",
       "    <tr>\n",
       "      <th>29337</th>\n",
       "      <td>School start PDF template candle tattoo candle...</td>\n",
       "      <td>https://www.etsy.com/listing/1438910230/school...</td>\n",
       "      <td>Brand</td>\n",
       "      <td>HellooAnni</td>\n",
       "      <td>2.4</td>\n",
       "      <td>USD</td>\n",
       "      <td>10</td>\n",
       "      <td>4.9766</td>\n",
       "      <td>1363.0</td>\n",
       "      <td>This product is a downloadable digital file :)...</td>\n",
       "      <td>...</td>\n",
       "      <td>NaN</td>\n",
       "      <td>2023-07-11</td>\n",
       "      <td>HellooAnni</td>\n",
       "      <td>Lovingly Made Clothes &amp; Accessories &lt;3&lt;3</td>\n",
       "      <td>Emsdetten, Germany</td>\n",
       "      <td>7869.0</td>\n",
       "      <td>872.0</td>\n",
       "      <td>5.0</td>\n",
       "      <td>1375.0</td>\n",
       "      <td>2020.0</td>\n",
       "    </tr>\n",
       "    <tr>\n",
       "      <th>144399</th>\n",
       "      <td>Endless Summer, Soy Candle, Jar Candles, Wood ...</td>\n",
       "      <td>https://www.etsy.com/listing/1144400794/endles...</td>\n",
       "      <td>Brand</td>\n",
       "      <td>ChineshasCloset</td>\n",
       "      <td>16.0</td>\n",
       "      <td>USD</td>\n",
       "      <td>16</td>\n",
       "      <td>4.9691</td>\n",
       "      <td>2420.0</td>\n",
       "      <td>Berry sorbet with light hints of summer flower...</td>\n",
       "      <td>...</td>\n",
       "      <td>17 days 00:00:00</td>\n",
       "      <td>2023-07-11</td>\n",
       "      <td>ChineshasCloset</td>\n",
       "      <td>AWAKEN YOUR SENSES WITH AROMATIC SCENTED CANDL...</td>\n",
       "      <td>Nashville, Tennessee</td>\n",
       "      <td>8276.0</td>\n",
       "      <td>1172.0</td>\n",
       "      <td>5.0</td>\n",
       "      <td>2420.0</td>\n",
       "      <td>2017.0</td>\n",
       "    </tr>\n",
       "    <tr>\n",
       "      <th>147618</th>\n",
       "      <td>Mystery Item from our wonky or Overstock Shelf...</td>\n",
       "      <td>https://www.etsy.com/listing/1075221942/myster...</td>\n",
       "      <td>Brand</td>\n",
       "      <td>TeresaLynnsSimpleLux</td>\n",
       "      <td>12.0</td>\n",
       "      <td>USD</td>\n",
       "      <td>19</td>\n",
       "      <td>4.9475</td>\n",
       "      <td>25699.0</td>\n",
       "      <td>We literally don&amp;#39;t even know what you are ...</td>\n",
       "      <td>...</td>\n",
       "      <td>7 days 00:00:00</td>\n",
       "      <td>2023-07-11</td>\n",
       "      <td>TeresaLynnsSimpleLux</td>\n",
       "      <td>Pure Soy Wax Wooden Wick Candles and Skin Care</td>\n",
       "      <td>Monrovia, Indiana</td>\n",
       "      <td>87673.0</td>\n",
       "      <td>10218.0</td>\n",
       "      <td>5.0</td>\n",
       "      <td>25723.0</td>\n",
       "      <td>2013.0</td>\n",
       "    </tr>\n",
       "    <tr>\n",
       "      <th>16123</th>\n",
       "      <td>Light Teal Turquoise Rustic Unscented Pillar C...</td>\n",
       "      <td>https://www.etsy.com/listing/198199650/light-t...</td>\n",
       "      <td>Brand</td>\n",
       "      <td>StillWaterCandles</td>\n",
       "      <td>16.0</td>\n",
       "      <td>USD</td>\n",
       "      <td>44</td>\n",
       "      <td>4.9282</td>\n",
       "      <td>3750.0</td>\n",
       "      <td>This large light teal unscented rustic pillar ...</td>\n",
       "      <td>...</td>\n",
       "      <td>9 days 00:00:00</td>\n",
       "      <td>2023-07-11</td>\n",
       "      <td>StillWaterCandles</td>\n",
       "      <td>Handmade Rustic Pillar Candles  - Free Ship ov...</td>\n",
       "      <td>Missouri, United States</td>\n",
       "      <td>20080.0</td>\n",
       "      <td>3958.0</td>\n",
       "      <td>5.0</td>\n",
       "      <td>3752.0</td>\n",
       "      <td>2011.0</td>\n",
       "    </tr>\n",
       "    <tr>\n",
       "      <th>7595</th>\n",
       "      <td>Fall Candle / Pure Soy / Autumn Candle / Fall ...</td>\n",
       "      <td>https://www.etsy.com/listing/251445692/fall-ca...</td>\n",
       "      <td>Brand</td>\n",
       "      <td>TheDancingWick</td>\n",
       "      <td>15.0</td>\n",
       "      <td>USD</td>\n",
       "      <td>12</td>\n",
       "      <td>4.9323</td>\n",
       "      <td>29144.0</td>\n",
       "      <td>These candles are my version of the white pump...</td>\n",
       "      <td>...</td>\n",
       "      <td>10 days 00:00:00</td>\n",
       "      <td>2023-07-11</td>\n",
       "      <td>TheDancingWick</td>\n",
       "      <td>Personalized Soy Candles, Favors &amp; Sugar scrubs</td>\n",
       "      <td>Bixby, Oklahoma</td>\n",
       "      <td>150866.0</td>\n",
       "      <td>21155.0</td>\n",
       "      <td>5.0</td>\n",
       "      <td>29173.0</td>\n",
       "      <td>2011.0</td>\n",
       "    </tr>\n",
       "  </tbody>\n",
       "</table>\n",
       "<p>5 rows × 27 columns</p>\n",
       "</div>"
      ],
      "text/plain": [
       "                                             product_name  \\\n",
       "index                                                       \n",
       "29337   School start PDF template candle tattoo candle...   \n",
       "144399  Endless Summer, Soy Candle, Jar Candles, Wood ...   \n",
       "147618  Mystery Item from our wonky or Overstock Shelf...   \n",
       "16123   Light Teal Turquoise Rustic Unscented Pillar C...   \n",
       "7595    Fall Candle / Pure Soy / Autumn Candle / Fall ...   \n",
       "\n",
       "                                              product_url brand_type  \\\n",
       "index                                                                  \n",
       "29337   https://www.etsy.com/listing/1438910230/school...      Brand   \n",
       "144399  https://www.etsy.com/listing/1144400794/endles...      Brand   \n",
       "147618  https://www.etsy.com/listing/1075221942/myster...      Brand   \n",
       "16123   https://www.etsy.com/listing/198199650/light-t...      Brand   \n",
       "7595    https://www.etsy.com/listing/251445692/fall-ca...      Brand   \n",
       "\n",
       "                  brand_name  price currency  position  avg_rating  \\\n",
       "index                                                                \n",
       "29337             HellooAnni    2.4      USD        10      4.9766   \n",
       "144399       ChineshasCloset   16.0      USD        16      4.9691   \n",
       "147618  TeresaLynnsSimpleLux   12.0      USD        19      4.9475   \n",
       "16123      StillWaterCandles   16.0      USD        44      4.9282   \n",
       "7595          TheDancingWick   15.0      USD        12      4.9323   \n",
       "\n",
       "        review_count                                product_description  ...  \\\n",
       "index                                                                    ...   \n",
       "29337         1363.0  This product is a downloadable digital file :)...  ...   \n",
       "144399        2420.0  Berry sorbet with light hints of summer flower...  ...   \n",
       "147618       25699.0  We literally don&#39;t even know what you are ...  ...   \n",
       "16123         3750.0  This large light teal unscented rustic pillar ...  ...   \n",
       "7595         29144.0  These candles are my version of the white pump...  ...   \n",
       "\n",
       "       later_days_to_arrival current_date                  name  \\\n",
       "index                                                             \n",
       "29337                    NaN   2023-07-11            HellooAnni   \n",
       "144399      17 days 00:00:00   2023-07-11       ChineshasCloset   \n",
       "147618       7 days 00:00:00   2023-07-11  TeresaLynnsSimpleLux   \n",
       "16123        9 days 00:00:00   2023-07-11     StillWaterCandles   \n",
       "7595        10 days 00:00:00   2023-07-11        TheDancingWick   \n",
       "\n",
       "                                         shop_description  \\\n",
       "index                                                       \n",
       "29337            Lovingly Made Clothes & Accessories <3<3   \n",
       "144399  AWAKEN YOUR SENSES WITH AROMATIC SCENTED CANDL...   \n",
       "147618     Pure Soy Wax Wooden Wick Candles and Skin Care   \n",
       "16123   Handmade Rustic Pillar Candles  - Free Ship ov...   \n",
       "7595      Personalized Soy Candles, Favors & Sugar scrubs   \n",
       "\n",
       "                       location num_sales num_admirers  \\\n",
       "index                                                    \n",
       "29337        Emsdetten, Germany    7869.0        872.0   \n",
       "144399     Nashville, Tennessee    8276.0       1172.0   \n",
       "147618        Monrovia, Indiana   87673.0      10218.0   \n",
       "16123   Missouri, United States   20080.0       3958.0   \n",
       "7595            Bixby, Oklahoma  150866.0      21155.0   \n",
       "\n",
       "       avg_item_review_rounded num_item_reviews on_etsy_since  \n",
       "index                                                          \n",
       "29337                      5.0           1375.0        2020.0  \n",
       "144399                     5.0           2420.0        2017.0  \n",
       "147618                     5.0          25723.0        2013.0  \n",
       "16123                      5.0           3752.0        2011.0  \n",
       "7595                       5.0          29173.0        2011.0  \n",
       "\n",
       "[5 rows x 27 columns]"
      ]
     },
     "execution_count": 3,
     "metadata": {},
     "output_type": "execute_result"
    }
   ],
   "source": [
    "df = pd.read_csv('Data/proof_of_concept_model.csv', index_col=0)\n",
    "df.head()"
   ]
  },
  {
   "cell_type": "markdown",
   "id": "c8ef26b7",
   "metadata": {},
   "source": [
    "Check null values."
   ]
  },
  {
   "cell_type": "code",
   "execution_count": 4,
   "id": "9311fd61",
   "metadata": {},
   "outputs": [
    {
     "data": {
      "text/plain": [
       "product_name                     0\n",
       "product_url                      0\n",
       "brand_type                       0\n",
       "brand_name                       0\n",
       "price                            0\n",
       "currency                         0\n",
       "position                         0\n",
       "avg_rating                     274\n",
       "review_count                   274\n",
       "product_description              0\n",
       "seller_response_time          1359\n",
       "return_and_exchange_policy     159\n",
       "item_listing_date              145\n",
       "item_favorites                 305\n",
       "early_est_arrival              469\n",
       "later_est_arrival              469\n",
       "early_days_to_arrival          469\n",
       "later_days_to_arrival          469\n",
       "current_date                     0\n",
       "name                             0\n",
       "shop_description                 0\n",
       "location                         1\n",
       "num_sales                        0\n",
       "num_admirers                     0\n",
       "avg_item_review_rounded        272\n",
       "num_item_reviews               272\n",
       "on_etsy_since                    0\n",
       "dtype: int64"
      ]
     },
     "execution_count": 4,
     "metadata": {},
     "output_type": "execute_result"
    }
   ],
   "source": [
    "df.isna().sum()"
   ]
  },
  {
   "cell_type": "markdown",
   "id": "cf6f58e3",
   "metadata": {},
   "source": [
    "### Summary of Cleaning Steps to be Applied\n",
    "\n",
    "Etsy does not publicize the number of reviews that a shop (brand) has received if the items sold by that shop have not received any reviews in the last year. These shops can probably safely have their review count imputed with the mean. However, for brands which have only been on Etsy since this year, it is safe to say that a null review count reflects a true review count of zero, so we will replace these null values with 0 before imputing the rest with the mean. (The average item review, rounded, and the number of item reviews can be treated similarly.)\n",
    "\n",
    "It also makes sense to impute the estimated number of days to delivery (minimum and maximum) with the mean. The item listing date can be converted to a \"number of days since originally listed\" feature and imputed with the mean, as well.\n",
    "\n",
    "For the two categorical variables (seller response time and the listed return & exchange policy,) it makes sense to treat null values as their own category (having no policy listed might influence buyer trust.)\n",
    "\n",
    "Finally, the number of favorites that an item has received is not listed on the item's product page if it has not received any favorites, so null values for this feature can be replaced by zero.\n",
    "\n",
    "Location will not be included in the baseline model (and probably not in the MVP model), but it could be treated as a categorical variable later if we take the time to map more specific locations to broader regions (e.g. northeast United States, eastern Europe, etc.)\n",
    "\n",
    "Ultimately, the following features will not be included in the MVP model:\n",
    "- product name *\n",
    "- product url\n",
    "- brand type (all the same)\n",
    "- brand name *\n",
    "- price (this is the target)\n",
    "- currency (all the same)\n",
    "- position\n",
    "- product description *\n",
    "- item listing date (use days since listed instead)\n",
    "- early estimated arrival\n",
    "- later estimated arrival\n",
    "- current date\n",
    "- name (this is the name of the brand, from the brand data dataframe)\n",
    "- shop description *\n",
    "- location **\n",
    "\n",
    "\\* These features are NLP features that could be included later.\n",
    "\n",
    "\\** Location could be included later after mapping to broader categories (see above.)"
   ]
  },
  {
   "cell_type": "markdown",
   "id": "55c2ddb0",
   "metadata": {},
   "source": [
    "For brands with null review count and on_etsy_since = current year, set review count to 0. We will assume that these sellers have not received any reviews yet."
   ]
  },
  {
   "cell_type": "code",
   "execution_count": 5,
   "id": "e354772c",
   "metadata": {},
   "outputs": [],
   "source": [
    "df.loc[(df.review_count.isna())&(df.on_etsy_since==2023), 'review_count'] = 0"
   ]
  },
  {
   "cell_type": "markdown",
   "id": "ecb0f8ce",
   "metadata": {},
   "source": [
    "Repeat the above step for avg_item_review and num_item_reviews."
   ]
  },
  {
   "cell_type": "code",
   "execution_count": 5,
   "id": "d33754ec",
   "metadata": {},
   "outputs": [],
   "source": [
    "df.loc[(df.num_item_reviews.isna())&(df.on_etsy_since==2023), 'num_item_reviews'] = 0"
   ]
  },
  {
   "cell_type": "markdown",
   "id": "56810110",
   "metadata": {},
   "source": [
    "Other sellers with a null review count likely have not received any reviews in the past year, or their shop has gone inactive since we scraped the initial product data. We will impute these missing values with the mean."
   ]
  },
  {
   "cell_type": "markdown",
   "id": "ee94cbed",
   "metadata": {},
   "source": [
    "**To be imputed (with the mean):**\n",
    "\n",
    "avg_rating, avg_item_review_rounded\n",
    "\n",
    "review_count, num_item_reviews"
   ]
  },
  {
   "cell_type": "markdown",
   "id": "e12e7ae0",
   "metadata": {},
   "source": [
    "Return and exchange policy can be categorized into: \"not accepted\", \"free\", \"cost\", \"date-restricted\", and \"not listed\"."
   ]
  },
  {
   "cell_type": "markdown",
   "id": "a96af61b",
   "metadata": {},
   "source": [
    "Replace null values with the string \"Not listed.\""
   ]
  },
  {
   "cell_type": "code",
   "execution_count": 6,
   "id": "ce5dcab6",
   "metadata": {},
   "outputs": [],
   "source": [
    "df.loc[df.return_and_exchange_policy.isna(), 'return_and_exchange_policy'] = \"Not listed\""
   ]
  },
  {
   "cell_type": "markdown",
   "id": "52da1c60",
   "metadata": {},
   "source": [
    "Map return and exchange policies to return and exchange policy categories."
   ]
  },
  {
   "cell_type": "code",
   "execution_count": 7,
   "id": "33097456",
   "metadata": {},
   "outputs": [],
   "source": [
    "# all costs start with $; date restricted start with \"J\" or \"A\" for Jul or Aug\n",
    "df['return_and_exchange_policy_category'] = df.return_and_exchange_policy.map(lambda x: x[0])\n",
    "\n",
    "df.loc[df.return_and_exchange_policy_category == 'J', 'return_and_exchange_policy_category'] = 'date_restricted'\n",
    "\n",
    "df.loc[df.return_and_exchange_policy_category == 'A', 'return_and_exchange_policy_category'] = 'date_restricted'\n",
    "\n",
    "df.loc[df.return_and_exchange_policy_category == '$', 'return_and_exchange_policy_category'] = 'cost'\n",
    "\n",
    "df.loc[df.return_and_exchange_policy == 'Not accepted', 'return_and_exchange_policy_category'] = 'not_accepted'\n",
    "\n",
    "df.loc[df.return_and_exchange_policy == 'Free', 'return_and_exchange_policy_category'] = 'free'\n",
    "\n",
    "df.loc[df.return_and_exchange_policy == 'Not listed', 'return_and_exchange_policy_category'] = 'not_listed'"
   ]
  },
  {
   "cell_type": "code",
   "execution_count": 8,
   "id": "d2e656f7",
   "metadata": {},
   "outputs": [
    {
     "data": {
      "text/plain": [
       "not_accepted       2592\n",
       "date_restricted    1326\n",
       "cost               1316\n",
       "free                647\n",
       "not_listed          159\n",
       "Name: return_and_exchange_policy_category, dtype: int64"
      ]
     },
     "execution_count": 8,
     "metadata": {},
     "output_type": "execute_result"
    }
   ],
   "source": [
    "df.return_and_exchange_policy_category.value_counts()"
   ]
  },
  {
   "cell_type": "markdown",
   "id": "8ddba915",
   "metadata": {},
   "source": [
    "Get days since listing was first posted."
   ]
  },
  {
   "cell_type": "code",
   "execution_count": 9,
   "id": "e177d5ef",
   "metadata": {},
   "outputs": [],
   "source": [
    "df['days_since_listed'] = pd.to_datetime(df.current_date) - pd.to_datetime(df.item_listing_date)"
   ]
  },
  {
   "cell_type": "markdown",
   "id": "32704baa",
   "metadata": {},
   "source": [
    "We will impute null values in the above column with the mean."
   ]
  },
  {
   "cell_type": "markdown",
   "id": "95b91f17",
   "metadata": {},
   "source": [
    "Replace null values for \"item_favorites\" with 0. (This information is not displayed if an item has not been favorited by anyone, so it is null after scraping.)"
   ]
  },
  {
   "cell_type": "code",
   "execution_count": 10,
   "id": "6d0ccf8c",
   "metadata": {},
   "outputs": [],
   "source": [
    "df.loc[df.item_favorites.isna(), 'item_favorites'] = 0"
   ]
  },
  {
   "cell_type": "markdown",
   "id": "eb4c564e",
   "metadata": {},
   "source": [
    "Impute early and later days to arrival with the mean."
   ]
  },
  {
   "cell_type": "markdown",
   "id": "025eb832",
   "metadata": {},
   "source": [
    "Re-word categories for seller response time."
   ]
  },
  {
   "cell_type": "code",
   "execution_count": 11,
   "id": "1500fb30",
   "metadata": {
    "scrolled": true
   },
   "outputs": [
    {
     "data": {
      "text/plain": [
       "This seller usually responds within a few hours.    3138\n",
       "This seller usually responds within 24 hours.       1543\n",
       "Name: seller_response_time, dtype: int64"
      ]
     },
     "execution_count": 11,
     "metadata": {},
     "output_type": "execute_result"
    }
   ],
   "source": [
    "df.seller_response_time.value_counts()"
   ]
  },
  {
   "cell_type": "code",
   "execution_count": 12,
   "id": "bb4b11ab",
   "metadata": {},
   "outputs": [],
   "source": [
    "df.seller_response_time = \\\n",
    "df.seller_response_time.replace({'This seller usually responds within a few hours.': 'within_a_few_hours',\n",
    "                                 'This seller usually responds within 24 hours.': 'within_24_hours',\n",
    "                                 None: 'none_given'})"
   ]
  },
  {
   "cell_type": "code",
   "execution_count": 13,
   "id": "0e38f9b0",
   "metadata": {
    "scrolled": true
   },
   "outputs": [
    {
     "data": {
      "text/plain": [
       "within_a_few_hours    3138\n",
       "within_24_hours       1543\n",
       "none_given            1359\n",
       "Name: seller_response_time, dtype: int64"
      ]
     },
     "execution_count": 13,
     "metadata": {},
     "output_type": "execute_result"
    }
   ],
   "source": [
    "df.seller_response_time.value_counts()"
   ]
  },
  {
   "cell_type": "markdown",
   "id": "bc95954b",
   "metadata": {},
   "source": [
    "Convert datetime objects to float, to avoid issues imputing the mean."
   ]
  },
  {
   "cell_type": "markdown",
   "id": "1f9ef8ce",
   "metadata": {},
   "source": [
    "For early days to arrival and later days to arrival, give the number of days as an integer for all non-null values.\n",
    "\n",
    "(Code note for cell below: the first four lines locate only non-null values and replace them with an integer version of the number of days -- which is currently given as a datetime difference which Pandas interprets as a string. The last two lines can then be used to set the datatype of each column to float.)"
   ]
  },
  {
   "cell_type": "code",
   "execution_count": 39,
   "id": "4de5fb0d",
   "metadata": {},
   "outputs": [],
   "source": [
    "df.loc[~df.early_days_to_arrival.isna(), 'early_days_to_arrival'] = \\\n",
    "df.early_days_to_arrival.dropna().map(lambda x: int(' '.join(x.split()[:1])))\n",
    "\n",
    "df.loc[~df.later_days_to_arrival.isna(), 'later_days_to_arrival'] = \\\n",
    "df.later_days_to_arrival.dropna().map(lambda x: int(' '.join(x.split()[:1])))\n",
    "\n",
    "df.early_days_to_arrival = df.early_days_to_arrival.astype(float)\n",
    "df.later_days_to_arrival = df.later_days_to_arrival.astype(float)"
   ]
  },
  {
   "cell_type": "markdown",
   "id": "156041e2",
   "metadata": {},
   "source": [
    "Give the number of days since an item was listed (on Etsy) as a float.\n",
    "\n",
    "(Code note for cell below: once again, the first two lines replace non-null values with the integer version of their current value which is given as a \"timedelta64\\[ns\\]\" datatype; the third line replaces the string \"NaT\" which results from a null datetime value with a true null value; the last line changes the datatype of this feature to a float.)"
   ]
  },
  {
   "cell_type": "code",
   "execution_count": 20,
   "id": "ffa77056",
   "metadata": {},
   "outputs": [],
   "source": [
    "df.loc[~(df.days_since_listed.isna()), 'days_since_listed'] = \\\n",
    "df.days_since_listed.dropna().map(lambda x: int(str(x).split()[0]))\n",
    "\n",
    "df.loc[df.days_since_listed.map(lambda x: str(x)) == 'NaT', 'days_since_listed'] = None\n",
    "\n",
    "df.days_since_listed = df.days_since_listed.astype(float)"
   ]
  },
  {
   "cell_type": "markdown",
   "id": "df313c80",
   "metadata": {},
   "source": [
    "## Exploratory Data Analysis"
   ]
  },
  {
   "cell_type": "markdown",
   "id": "a8bded7e",
   "metadata": {},
   "source": [
    "In the following sections, I explore the distribution of features and target, as well as potential correlation between features and target."
   ]
  },
  {
   "cell_type": "markdown",
   "id": "01420da8",
   "metadata": {},
   "source": [
    "### Features"
   ]
  },
  {
   "cell_type": "markdown",
   "id": "587fd17e",
   "metadata": {},
   "source": [
    "#### Numerical"
   ]
  },
  {
   "cell_type": "code",
   "execution_count": 53,
   "id": "081b50f3",
   "metadata": {},
   "outputs": [
    {
     "data": {
      "image/png": "[encoded data removed]",
      "text/plain": [
       "<Figure size 640x480 with 1 Axes>"
      ]
     },
     "metadata": {},
     "output_type": "display_data"
    }
   ],
   "source": [
    "fig, ax = plt.subplots()\n",
    "\n",
    "df.avg_rating.plot(kind='hist', ax=ax)\n",
    "ax.set(title='Average Rating', ylabel='', xlabel='Star Rating');"
   ]
  },
  {
   "cell_type": "code",
   "execution_count": 55,
   "id": "c538428b",
   "metadata": {},
   "outputs": [
    {
     "data": {
      "image/png": "[encoded data removed]",
      "text/plain": [
       "<Figure size 640x480 with 1 Axes>"
      ]
     },
     "metadata": {},
     "output_type": "display_data"
    }
   ],
   "source": [
    "fig, ax = plt.subplots()\n",
    "\n",
    "df.review_count.plot(kind='hist', ax=ax)\n",
    "ax.set(title='Review Count', ylabel='', xlabel='Number of Reviews');"
   ]
  },
  {
   "cell_type": "code",
   "execution_count": 56,
   "id": "866898d5",
   "metadata": {},
   "outputs": [
    {
     "data": {
      "image/png": "[encoded data removed]",
      "text/plain": [
       "<Figure size 640x480 with 1 Axes>"
      ]
     },
     "metadata": {},
     "output_type": "display_data"
    }
   ],
   "source": [
    "fig, ax = plt.subplots()\n",
    "\n",
    "df.item_favorites.plot(kind='hist', ax=ax)\n",
    "ax.set(title='Item Favorites', ylabel='', xlabel='Number of Favorites Received by an Item');"
   ]
  },
  {
   "cell_type": "code",
   "execution_count": 58,
   "id": "73ceb21b",
   "metadata": {},
   "outputs": [
    {
     "data": {
      "image/png": "[encoded data removed]",
      "text/plain": [
       "<Figure size 640x480 with 1 Axes>"
      ]
     },
     "metadata": {},
     "output_type": "display_data"
    }
   ],
   "source": [
    "fig, ax = plt.subplots()\n",
    "\n",
    "df.num_sales.plot(kind='hist', ax=ax)\n",
    "ax.set(title='Number of Sales', ylabel='', xlabel='Total Number of Sales Made by a Shop');"
   ]
  },
  {
   "cell_type": "code",
   "execution_count": 60,
   "id": "53f79b77",
   "metadata": {},
   "outputs": [
    {
     "data": {
      "image/png": "[encoded data removed]",
      "text/plain": [
       "<Figure size 640x480 with 1 Axes>"
      ]
     },
     "metadata": {},
     "output_type": "display_data"
    }
   ],
   "source": [
    "fig, ax = plt.subplots()\n",
    "\n",
    "df.on_etsy_since.plot(kind='hist', ax=ax)\n",
    "ax.set(title='When Seller Joined Etsy', ylabel='', xlabel='Year');"
   ]
  },
  {
   "cell_type": "code",
   "execution_count": 63,
   "id": "f18e4b92",
   "metadata": {},
   "outputs": [
    {
     "data": {
      "image/png": "[encoded data removed]",
      "text/plain": [
       "<Figure size 640x480 with 1 Axes>"
      ]
     },
     "metadata": {},
     "output_type": "display_data"
    }
   ],
   "source": [
    "fig, ax = plt.subplots()\n",
    "\n",
    "df.days_since_listed.plot(kind='hist', ax=ax)\n",
    "ax.set(title='Age of Listing', ylabel='', xlabel='Number of Days Since Item was Listed');"
   ]
  },
  {
   "cell_type": "code",
   "execution_count": 66,
   "id": "c7371068",
   "metadata": {},
   "outputs": [
    {
     "data": {
      "image/png": "[encoded data removed]",
      "text/plain": [
       "<Figure size 640x480 with 1 Axes>"
      ]
     },
     "metadata": {},
     "output_type": "display_data"
    }
   ],
   "source": [
    "fig, ax = plt.subplots()\n",
    "\n",
    "df.early_days_to_arrival.plot(kind='hist', ax=ax)\n",
    "ax.set(title='(Estimated) Minimum Number of Days to Arrival', ylabel='', xlabel='Number of Days');"
   ]
  },
  {
   "cell_type": "code",
   "execution_count": 67,
   "id": "1752f548",
   "metadata": {},
   "outputs": [
    {
     "data": {
      "image/png": "[encoded data removed]",
      "text/plain": [
       "<Figure size 640x480 with 1 Axes>"
      ]
     },
     "metadata": {},
     "output_type": "display_data"
    }
   ],
   "source": [
    "fig, ax = plt.subplots()\n",
    "\n",
    "df.later_days_to_arrival.plot(kind='hist', ax=ax)\n",
    "ax.set(title='(Estimated) Maximum Number of Days to Arrival', ylabel='', xlabel='Number of Days');"
   ]
  },
  {
   "cell_type": "code",
   "execution_count": 69,
   "id": "74f07131",
   "metadata": {},
   "outputs": [
    {
     "data": {
      "image/png": "[encoded data removed]",
      "text/plain": [
       "<Figure size 640x480 with 1 Axes>"
      ]
     },
     "metadata": {},
     "output_type": "display_data"
    }
   ],
   "source": [
    "fig, ax = plt.subplots()\n",
    "\n",
    "df.num_admirers.plot(kind='hist', ax=ax)\n",
    "ax.set(title='Number of Admirers', ylabel='', xlabel=\"Number of Seller's Admirers\");"
   ]
  },
  {
   "cell_type": "markdown",
   "id": "f141193f",
   "metadata": {},
   "source": [
    "#### Categorical"
   ]
  },
  {
   "cell_type": "code",
   "execution_count": 78,
   "id": "3b0c4ccd",
   "metadata": {},
   "outputs": [
    {
     "data": {
      "image/png": "[encoded data removed]",
      "text/plain": [
       "<Figure size 640x480 with 1 Axes>"
      ]
     },
     "metadata": {},
     "output_type": "display_data"
    }
   ],
   "source": [
    "fig, ax = plt.subplots()\n",
    "\n",
    "df.seller_response_time.value_counts().plot(kind='barh', ax=ax)\n",
    "ax.invert_yaxis()\n",
    "ax.set(title='Seller Response Time', ylabel='Response Time', xlabel='Number of Sellers')\n",
    "ax.set_yticklabels(['Within a Few Hours', 'Within 24 Hours', 'No Response Time Posted']);"
   ]
  },
  {
   "cell_type": "code",
   "execution_count": 79,
   "id": "431c66cc",
   "metadata": {},
   "outputs": [
    {
     "data": {
      "image/png": "[encoded data removed]",
      "text/plain": [
       "<Figure size 640x480 with 1 Axes>"
      ]
     },
     "metadata": {},
     "output_type": "display_data"
    }
   ],
   "source": [
    "fig, ax = plt.subplots()\n",
    "\n",
    "df.return_and_exchange_policy_category.value_counts().plot(kind='barh', ax=ax)\n",
    "ax.invert_yaxis()\n",
    "ax.set(title='Return and Exchange Policy', ylabel='Policy', xlabel='Number of Sellers')\n",
    "ax.set_yticklabels(['Not Accepted', 'Restricted by Date', 'Return / Exchange Fee', 'Free', 'No Policy Posted']);"
   ]
  },
  {
   "cell_type": "markdown",
   "id": "4ccaa4cc",
   "metadata": {},
   "source": [
    "## Correlation"
   ]
  },
  {
   "cell_type": "markdown",
   "id": "bfea37f0",
   "metadata": {},
   "source": [
    "Check for correlations between numerical features, and correlations of numerical features with the target. The heatmap will be easier to read if we remove the diagonal and lower \"triangle\" of the matrix (to avoid extraneous and repetitive information, respectively) so do so using numpy functions."
   ]
  },
  {
   "cell_type": "code",
   "execution_count": 83,
   "id": "54432d7c",
   "metadata": {},
   "outputs": [
    {
     "data": {
      "image/png": "[encoded data removed]",
      "text/plain": [
       "<Figure size 960x720 with 2 Axes>"
      ]
     },
     "metadata": {},
     "output_type": "display_data"
    }
   ],
   "source": [
    "# remove diagonal and repeated values; k=1 to exclude diagonal\n",
    "upperMatrix = df.corr(numeric_only=True).where(np.triu(np.ones(df.corr(numeric_only=True).shape), k=1).astype(bool))\n",
    "\n",
    "fig, ax = plt.subplots(figsize=(9.6, 7.2))\n",
    "\n",
    "# print(fig.get_size_inches()) # check current fig size to preserve dimensions when scaling\n",
    "\n",
    "sns.heatmap(upperMatrix, annot=True, fmt='.2g', cmap='coolwarm', ax=ax);"
   ]
  },
  {
   "cell_type": "markdown",
   "id": "a632633f",
   "metadata": {},
   "source": [
    "Review count is strongly correlated with number of sales, number of admirers and number of item reviews. The number of favorites that an item has is also strongly correlated to the above four features, although substantially less so.\n",
    "\n",
    "Unfortunately, very few numerical features in the dataset have a strong correlation to price. :(\n",
    "\n",
    "Most positively correlated feature to price: days_since_listed\n",
    "\n",
    "Most negatively correlated features to price: num_sales and num_admirers\n",
    "\n",
    "*(Perhaps lower-priced candles tend to sell more frequently and produce more loyalty to the seller.)*"
   ]
  },
  {
   "cell_type": "markdown",
   "id": "7b3d692c",
   "metadata": {},
   "source": [
    "### \"Correlation\" of Categorical Features with Target"
   ]
  },
  {
   "cell_type": "markdown",
   "id": "7bb25035",
   "metadata": {},
   "source": [
    "How does response time affect price?"
   ]
  },
  {
   "cell_type": "code",
   "execution_count": 85,
   "id": "3cb01c42",
   "metadata": {},
   "outputs": [
    {
     "data": {
      "image/png": "[encoded data removed]",
      "text/plain": [
       "<Figure size 1200x400 with 3 Axes>"
      ]
     },
     "metadata": {},
     "output_type": "display_data"
    }
   ],
   "source": [
    "fig, ax = plt.subplots(ncols=3, figsize=(12, 4), sharex=True)\n",
    "i=0\n",
    "\n",
    "for response_time in np.unique(df.seller_response_time):\n",
    "    sns.histplot(df.loc[df.seller_response_time==response_time, 'price'], ax=ax[i])\n",
    "    ax[i].set_title(f'Sellers who respond {response_time}');\n",
    "    i+=1"
   ]
  },
  {
   "cell_type": "markdown",
   "id": "27881627",
   "metadata": {},
   "source": [
    "How does a listed return and exchange policy affect price?"
   ]
  },
  {
   "cell_type": "code",
   "execution_count": 86,
   "id": "0c51016b",
   "metadata": {},
   "outputs": [
    {
     "data": {
      "image/png": "[encoded data removed]",
      "text/plain": [
       "<Figure size 400x1200 with 5 Axes>"
      ]
     },
     "metadata": {},
     "output_type": "display_data"
    }
   ],
   "source": [
    "fig, ax = plt.subplots(nrows=5, figsize=(4, 12), sharex=True)\n",
    "i=0\n",
    "\n",
    "for policy in np.unique(df.return_and_exchange_policy_category):\n",
    "    sns.histplot(df.loc[df.return_and_exchange_policy_category==policy, 'price'], ax=ax[i])\n",
    "    ax[i].set_title(f'Return&exchange policy: {policy}');\n",
    "    i+=1"
   ]
  },
  {
   "cell_type": "markdown",
   "id": "d8f01cb7",
   "metadata": {},
   "source": [
    "## Distribution of Target"
   ]
  },
  {
   "cell_type": "code",
   "execution_count": 31,
   "id": "05b17562",
   "metadata": {},
   "outputs": [
    {
     "data": {
      "image/png": "[encoded data removed]",
      "text/plain": [
       "<Figure size 640x480 with 1 Axes>"
      ]
     },
     "metadata": {},
     "output_type": "display_data"
    }
   ],
   "source": [
    "df['price'].plot(kind='hist');"
   ]
  },
  {
   "cell_type": "code",
   "execution_count": 32,
   "id": "fc015925",
   "metadata": {},
   "outputs": [
    {
     "name": "stderr",
     "output_type": "stream",
     "text": [
      "/Users/user/opt/anaconda3/envs/etsy-demand-model/lib/python3.11/site-packages/seaborn/_decorators.py:36: FutureWarning: Pass the following variable as a keyword arg: x. From version 0.12, the only valid positional argument will be `data`, and passing other arguments without an explicit keyword will result in an error or misinterpretation.\n",
      "  warnings.warn(\n"
     ]
    },
    {
     "data": {
      "image/png": "[encoded data removed]",
      "text/plain": [
       "<Figure size 640x480 with 1 Axes>"
      ]
     },
     "metadata": {},
     "output_type": "display_data"
    }
   ],
   "source": [
    "sns.boxplot(df['price']);"
   ]
  },
  {
   "cell_type": "code",
   "execution_count": 33,
   "id": "382d1169",
   "metadata": {},
   "outputs": [
    {
     "data": {
      "text/plain": [
       "count    6040.000000\n",
       "mean       19.505818\n",
       "std        12.828481\n",
       "min         1.020000\n",
       "25%        13.990000\n",
       "50%        15.000000\n",
       "75%        20.990000\n",
       "max       350.000000\n",
       "Name: price, dtype: float64"
      ]
     },
     "execution_count": 33,
     "metadata": {},
     "output_type": "execute_result"
    }
   ],
   "source": [
    "df['price'].describe()"
   ]
  },
  {
   "cell_type": "markdown",
   "id": "6f429140",
   "metadata": {},
   "source": [
    "Most candles are priced within a very narrow range. It might be beneficial to remove outliers before modeling."
   ]
  },
  {
   "cell_type": "markdown",
   "id": "f1fa2aec",
   "metadata": {},
   "source": [
    "#### Inspecting Outliers"
   ]
  },
  {
   "cell_type": "markdown",
   "id": "66b86ccd",
   "metadata": {},
   "source": [
    "On brief inspection via random sampling, the higher-priced \"candles\" tend to be either custom or personalized in some way, or gift sets or sets that contain multiple candles."
   ]
  },
  {
   "cell_type": "markdown",
   "id": "c04bc5ae",
   "metadata": {},
   "source": [
    "## Train Test Split"
   ]
  },
  {
   "cell_type": "markdown",
   "id": "a1fb7f12",
   "metadata": {},
   "source": [
    "Drop columns not needed for modeling."
   ]
  },
  {
   "cell_type": "code",
   "execution_count": 93,
   "id": "72ad8c89",
   "metadata": {
    "scrolled": true
   },
   "outputs": [
    {
     "data": {
      "text/html": [
       "<div>\n",
       "<style scoped>\n",
       "    .dataframe tbody tr th:only-of-type {\n",
       "        vertical-align: middle;\n",
       "    }\n",
       "\n",
       "    .dataframe tbody tr th {\n",
       "        vertical-align: top;\n",
       "    }\n",
       "\n",
       "    .dataframe thead th {\n",
       "        text-align: right;\n",
       "    }\n",
       "</style>\n",
       "<table border=\"1\" class=\"dataframe\">\n",
       "  <thead>\n",
       "    <tr style=\"text-align: right;\">\n",
       "      <th></th>\n",
       "      <th>avg_rating</th>\n",
       "      <th>review_count</th>\n",
       "      <th>seller_response_time</th>\n",
       "      <th>item_favorites</th>\n",
       "      <th>early_days_to_arrival</th>\n",
       "      <th>later_days_to_arrival</th>\n",
       "      <th>num_sales</th>\n",
       "      <th>num_admirers</th>\n",
       "      <th>avg_item_review_rounded</th>\n",
       "      <th>num_item_reviews</th>\n",
       "      <th>on_etsy_since</th>\n",
       "      <th>return_and_exchange_policy_category</th>\n",
       "      <th>days_since_listed</th>\n",
       "    </tr>\n",
       "    <tr>\n",
       "      <th>index</th>\n",
       "      <th></th>\n",
       "      <th></th>\n",
       "      <th></th>\n",
       "      <th></th>\n",
       "      <th></th>\n",
       "      <th></th>\n",
       "      <th></th>\n",
       "      <th></th>\n",
       "      <th></th>\n",
       "      <th></th>\n",
       "      <th></th>\n",
       "      <th></th>\n",
       "      <th></th>\n",
       "    </tr>\n",
       "  </thead>\n",
       "  <tbody>\n",
       "    <tr>\n",
       "      <th>29337</th>\n",
       "      <td>4.9766</td>\n",
       "      <td>1363.0</td>\n",
       "      <td>within_a_few_hours</td>\n",
       "      <td>53.0</td>\n",
       "      <td>NaN</td>\n",
       "      <td>NaN</td>\n",
       "      <td>7869.0</td>\n",
       "      <td>872.0</td>\n",
       "      <td>5.0</td>\n",
       "      <td>1375.0</td>\n",
       "      <td>2020.0</td>\n",
       "      <td>not_listed</td>\n",
       "      <td>2.0</td>\n",
       "    </tr>\n",
       "    <tr>\n",
       "      <th>144399</th>\n",
       "      <td>4.9691</td>\n",
       "      <td>2420.0</td>\n",
       "      <td>within_a_few_hours</td>\n",
       "      <td>2.0</td>\n",
       "      <td>11.0</td>\n",
       "      <td>17.0</td>\n",
       "      <td>8276.0</td>\n",
       "      <td>1172.0</td>\n",
       "      <td>5.0</td>\n",
       "      <td>2420.0</td>\n",
       "      <td>2017.0</td>\n",
       "      <td>not_accepted</td>\n",
       "      <td>2.0</td>\n",
       "    </tr>\n",
       "    <tr>\n",
       "      <th>147618</th>\n",
       "      <td>4.9475</td>\n",
       "      <td>25699.0</td>\n",
       "      <td>within_a_few_hours</td>\n",
       "      <td>1307.0</td>\n",
       "      <td>2.0</td>\n",
       "      <td>7.0</td>\n",
       "      <td>87673.0</td>\n",
       "      <td>10218.0</td>\n",
       "      <td>5.0</td>\n",
       "      <td>25723.0</td>\n",
       "      <td>2013.0</td>\n",
       "      <td>date_restricted</td>\n",
       "      <td>0.0</td>\n",
       "    </tr>\n",
       "    <tr>\n",
       "      <th>16123</th>\n",
       "      <td>4.9282</td>\n",
       "      <td>3750.0</td>\n",
       "      <td>none_given</td>\n",
       "      <td>762.0</td>\n",
       "      <td>8.0</td>\n",
       "      <td>9.0</td>\n",
       "      <td>20080.0</td>\n",
       "      <td>3958.0</td>\n",
       "      <td>5.0</td>\n",
       "      <td>3752.0</td>\n",
       "      <td>2011.0</td>\n",
       "      <td>not_accepted</td>\n",
       "      <td>0.0</td>\n",
       "    </tr>\n",
       "    <tr>\n",
       "      <th>7595</th>\n",
       "      <td>4.9323</td>\n",
       "      <td>29144.0</td>\n",
       "      <td>within_a_few_hours</td>\n",
       "      <td>17705.0</td>\n",
       "      <td>2.0</td>\n",
       "      <td>10.0</td>\n",
       "      <td>150866.0</td>\n",
       "      <td>21155.0</td>\n",
       "      <td>5.0</td>\n",
       "      <td>29173.0</td>\n",
       "      <td>2011.0</td>\n",
       "      <td>date_restricted</td>\n",
       "      <td>0.0</td>\n",
       "    </tr>\n",
       "  </tbody>\n",
       "</table>\n",
       "</div>"
      ],
      "text/plain": [
       "        avg_rating  review_count seller_response_time  item_favorites  \\\n",
       "index                                                                   \n",
       "29337       4.9766        1363.0   within_a_few_hours            53.0   \n",
       "144399      4.9691        2420.0   within_a_few_hours             2.0   \n",
       "147618      4.9475       25699.0   within_a_few_hours          1307.0   \n",
       "16123       4.9282        3750.0           none_given           762.0   \n",
       "7595        4.9323       29144.0   within_a_few_hours         17705.0   \n",
       "\n",
       "        early_days_to_arrival  later_days_to_arrival  num_sales  num_admirers  \\\n",
       "index                                                                           \n",
       "29337                     NaN                    NaN     7869.0         872.0   \n",
       "144399                   11.0                   17.0     8276.0        1172.0   \n",
       "147618                    2.0                    7.0    87673.0       10218.0   \n",
       "16123                     8.0                    9.0    20080.0        3958.0   \n",
       "7595                      2.0                   10.0   150866.0       21155.0   \n",
       "\n",
       "        avg_item_review_rounded  num_item_reviews  on_etsy_since  \\\n",
       "index                                                              \n",
       "29337                       5.0            1375.0         2020.0   \n",
       "144399                      5.0            2420.0         2017.0   \n",
       "147618                      5.0           25723.0         2013.0   \n",
       "16123                       5.0            3752.0         2011.0   \n",
       "7595                        5.0           29173.0         2011.0   \n",
       "\n",
       "       return_and_exchange_policy_category  days_since_listed  \n",
       "index                                                          \n",
       "29337                           not_listed                2.0  \n",
       "144399                        not_accepted                2.0  \n",
       "147618                     date_restricted                0.0  \n",
       "16123                         not_accepted                0.0  \n",
       "7595                       date_restricted                0.0  "
      ]
     },
     "execution_count": 93,
     "metadata": {},
     "output_type": "execute_result"
    }
   ],
   "source": [
    "X = df.drop(columns=['product_name', 'product_url', 'brand_type', 'brand_name', 'price', 'currency', 'position',\n",
    "                     'product_description', 'return_and_exchange_policy', 'item_listing_date', 'early_est_arrival',\n",
    "                     'later_est_arrival', 'current_date', 'name', 'shop_description', 'location']\n",
    "                       )\n",
    "y = df['price'].copy()\n",
    "\n",
    "X.head()"
   ]
  },
  {
   "cell_type": "markdown",
   "id": "8f192952",
   "metadata": {},
   "source": [
    "Train-val-test split."
   ]
  },
  {
   "cell_type": "code",
   "execution_count": 102,
   "id": "f8db0cd6",
   "metadata": {},
   "outputs": [
    {
     "name": "stdout",
     "output_type": "stream",
     "text": [
      "Train size: 4010\n",
      "Val size: 1003\n",
      "Test size: 1027\n"
     ]
    }
   ],
   "source": [
    "X_train, X_test, y_train, y_test = train_test_split(X, y, test_size=0.17, random_state=seed)\n",
    "X_train, X_val, y_train, y_val = train_test_split(X_train, y_train, test_size=0.2, random_state=seed)\n",
    "\n",
    "print(f'Train size: {X_train.shape[0]}')\n",
    "print(f'Val size: {X_val.shape[0]}')\n",
    "print(f'Test size: {X_test.shape[0]}')"
   ]
  },
  {
   "cell_type": "markdown",
   "id": "821a21cf",
   "metadata": {},
   "source": [
    "## Remove Outliers (from Training Data Only)"
   ]
  },
  {
   "cell_type": "markdown",
   "id": "6c6af70d",
   "metadata": {},
   "source": [
    "Remove outliers from the training data only, based on training data statistics."
   ]
  },
  {
   "cell_type": "code",
   "execution_count": 107,
   "id": "af907d5a",
   "metadata": {},
   "outputs": [
    {
     "name": "stdout",
     "output_type": "stream",
     "text": [
      "Interquartile range: $7.73\n",
      "Min acceptable price: $2.4\n",
      "Max acceptable price: $33.31\n"
     ]
    }
   ],
   "source": [
    "price_IQR = y_train.quantile(0.75) - y_train.quantile(0.25)\n",
    "cutoff = 1.5*price_IQR\n",
    "\n",
    "min_acceptable_price = y_train.quantile(0.25) - cutoff\n",
    "max_acceptable_price = y_train.quantile(0.75) + cutoff\n",
    "\n",
    "print(f'Interquartile range: ${round(price_IQR, 2)}')\n",
    "print(f'Min acceptable price: ${round(min_acceptable_price, 2)}')\n",
    "print(f'Max acceptable price: ${round(max_acceptable_price, 2)}')"
   ]
  },
  {
   "cell_type": "code",
   "execution_count": 111,
   "id": "e73509f6",
   "metadata": {},
   "outputs": [],
   "source": [
    "X_train_no_outliers = X_train.loc[(y_train > min_acceptable_price) & (y_train < max_acceptable_price)]\n",
    "y_train_no_outliers = y_train.loc[(y_train > min_acceptable_price) & (y_train < max_acceptable_price)]"
   ]
  },
  {
   "cell_type": "code",
   "execution_count": 112,
   "id": "f126f3fe",
   "metadata": {},
   "outputs": [
    {
     "name": "stdout",
     "output_type": "stream",
     "text": [
      "(4010, 13)\n",
      "(3663, 13)\n",
      "(3663,)\n"
     ]
    }
   ],
   "source": [
    "print(X_train.shape)\n",
    "print(X_train_no_outliers.shape)\n",
    "print(y_train_no_outliers.shape)"
   ]
  },
  {
   "cell_type": "markdown",
   "id": "bc92cda5",
   "metadata": {},
   "source": [
    "347 outliers were removed from the training data."
   ]
  },
  {
   "cell_type": "markdown",
   "id": "878e529e",
   "metadata": {},
   "source": [
    "## Preprocess Data for Modeling"
   ]
  },
  {
   "cell_type": "markdown",
   "id": "ba9d3c40",
   "metadata": {},
   "source": [
    "Column Transformer:\n",
    "\n",
    "- One hot encode categorical variables.\n",
    "\n",
    "- Impute numerical features that have missing values with the mean.\n",
    "\n",
    "- \"Pass through\" numerical features that do not have missing values.\n",
    "\n",
    "Pipeline:\n",
    "\n",
    "- Column transformer\n",
    "\n",
    "&nbsp; &nbsp; &nbsp; *Applies steps above to appropriate features.*\n",
    "\n",
    "- Standard scaler\n",
    "\n",
    "&nbsp; &nbsp; &nbsp; *Scale all of the data, after one hot encoding and imputing, using a standard scaler default strategy.*"
   ]
  },
  {
   "cell_type": "code",
   "execution_count": 116,
   "id": "1a7ef5de",
   "metadata": {
    "scrolled": false
   },
   "outputs": [
    {
     "data": {
      "text/html": [
       "<div>\n",
       "<style scoped>\n",
       "    .dataframe tbody tr th:only-of-type {\n",
       "        vertical-align: middle;\n",
       "    }\n",
       "\n",
       "    .dataframe tbody tr th {\n",
       "        vertical-align: top;\n",
       "    }\n",
       "\n",
       "    .dataframe thead th {\n",
       "        text-align: right;\n",
       "    }\n",
       "</style>\n",
       "<table border=\"1\" class=\"dataframe\">\n",
       "  <thead>\n",
       "    <tr style=\"text-align: right;\">\n",
       "      <th></th>\n",
       "      <th>num__avg_rating</th>\n",
       "      <th>num__review_count</th>\n",
       "      <th>num__early_days_to_arrival</th>\n",
       "      <th>num__later_days_to_arrival</th>\n",
       "      <th>num__avg_item_review_rounded</th>\n",
       "      <th>num__num_item_reviews</th>\n",
       "      <th>num__days_since_listed</th>\n",
       "      <th>cat__seller_response_time_within_24_hours</th>\n",
       "      <th>cat__seller_response_time_within_a_few_hours</th>\n",
       "      <th>cat__return_and_exchange_policy_category_date_restricted</th>\n",
       "      <th>cat__return_and_exchange_policy_category_free</th>\n",
       "      <th>cat__return_and_exchange_policy_category_not_accepted</th>\n",
       "      <th>cat__return_and_exchange_policy_category_not_listed</th>\n",
       "      <th>remainder__item_favorites</th>\n",
       "      <th>remainder__num_sales</th>\n",
       "      <th>remainder__num_admirers</th>\n",
       "      <th>remainder__on_etsy_since</th>\n",
       "    </tr>\n",
       "    <tr>\n",
       "      <th>index</th>\n",
       "      <th></th>\n",
       "      <th></th>\n",
       "      <th></th>\n",
       "      <th></th>\n",
       "      <th></th>\n",
       "      <th></th>\n",
       "      <th></th>\n",
       "      <th></th>\n",
       "      <th></th>\n",
       "      <th></th>\n",
       "      <th></th>\n",
       "      <th></th>\n",
       "      <th></th>\n",
       "      <th></th>\n",
       "      <th></th>\n",
       "      <th></th>\n",
       "      <th></th>\n",
       "    </tr>\n",
       "  </thead>\n",
       "  <tbody>\n",
       "    <tr>\n",
       "      <th>106418</th>\n",
       "      <td>0.095598</td>\n",
       "      <td>3.963731</td>\n",
       "      <td>-0.597592</td>\n",
       "      <td>-0.561669</td>\n",
       "      <td>0.212221</td>\n",
       "      <td>3.963230</td>\n",
       "      <td>-0.542417</td>\n",
       "      <td>-0.556012</td>\n",
       "      <td>0.958019</td>\n",
       "      <td>-0.529877</td>\n",
       "      <td>3.194031</td>\n",
       "      <td>-0.866577</td>\n",
       "      <td>-0.173465</td>\n",
       "      <td>5.541449</td>\n",
       "      <td>3.927893</td>\n",
       "      <td>3.904677</td>\n",
       "      <td>-0.112142</td>\n",
       "    </tr>\n",
       "    <tr>\n",
       "      <th>133961</th>\n",
       "      <td>-1.039867</td>\n",
       "      <td>-0.397761</td>\n",
       "      <td>-0.597592</td>\n",
       "      <td>-0.561669</td>\n",
       "      <td>0.212221</td>\n",
       "      <td>-0.399085</td>\n",
       "      <td>-0.492463</td>\n",
       "      <td>1.798522</td>\n",
       "      <td>-1.043820</td>\n",
       "      <td>-0.529877</td>\n",
       "      <td>-0.313084</td>\n",
       "      <td>1.153965</td>\n",
       "      <td>-0.173465</td>\n",
       "      <td>-0.307002</td>\n",
       "      <td>-0.396512</td>\n",
       "      <td>-0.409710</td>\n",
       "      <td>0.844632</td>\n",
       "    </tr>\n",
       "    <tr>\n",
       "      <th>609</th>\n",
       "      <td>-1.282285</td>\n",
       "      <td>-0.400251</td>\n",
       "      <td>-0.597592</td>\n",
       "      <td>-0.228560</td>\n",
       "      <td>0.212221</td>\n",
       "      <td>-0.401521</td>\n",
       "      <td>-0.042881</td>\n",
       "      <td>1.798522</td>\n",
       "      <td>-1.043820</td>\n",
       "      <td>1.887232</td>\n",
       "      <td>-0.313084</td>\n",
       "      <td>-0.866577</td>\n",
       "      <td>-0.173465</td>\n",
       "      <td>-0.462886</td>\n",
       "      <td>-0.412880</td>\n",
       "      <td>-0.433033</td>\n",
       "      <td>-0.112142</td>\n",
       "    </tr>\n",
       "    <tr>\n",
       "      <th>156440</th>\n",
       "      <td>-0.201156</td>\n",
       "      <td>-0.318877</td>\n",
       "      <td>-0.597592</td>\n",
       "      <td>-1.227886</td>\n",
       "      <td>0.212221</td>\n",
       "      <td>-0.320230</td>\n",
       "      <td>-0.492463</td>\n",
       "      <td>-0.556012</td>\n",
       "      <td>-1.043820</td>\n",
       "      <td>-0.529877</td>\n",
       "      <td>-0.313084</td>\n",
       "      <td>-0.866577</td>\n",
       "      <td>-0.173465</td>\n",
       "      <td>0.253048</td>\n",
       "      <td>-0.317897</td>\n",
       "      <td>-0.304177</td>\n",
       "      <td>0.525708</td>\n",
       "    </tr>\n",
       "    <tr>\n",
       "      <th>18790</th>\n",
       "      <td>-0.155180</td>\n",
       "      <td>-0.317684</td>\n",
       "      <td>-0.206470</td>\n",
       "      <td>0.104549</td>\n",
       "      <td>0.212221</td>\n",
       "      <td>-0.318960</td>\n",
       "      <td>-0.342602</td>\n",
       "      <td>-0.556012</td>\n",
       "      <td>0.958019</td>\n",
       "      <td>-0.529877</td>\n",
       "      <td>-0.313084</td>\n",
       "      <td>1.153965</td>\n",
       "      <td>-0.173465</td>\n",
       "      <td>-0.000319</td>\n",
       "      <td>-0.318628</td>\n",
       "      <td>-0.391825</td>\n",
       "      <td>0.844632</td>\n",
       "    </tr>\n",
       "  </tbody>\n",
       "</table>\n",
       "</div>"
      ],
      "text/plain": [
       "        num__avg_rating  num__review_count  num__early_days_to_arrival  \\\n",
       "index                                                                    \n",
       "106418         0.095598           3.963731                   -0.597592   \n",
       "133961        -1.039867          -0.397761                   -0.597592   \n",
       "609           -1.282285          -0.400251                   -0.597592   \n",
       "156440        -0.201156          -0.318877                   -0.597592   \n",
       "18790         -0.155180          -0.317684                   -0.206470   \n",
       "\n",
       "        num__later_days_to_arrival  num__avg_item_review_rounded  \\\n",
       "index                                                              \n",
       "106418                   -0.561669                      0.212221   \n",
       "133961                   -0.561669                      0.212221   \n",
       "609                      -0.228560                      0.212221   \n",
       "156440                   -1.227886                      0.212221   \n",
       "18790                     0.104549                      0.212221   \n",
       "\n",
       "        num__num_item_reviews  num__days_since_listed  \\\n",
       "index                                                   \n",
       "106418               3.963230               -0.542417   \n",
       "133961              -0.399085               -0.492463   \n",
       "609                 -0.401521               -0.042881   \n",
       "156440              -0.320230               -0.492463   \n",
       "18790               -0.318960               -0.342602   \n",
       "\n",
       "        cat__seller_response_time_within_24_hours  \\\n",
       "index                                               \n",
       "106418                                  -0.556012   \n",
       "133961                                   1.798522   \n",
       "609                                      1.798522   \n",
       "156440                                  -0.556012   \n",
       "18790                                   -0.556012   \n",
       "\n",
       "        cat__seller_response_time_within_a_few_hours  \\\n",
       "index                                                  \n",
       "106418                                      0.958019   \n",
       "133961                                     -1.043820   \n",
       "609                                        -1.043820   \n",
       "156440                                     -1.043820   \n",
       "18790                                       0.958019   \n",
       "\n",
       "        cat__return_and_exchange_policy_category_date_restricted  \\\n",
       "index                                                              \n",
       "106418                                          -0.529877          \n",
       "133961                                          -0.529877          \n",
       "609                                              1.887232          \n",
       "156440                                          -0.529877          \n",
       "18790                                           -0.529877          \n",
       "\n",
       "        cat__return_and_exchange_policy_category_free  \\\n",
       "index                                                   \n",
       "106418                                       3.194031   \n",
       "133961                                      -0.313084   \n",
       "609                                         -0.313084   \n",
       "156440                                      -0.313084   \n",
       "18790                                       -0.313084   \n",
       "\n",
       "        cat__return_and_exchange_policy_category_not_accepted  \\\n",
       "index                                                           \n",
       "106418                                          -0.866577       \n",
       "133961                                           1.153965       \n",
       "609                                             -0.866577       \n",
       "156440                                          -0.866577       \n",
       "18790                                            1.153965       \n",
       "\n",
       "        cat__return_and_exchange_policy_category_not_listed  \\\n",
       "index                                                         \n",
       "106418                                          -0.173465     \n",
       "133961                                          -0.173465     \n",
       "609                                             -0.173465     \n",
       "156440                                          -0.173465     \n",
       "18790                                           -0.173465     \n",
       "\n",
       "        remainder__item_favorites  remainder__num_sales  \\\n",
       "index                                                     \n",
       "106418                   5.541449              3.927893   \n",
       "133961                  -0.307002             -0.396512   \n",
       "609                     -0.462886             -0.412880   \n",
       "156440                   0.253048             -0.317897   \n",
       "18790                   -0.000319             -0.318628   \n",
       "\n",
       "        remainder__num_admirers  remainder__on_etsy_since  \n",
       "index                                                      \n",
       "106418                 3.904677                 -0.112142  \n",
       "133961                -0.409710                  0.844632  \n",
       "609                   -0.433033                 -0.112142  \n",
       "156440                -0.304177                  0.525708  \n",
       "18790                 -0.391825                  0.844632  "
      ]
     },
     "execution_count": 116,
     "metadata": {},
     "output_type": "execute_result"
    }
   ],
   "source": [
    "ohe = OneHotEncoder(drop='first')\n",
    "si = SimpleImputer()\n",
    "\n",
    "categorical_features = ['seller_response_time', 'return_and_exchange_policy_category']\n",
    "\n",
    "numeric_features = ['avg_rating', 'review_count', 'early_days_to_arrival', 'later_days_to_arrival',\n",
    "                  'avg_item_review_rounded', 'num_item_reviews', 'days_since_listed']\n",
    "\n",
    "preprocessor = ColumnTransformer(\n",
    "    transformers=[\n",
    "        (\"num\", si, numeric_features),\n",
    "        (\"cat\", ohe, categorical_features),\n",
    "    ],\n",
    "    remainder='passthrough' # keep other features\n",
    ")\n",
    "\n",
    "ss = StandardScaler()\n",
    "\n",
    "X_train_preprocessed = pd.DataFrame(ss.fit_transform(preprocessor.fit_transform(X_train_no_outliers)),\n",
    "                                    columns=preprocessor.get_feature_names_out(),\n",
    "                                    index=X_train_no_outliers.index)\n",
    "X_val_preprocessed = pd.DataFrame(ss.transform(preprocessor.transform(X_val)),\n",
    "                                  columns=preprocessor.get_feature_names_out(),\n",
    "                                  index=X_val.index)\n",
    "X_test_preprocessed = pd.DataFrame(ss.transform(preprocessor.transform(X_test)),\n",
    "                                   columns=preprocessor.get_feature_names_out(),\n",
    "                                   index=X_test.index)\n",
    "\n",
    "X_train_preprocessed.head()"
   ]
  },
  {
   "cell_type": "markdown",
   "id": "fcaa0b1d",
   "metadata": {},
   "source": [
    "## Modeling and Evaluation"
   ]
  },
  {
   "cell_type": "markdown",
   "id": "c4bf8e7b",
   "metadata": {},
   "source": [
    "**Evaluation metric:** &nbsp; RMSE\n",
    "\n",
    "**Simple baseline:** &nbsp; Predict the mean (of the training data)"
   ]
  },
  {
   "cell_type": "code",
   "execution_count": 117,
   "id": "55c58d64",
   "metadata": {},
   "outputs": [],
   "source": [
    "def rmse(y_true, y_pred):\n",
    "    '''Returns the root mean squared error of a model which makes predictions y_pred for the true values y_true.'''\n",
    "    \n",
    "    return np.sqrt(mean_squared_error(y_true, y_pred))"
   ]
  },
  {
   "cell_type": "code",
   "execution_count": 121,
   "id": "755935b2",
   "metadata": {},
   "outputs": [
    {
     "name": "stdout",
     "output_type": "stream",
     "text": [
      "Training RMSE: $12.62\n",
      "Validation RMSE: $11.34\n"
     ]
    }
   ],
   "source": [
    "# get predictions for training set\n",
    "y_pred_train = y_train_no_outliers.mean() * np.ones(y_train.shape)\n",
    "\n",
    "# get predictions for validation set\n",
    "y_pred_val = y_train_no_outliers.mean() * np.ones(y_val.shape)\n",
    "\n",
    "# print results\n",
    "print(f'Training RMSE: ${round(rmse(y_train, y_pred_train), 2)}')\n",
    "print(f'Validation RMSE: ${round(rmse(y_val, y_pred_val), 2)}')"
   ]
  },
  {
   "cell_type": "markdown",
   "id": "3d02b3e6",
   "metadata": {},
   "source": [
    "We are looking for a model with a root mean squared error less than \\\\$11 to \\\\$12."
   ]
  },
  {
   "cell_type": "code",
   "execution_count": 127,
   "id": "59584f58",
   "metadata": {},
   "outputs": [
    {
     "data": {
      "image/png": "[encoded data removed]",
      "text/plain": [
       "<Figure size 640x480 with 1 Axes>"
      ]
     },
     "metadata": {},
     "output_type": "display_data"
    }
   ],
   "source": [
    "# visualize predictions for validation data\n",
    "fig, ax = plt.subplots()\n",
    "\n",
    "sns.scatterplot(x=y_val, y=y_pred_val)\n",
    "sns.lineplot(x=y_val, y=y_val, label='Correct Predictions')\n",
    "\n",
    "ax.set(title='Simple Baseline: Actual vs Predicted Values', xlabel='Actual Price', ylabel='Predicted Price');"
   ]
  },
  {
   "cell_type": "markdown",
   "id": "f02debda",
   "metadata": {},
   "source": [
    "It makes sense that the simple baseline model would tend to underestimate the price of more expensive candles in the validation data since we obtained the mean from the training data *after* removing outliers (most of which were more expensive personalized candles or sets of candles.) These \"outliers\" are still present in the validation data."
   ]
  },
  {
   "cell_type": "markdown",
   "id": "910f6b46",
   "metadata": {},
   "source": [
    "## Linear Model Approach"
   ]
  },
  {
   "cell_type": "markdown",
   "id": "9c5cc0ef",
   "metadata": {},
   "source": [
    "### Baseline Multiple Linear Regression"
   ]
  },
  {
   "cell_type": "markdown",
   "id": "0f4bcf76",
   "metadata": {},
   "source": [
    "Instantiate and train a baseline multiple linear regression model."
   ]
  },
  {
   "cell_type": "code",
   "execution_count": 130,
   "id": "26bdeff8",
   "metadata": {},
   "outputs": [
    {
     "name": "stdout",
     "output_type": "stream",
     "text": [
      "RMSE on Training Data: 5.693799749542232\n",
      "RMSE on Test Data: 10.946042494251751\n"
     ]
    }
   ],
   "source": [
    "lr = LinearRegression()\n",
    "lr.fit(X_train_preprocessed, y_train_no_outliers)\n",
    "\n",
    "print(f'RMSE on Training Data: {np.sqrt(mean_squared_error(y_train_no_outliers, lr.predict(X_train_preprocessed)))}')\n",
    "print(f'RMSE on Test Data: {np.sqrt(mean_squared_error(y_val, lr.predict(X_val_preprocessed)))}')"
   ]
  },
  {
   "cell_type": "markdown",
   "id": "bb0be3c2",
   "metadata": {},
   "source": [
    "A baseline multiple linear regression model is\n",
    "\n",
    "i.) overfit, and\n",
    "\n",
    "ii.) only slightly better than the simple baseline (in terms of validation RMSE.)"
   ]
  },
  {
   "cell_type": "code",
   "execution_count": 131,
   "id": "c28a6dad",
   "metadata": {},
   "outputs": [
    {
     "data": {
      "image/png": "[encoded data removed]",
      "text/plain": [
       "<Figure size 640x480 with 1 Axes>"
      ]
     },
     "metadata": {},
     "output_type": "display_data"
    }
   ],
   "source": [
    "# fitted values versus residuals\n",
    "y_val_pred = lr.predict(X_val_preprocessed)\n",
    "y_val_residuals = y_val_pred - y_val\n",
    "\n",
    "fig, ax = plt.subplots()\n",
    "\n",
    "sns.scatterplot(x=y_val_pred, y=y_val_residuals)\n",
    "\n",
    "ax.set(title='Residual Plot', xlabel='Predicted Values', ylabel='Residuals');"
   ]
  },
  {
   "cell_type": "markdown",
   "id": "c1cde92d",
   "metadata": {},
   "source": [
    "There is no clear pattern in the residuals, so it is possible that a linear model is appropriate for this regression problem.\n",
    "\n",
    "However, the RMSE is not as low as I would like it to be, so I am going to explore the effect of adding polynomial features, anyway."
   ]
  },
  {
   "cell_type": "markdown",
   "id": "85cb3006",
   "metadata": {},
   "source": [
    "### Degree 2 Polynomial Terms"
   ]
  },
  {
   "cell_type": "code",
   "execution_count": 137,
   "id": "a22fba30",
   "metadata": {},
   "outputs": [],
   "source": [
    "poly = PolynomialFeatures(degree=2, include_bias=False)\n",
    "poly_features_degree_2 = poly.fit_transform(X_train_preprocessed)"
   ]
  },
  {
   "cell_type": "markdown",
   "id": "1a0810be",
   "metadata": {},
   "source": [
    "Fit a linear model to the training data with degree 2 polynomial features included (including interaction terms.)"
   ]
  },
  {
   "cell_type": "code",
   "execution_count": 138,
   "id": "a020734c",
   "metadata": {},
   "outputs": [
    {
     "name": "stdout",
     "output_type": "stream",
     "text": [
      "RMSE on Training Data: 3.6268646799874227\n",
      "RMSE on Test Data: 29.55938081595699\n"
     ]
    }
   ],
   "source": [
    "lr.fit(poly_features_degree_2, y_train_no_outliers)\n",
    "\n",
    "print(f'RMSE on Training Data: {np.sqrt(mean_squared_error(y_train_no_outliers, lr.predict(poly_features_degree_2)))}')\n",
    "print(f'RMSE on Test Data: {np.sqrt(mean_squared_error(y_val, lr.predict(poly.transform(X_val_preprocessed))))}')"
   ]
  },
  {
   "cell_type": "markdown",
   "id": "b7897082",
   "metadata": {},
   "source": [
    "This model is significantly worse (in terms of being much more overfit to the training data and having a higher RMSE on the validation data.) I want to briefly check whether L1 regularization improves the model; it's possible that the target has a nonlinear dependence on some features, but not all, and applying L1 regularization is a quick way to prune unnecessary nonlinear (and linear) features."
   ]
  },
  {
   "cell_type": "markdown",
   "id": "b37b9dc3",
   "metadata": {},
   "source": [
    "###  L1 Regularization, Degree 2 Polynomial Terms"
   ]
  },
  {
   "cell_type": "code",
   "execution_count": 141,
   "id": "8776d0c6",
   "metadata": {},
   "outputs": [
    {
     "name": "stdout",
     "output_type": "stream",
     "text": [
      "Best validation RMSE: 5.8468736300774795\n"
     ]
    }
   ],
   "source": [
    "l1 = Lasso()\n",
    "\n",
    "param_grid = [\n",
    "    {'alpha': [1, 10, 100, 1000, 10000],\n",
    "     'random_state': [seed]}\n",
    "]\n",
    "\n",
    "grid_search = GridSearchCV(l1, param_grid, scoring='neg_root_mean_squared_error', cv=3, return_train_score=True)\n",
    "\n",
    "grid_search.fit(poly_features_degree_2, y_train_no_outliers)\n",
    "\n",
    "print(f'Best validation RMSE: {-1*grid_search.best_score_}')"
   ]
  },
  {
   "cell_type": "markdown",
   "id": "9e72d70e",
   "metadata": {},
   "source": [
    "Also check the training score."
   ]
  },
  {
   "cell_type": "code",
   "execution_count": 157,
   "id": "f8c8ae81",
   "metadata": {},
   "outputs": [
    {
     "data": {
      "text/plain": [
       "5.8097558865106045"
      ]
     },
     "execution_count": 157,
     "metadata": {},
     "output_type": "execute_result"
    }
   ],
   "source": [
    "-1 * grid_search.cv_results_['mean_train_score'][grid_search.best_index_] # neg rmse is given"
   ]
  },
  {
   "cell_type": "markdown",
   "id": "457c3830",
   "metadata": {},
   "source": [
    "L1 regularization improves the model considerably. The coefficients of most features have been set to zero - which features, polynomial or otherwise, survived?"
   ]
  },
  {
   "cell_type": "code",
   "execution_count": 153,
   "id": "25f786f4",
   "metadata": {},
   "outputs": [
    {
     "data": {
      "text/plain": [
       "array(['num__avg_rating cat__return_and_exchange_policy_category_not_listed',\n",
       "       'num__review_count num__num_item_reviews',\n",
       "       'num__early_days_to_arrival^2', 'num__avg_item_review_rounded^2',\n",
       "       'num__num_item_reviews^2', 'num__days_since_listed^2',\n",
       "       'cat__seller_response_time_within_24_hours^2',\n",
       "       'cat__seller_response_time_within_24_hours cat__return_and_exchange_policy_category_not_accepted',\n",
       "       'cat__return_and_exchange_policy_category_not_listed^2',\n",
       "       'remainder__item_favorites remainder__num_admirers'], dtype=object)"
      ]
     },
     "execution_count": 153,
     "metadata": {},
     "output_type": "execute_result"
    }
   ],
   "source": [
    "poly.get_feature_names_out()[np.nonzero(grid_search.best_estimator_.coef_)]"
   ]
  },
  {
   "cell_type": "markdown",
   "id": "ff6c716c",
   "metadata": {},
   "source": [
    "Check the assumptions of linear regression."
   ]
  },
  {
   "cell_type": "code",
   "execution_count": 155,
   "id": "9d22aff1",
   "metadata": {},
   "outputs": [
    {
     "data": {
      "image/png": "[encoded data removed]",
      "text/plain": [
       "<Figure size 640x480 with 1 Axes>"
      ]
     },
     "metadata": {},
     "output_type": "display_data"
    }
   ],
   "source": [
    "# clone best model and fit to training data (degree 2 polynomial version)\n",
    "degree_2_model = clone(grid_search.best_estimator_)\n",
    "degree_2_model.fit(poly_features_degree_2, y_train_no_outliers)\n",
    "\n",
    "# plot fitted values versus residuals\n",
    "y_val_pred = degree_2_model.predict(poly.transform(X_val_preprocessed))\n",
    "y_val_residuals = y_val_pred - y_val\n",
    "\n",
    "fig, ax = plt.subplots()\n",
    "\n",
    "sns.scatterplot(x=y_val_pred, y=y_val_residuals)\n",
    "\n",
    "ax.set(title='Residual Plot', xlabel='Predicted Values', ylabel='Residuals');"
   ]
  },
  {
   "cell_type": "markdown",
   "id": "6879f0dc",
   "metadata": {},
   "source": [
    "There seems to be more of a pattern in the residuals for the degree 2 model, so it is possible that it is not a good fit overall."
   ]
  },
  {
   "cell_type": "markdown",
   "id": "8a3ff475",
   "metadata": {},
   "source": [
    "Check a degree 3 model with L1 regularization."
   ]
  },
  {
   "cell_type": "markdown",
   "id": "80835ceb",
   "metadata": {},
   "source": [
    "### L1 Regularization, Degree 3 Polynomial Terms"
   ]
  },
  {
   "cell_type": "code",
   "execution_count": 164,
   "id": "d9c45f5d",
   "metadata": {},
   "outputs": [
    {
     "name": "stdout",
     "output_type": "stream",
     "text": [
      "Best validation RMSE: 5.649187024200798\n"
     ]
    }
   ],
   "source": [
    "poly3 = PolynomialFeatures(degree=3, include_bias=False)\n",
    "poly_features_degree_3 = poly3.fit_transform(X_train_preprocessed)\n",
    "\n",
    "l1 = Lasso()\n",
    "\n",
    "param_grid = [\n",
    "    {'alpha': [1, 10, 100, 1000, 10000],\n",
    "     'random_state': [seed]}\n",
    "]\n",
    "\n",
    "grid_search = GridSearchCV(l1, param_grid, scoring='neg_root_mean_squared_error', cv=3, return_train_score=True)\n",
    "\n",
    "grid_search.fit(poly_features_degree_3, y_train_no_outliers)\n",
    "\n",
    "print(f'Best validation RMSE: {-1*grid_search.best_score_}')"
   ]
  },
  {
   "cell_type": "markdown",
   "id": "71de35dd",
   "metadata": {},
   "source": [
    "The best model with degree 3 polynomial terms and L1 regularization performs just slightly better than the degree 2 version. There is no need to overcomplicate the model unnecessarily, so this improvement may not be worth pursuing, but let's check the model stats regardless."
   ]
  },
  {
   "cell_type": "markdown",
   "id": "5901810d",
   "metadata": {},
   "source": [
    "Training score:"
   ]
  },
  {
   "cell_type": "code",
   "execution_count": 165,
   "id": "681501d3",
   "metadata": {},
   "outputs": [
    {
     "data": {
      "text/plain": [
       "5.282957621901111"
      ]
     },
     "execution_count": 165,
     "metadata": {},
     "output_type": "execute_result"
    }
   ],
   "source": [
    "-1 * grid_search.cv_results_['mean_train_score'][grid_search.best_index_] # neg rmse is given"
   ]
  },
  {
   "cell_type": "markdown",
   "id": "3298fab5",
   "metadata": {},
   "source": [
    "Included features:"
   ]
  },
  {
   "cell_type": "code",
   "execution_count": 166,
   "id": "eeb88593",
   "metadata": {},
   "outputs": [
    {
     "data": {
      "text/plain": [
       "array(['num__avg_rating^3',\n",
       "       'num__avg_rating^2 num__avg_item_review_rounded',\n",
       "       'num__avg_rating num__days_since_listed^2',\n",
       "       'num__avg_rating cat__return_and_exchange_policy_category_not_listed^2',\n",
       "       'num__review_count^2 remainder__item_favorites',\n",
       "       'num__early_days_to_arrival^3',\n",
       "       'num__early_days_to_arrival^2 remainder__on_etsy_since',\n",
       "       'num__early_days_to_arrival num__days_since_listed^2',\n",
       "       'num__later_days_to_arrival^3',\n",
       "       'num__later_days_to_arrival^2 num__days_since_listed',\n",
       "       'num__later_days_to_arrival num__days_since_listed^2',\n",
       "       'num__later_days_to_arrival cat__seller_response_time_within_24_hours cat__return_and_exchange_policy_category_free',\n",
       "       'num__later_days_to_arrival remainder__on_etsy_since^2',\n",
       "       'num__avg_item_review_rounded^3',\n",
       "       'num__avg_item_review_rounded^2 num__days_since_listed',\n",
       "       'num__avg_item_review_rounded^2 cat__seller_response_time_within_a_few_hours',\n",
       "       'num__avg_item_review_rounded^2 cat__return_and_exchange_policy_category_not_accepted',\n",
       "       'num__num_item_reviews^2 remainder__item_favorites',\n",
       "       'num__days_since_listed^3',\n",
       "       'num__days_since_listed^2 cat__return_and_exchange_policy_category_not_accepted',\n",
       "       'cat__seller_response_time_within_24_hours^3',\n",
       "       'cat__seller_response_time_within_24_hours^2 cat__return_and_exchange_policy_category_not_accepted',\n",
       "       'cat__seller_response_time_within_a_few_hours cat__return_and_exchange_policy_category_not_listed^2',\n",
       "       'cat__return_and_exchange_policy_category_free^3',\n",
       "       'remainder__item_favorites^3', 'remainder__on_etsy_since^3'],\n",
       "      dtype=object)"
      ]
     },
     "execution_count": 166,
     "metadata": {},
     "output_type": "execute_result"
    }
   ],
   "source": [
    "poly3.get_feature_names_out()[np.nonzero(grid_search.best_estimator_.coef_)]"
   ]
  },
  {
   "cell_type": "markdown",
   "id": "4cf8bcba",
   "metadata": {},
   "source": [
    "Assumptions of linear regression:"
   ]
  },
  {
   "cell_type": "code",
   "execution_count": 167,
   "id": "44e142c8",
   "metadata": {},
   "outputs": [
    {
     "data": {
      "image/png": "[encoded data removed]",
      "text/plain": [
       "<Figure size 640x480 with 1 Axes>"
      ]
     },
     "metadata": {},
     "output_type": "display_data"
    }
   ],
   "source": [
    "# clone best model and fit to training data (degree 2 polynomial version)\n",
    "degree_3_model = clone(grid_search.best_estimator_)\n",
    "degree_3_model.fit(poly_features_degree_3, y_train_no_outliers)\n",
    "\n",
    "# plot fitted values versus residuals\n",
    "y_val_pred = degree_3_model.predict(poly3.transform(X_val_preprocessed))\n",
    "y_val_residuals = y_val_pred - y_val\n",
    "\n",
    "fig, ax = plt.subplots()\n",
    "\n",
    "sns.scatterplot(x=y_val_pred, y=y_val_residuals)\n",
    "\n",
    "ax.set(title='Residual Plot', xlabel='Predicted Values', ylabel='Residuals');"
   ]
  },
  {
   "cell_type": "markdown",
   "id": "d1a403b6",
   "metadata": {},
   "source": [
    "### L1 Regularization, Linear Model"
   ]
  },
  {
   "cell_type": "markdown",
   "id": "46daa308",
   "metadata": {},
   "source": [
    "Speaking of overcomplicating the model, I have not tested the effect of using L1 regularization without any polynomial terms - let me try this now to see if we can get a better RMSE with regularization without polynomial terms."
   ]
  },
  {
   "cell_type": "code",
   "execution_count": 160,
   "id": "f0a9bc60",
   "metadata": {},
   "outputs": [
    {
     "name": "stdout",
     "output_type": "stream",
     "text": [
      "Best validation RMSE: 6.270683237434787\n"
     ]
    }
   ],
   "source": [
    "l1 = Lasso()\n",
    "\n",
    "param_grid = [\n",
    "    {'alpha': [1, 10, 100, 1000, 10000],\n",
    "     'random_state': [seed]}\n",
    "]\n",
    "\n",
    "grid_search = GridSearchCV(l1, param_grid, scoring='neg_root_mean_squared_error', cv=3, return_train_score=True)\n",
    "\n",
    "grid_search.fit(X_train_preprocessed, y_train_no_outliers)\n",
    "\n",
    "print(f'Best validation RMSE: {-1*grid_search.best_score_}')"
   ]
  },
  {
   "cell_type": "markdown",
   "id": "11717974",
   "metadata": {},
   "source": [
    "The best validation RMSE for a linear model with no interaction terms and L1 regularization is higher than that of a model with degree 2 or degree 3 polynomial terms."
   ]
  },
  {
   "cell_type": "markdown",
   "id": "4e935b9b",
   "metadata": {},
   "source": [
    "### L2 Regularization, Linear Model"
   ]
  },
  {
   "cell_type": "markdown",
   "id": "1a67020b",
   "metadata": {},
   "source": [
    "Check the effects of L2 regularization on a strictly linear model."
   ]
  },
  {
   "cell_type": "code",
   "execution_count": 163,
   "id": "86be351b",
   "metadata": {},
   "outputs": [
    {
     "name": "stdout",
     "output_type": "stream",
     "text": [
      "Intel MKL WARNING: Support of Intel(R) Streaming SIMD Extensions 4.2 (Intel(R) SSE4.2) enabled only processors has been deprecated. Intel oneAPI Math Kernel Library 2025.0 will require Intel(R) Advanced Vector Extensions (Intel(R) AVX) instructions.\n",
      "Intel MKL WARNING: Support of Intel(R) Streaming SIMD Extensions 4.2 (Intel(R) SSE4.2) enabled only processors has been deprecated. Intel oneAPI Math Kernel Library 2025.0 will require Intel(R) Advanced Vector Extensions (Intel(R) AVX) instructions.\n",
      "Intel MKL WARNING: Support of Intel(R) Streaming SIMD Extensions 4.2 (Intel(R) SSE4.2) enabled only processors has been deprecated. Intel oneAPI Math Kernel Library 2025.0 will require Intel(R) Advanced Vector Extensions (Intel(R) AVX) instructions.\n",
      "Intel MKL WARNING: Support of Intel(R) Streaming SIMD Extensions 4.2 (Intel(R) SSE4.2) enabled only processors has been deprecated. Intel oneAPI Math Kernel Library 2025.0 will require Intel(R) Advanced Vector Extensions (Intel(R) AVX) instructions.\n",
      "Intel MKL WARNING: Support of Intel(R) Streaming SIMD Extensions 4.2 (Intel(R) SSE4.2) enabled only processors has been deprecated. Intel oneAPI Math Kernel Library 2025.0 will require Intel(R) Advanced Vector Extensions (Intel(R) AVX) instructions.\n",
      "Intel MKL WARNING: Support of Intel(R) Streaming SIMD Extensions 4.2 (Intel(R) SSE4.2) enabled only processors has been deprecated. Intel oneAPI Math Kernel Library 2025.0 will require Intel(R) Advanced Vector Extensions (Intel(R) AVX) instructions.\n",
      "Intel MKL WARNING: Support of Intel(R) Streaming SIMD Extensions 4.2 (Intel(R) SSE4.2) enabled only processors has been deprecated. Intel oneAPI Math Kernel Library 2025.0 will require Intel(R) Advanced Vector Extensions (Intel(R) AVX) instructions.\n",
      "Intel MKL WARNING: Support of Intel(R) Streaming SIMD Extensions 4.2 (Intel(R) SSE4.2) enabled only processors has been deprecated. Intel oneAPI Math Kernel Library 2025.0 will require Intel(R) Advanced Vector Extensions (Intel(R) AVX) instructions.\n",
      "Intel MKL WARNING: Support of Intel(R) Streaming SIMD Extensions 4.2 (Intel(R) SSE4.2) enabled only processors has been deprecated. Intel oneAPI Math Kernel Library 2025.0 will require Intel(R) Advanced Vector Extensions (Intel(R) AVX) instructions.\n",
      "Intel MKL WARNING: Support of Intel(R) Streaming SIMD Extensions 4.2 (Intel(R) SSE4.2) enabled only processors has been deprecated. Intel oneAPI Math Kernel Library 2025.0 will require Intel(R) Advanced Vector Extensions (Intel(R) AVX) instructions.\n",
      "Intel MKL WARNING: Support of Intel(R) Streaming SIMD Extensions 4.2 (Intel(R) SSE4.2) enabled only processors has been deprecated. Intel oneAPI Math Kernel Library 2025.0 will require Intel(R) Advanced Vector Extensions (Intel(R) AVX) instructions.\n",
      "Intel MKL WARNING: Support of Intel(R) Streaming SIMD Extensions 4.2 (Intel(R) SSE4.2) enabled only processors has been deprecated. Intel oneAPI Math Kernel Library 2025.0 will require Intel(R) Advanced Vector Extensions (Intel(R) AVX) instructions.\n",
      "Intel MKL WARNING: Support of Intel(R) Streaming SIMD Extensions 4.2 (Intel(R) SSE4.2) enabled only processors has been deprecated. Intel oneAPI Math Kernel Library 2025.0 will require Intel(R) Advanced Vector Extensions (Intel(R) AVX) instructions.\n",
      "Intel MKL WARNING: Support of Intel(R) Streaming SIMD Extensions 4.2 (Intel(R) SSE4.2) enabled only processors has been deprecated. Intel oneAPI Math Kernel Library 2025.0 will require Intel(R) Advanced Vector Extensions (Intel(R) AVX) instructions.\n",
      "Intel MKL WARNING: Support of Intel(R) Streaming SIMD Extensions 4.2 (Intel(R) SSE4.2) enabled only processors has been deprecated. Intel oneAPI Math Kernel Library 2025.0 will require Intel(R) Advanced Vector Extensions (Intel(R) AVX) instructions.\n",
      "Intel MKL WARNING: Support of Intel(R) Streaming SIMD Extensions 4.2 (Intel(R) SSE4.2) enabled only processors has been deprecated. Intel oneAPI Math Kernel Library 2025.0 will require Intel(R) Advanced Vector Extensions (Intel(R) AVX) instructions.\n",
      "Best validation RMSE: 5.73367427927957\n"
     ]
    }
   ],
   "source": [
    "ridge = Ridge()\n",
    "\n",
    "param_grid = [\n",
    "    {'alpha': [1, 10, 100, 1000, 10000],\n",
    "     'random_state': [seed]}\n",
    "]\n",
    "\n",
    "grid_search = GridSearchCV(ridge, param_grid, scoring='neg_root_mean_squared_error', cv=3, return_train_score=True)\n",
    "\n",
    "grid_search.fit(X_train_preprocessed, y_train_no_outliers)\n",
    "\n",
    "print(f'Best validation RMSE: {-1*grid_search.best_score_}')"
   ]
  },
  {
   "cell_type": "markdown",
   "id": "c11156e7",
   "metadata": {},
   "source": [
    "Training score:"
   ]
  },
  {
   "cell_type": "code",
   "execution_count": 168,
   "id": "92f3ba81",
   "metadata": {},
   "outputs": [
    {
     "data": {
      "text/plain": [
       "5.282957621901111"
      ]
     },
     "execution_count": 168,
     "metadata": {},
     "output_type": "execute_result"
    }
   ],
   "source": [
    "-1 * grid_search.cv_results_['mean_train_score'][grid_search.best_index_] # neg rmse is given"
   ]
  },
  {
   "cell_type": "code",
   "execution_count": 169,
   "id": "29ac76ef",
   "metadata": {},
   "outputs": [
    {
     "data": {
      "image/png": "[encoded data removed]",
      "text/plain": [
       "<Figure size 640x480 with 1 Axes>"
      ]
     },
     "metadata": {},
     "output_type": "display_data"
    }
   ],
   "source": [
    "# clone best model and fit to training data (degree 2 polynomial version)\n",
    "ridge_model = clone(grid_search.best_estimator_)\n",
    "ridge_model.fit(X_train_preprocessed, y_train_no_outliers)\n",
    "\n",
    "# plot fitted values versus residuals\n",
    "y_val_pred = ridge_model.predict(X_val_preprocessed)\n",
    "y_val_residuals = y_val_pred - y_val\n",
    "\n",
    "fig, ax = plt.subplots()\n",
    "\n",
    "sns.scatterplot(x=y_val_pred, y=y_val_residuals)\n",
    "\n",
    "ax.set(title='Residual Plot', xlabel='Predicted Values', ylabel='Residuals');"
   ]
  },
  {
   "cell_type": "markdown",
   "id": "1d7619e6",
   "metadata": {},
   "source": [
    "Our best linear model so far, by a narrow margin, is still the degree 3 polynomial with L1 regularization with a validation RMSE of \\\\$5.65."
   ]
  },
  {
   "cell_type": "markdown",
   "id": "c023d894",
   "metadata": {},
   "source": [
    "## Random Forest Regression"
   ]
  },
  {
   "cell_type": "markdown",
   "id": "acbb1e29",
   "metadata": {},
   "source": [
    "### Random Forest Baseline"
   ]
  },
  {
   "cell_type": "markdown",
   "id": "9ada07b9",
   "metadata": {},
   "source": [
    "Instantiate and train a baseline random forest regression model."
   ]
  },
  {
   "cell_type": "code",
   "execution_count": 170,
   "id": "454d2ed9",
   "metadata": {},
   "outputs": [
    {
     "name": "stdout",
     "output_type": "stream",
     "text": [
      "RMSE on Training Data: 0.6030366705993918\n",
      "RMSE on Test Data: 15.562869101287403\n"
     ]
    }
   ],
   "source": [
    "rf = RandomForestRegressor(random_state=seed)\n",
    "rf.fit(X_train_preprocessed, y_train_no_outliers)\n",
    "\n",
    "print(f'RMSE on Training Data: {np.sqrt(mean_squared_error(y_train_no_outliers, rf.predict(X_train_preprocessed)))}')\n",
    "\n",
    "print(f'RMSE on Test Data: {np.sqrt(mean_squared_error(y_test, rf.predict(X_test_preprocessed)))}')"
   ]
  },
  {
   "cell_type": "markdown",
   "id": "d5e29d16",
   "metadata": {},
   "source": [
    "Check the maximum depth of trees in this forest."
   ]
  },
  {
   "cell_type": "code",
   "execution_count": 175,
   "id": "09f83370",
   "metadata": {},
   "outputs": [
    {
     "name": "stdout",
     "output_type": "stream",
     "text": [
      "18.6\n",
      "1.4966629547095767\n"
     ]
    }
   ],
   "source": [
    "print(np.mean([tree.get_depth() for tree in rf.estimators_]))\n",
    "print(np.std([tree.get_depth() for tree in rf.estimators_]))"
   ]
  },
  {
   "cell_type": "markdown",
   "id": "24dec520",
   "metadata": {},
   "source": [
    "Trees in the baseline random forest have a maximum depth generally ranging from 17 to 20."
   ]
  },
  {
   "cell_type": "markdown",
   "id": "4132b6ff",
   "metadata": {},
   "source": [
    "### Tuning Random Forest"
   ]
  },
  {
   "cell_type": "markdown",
   "id": "06853c51",
   "metadata": {},
   "source": [
    "Tune random forest regression."
   ]
  },
  {
   "cell_type": "code",
   "execution_count": 178,
   "id": "1454eee0",
   "metadata": {},
   "outputs": [
    {
     "data": {
      "text/html": [
       "<style>#sk-container-id-4 {color: black;background-color: white;}#sk-container-id-4 pre{padding: 0;}#sk-container-id-4 div.sk-toggleable {background-color: white;}#sk-container-id-4 label.sk-toggleable__label {cursor: pointer;display: block;width: 100%;margin-bottom: 0;padding: 0.3em;box-sizing: border-box;text-align: center;}#sk-container-id-4 label.sk-toggleable__label-arrow:before {content: \"▸\";float: left;margin-right: 0.25em;color: #696969;}#sk-container-id-4 label.sk-toggleable__label-arrow:hover:before {color: black;}#sk-container-id-4 div.sk-estimator:hover label.sk-toggleable__label-arrow:before {color: black;}#sk-container-id-4 div.sk-toggleable__content {max-height: 0;max-width: 0;overflow: hidden;text-align: left;background-color: #f0f8ff;}#sk-container-id-4 div.sk-toggleable__content pre {margin: 0.2em;color: black;border-radius: 0.25em;background-color: #f0f8ff;}#sk-container-id-4 input.sk-toggleable__control:checked~div.sk-toggleable__content {max-height: 200px;max-width: 100%;overflow: auto;}#sk-container-id-4 input.sk-toggleable__control:checked~label.sk-toggleable__label-arrow:before {content: \"▾\";}#sk-container-id-4 div.sk-estimator input.sk-toggleable__control:checked~label.sk-toggleable__label {background-color: #d4ebff;}#sk-container-id-4 div.sk-label input.sk-toggleable__control:checked~label.sk-toggleable__label {background-color: #d4ebff;}#sk-container-id-4 input.sk-hidden--visually {border: 0;clip: rect(1px 1px 1px 1px);clip: rect(1px, 1px, 1px, 1px);height: 1px;margin: -1px;overflow: hidden;padding: 0;position: absolute;width: 1px;}#sk-container-id-4 div.sk-estimator {font-family: monospace;background-color: #f0f8ff;border: 1px dotted black;border-radius: 0.25em;box-sizing: border-box;margin-bottom: 0.5em;}#sk-container-id-4 div.sk-estimator:hover {background-color: #d4ebff;}#sk-container-id-4 div.sk-parallel-item::after {content: \"\";width: 100%;border-bottom: 1px solid gray;flex-grow: 1;}#sk-container-id-4 div.sk-label:hover label.sk-toggleable__label {background-color: #d4ebff;}#sk-container-id-4 div.sk-serial::before {content: \"\";position: absolute;border-left: 1px solid gray;box-sizing: border-box;top: 0;bottom: 0;left: 50%;z-index: 0;}#sk-container-id-4 div.sk-serial {display: flex;flex-direction: column;align-items: center;background-color: white;padding-right: 0.2em;padding-left: 0.2em;position: relative;}#sk-container-id-4 div.sk-item {position: relative;z-index: 1;}#sk-container-id-4 div.sk-parallel {display: flex;align-items: stretch;justify-content: center;background-color: white;position: relative;}#sk-container-id-4 div.sk-item::before, #sk-container-id-4 div.sk-parallel-item::before {content: \"\";position: absolute;border-left: 1px solid gray;box-sizing: border-box;top: 0;bottom: 0;left: 50%;z-index: -1;}#sk-container-id-4 div.sk-parallel-item {display: flex;flex-direction: column;z-index: 1;position: relative;background-color: white;}#sk-container-id-4 div.sk-parallel-item:first-child::after {align-self: flex-end;width: 50%;}#sk-container-id-4 div.sk-parallel-item:last-child::after {align-self: flex-start;width: 50%;}#sk-container-id-4 div.sk-parallel-item:only-child::after {width: 0;}#sk-container-id-4 div.sk-dashed-wrapped {border: 1px dashed gray;margin: 0 0.4em 0.5em 0.4em;box-sizing: border-box;padding-bottom: 0.4em;background-color: white;}#sk-container-id-4 div.sk-label label {font-family: monospace;font-weight: bold;display: inline-block;line-height: 1.2em;}#sk-container-id-4 div.sk-label-container {text-align: center;}#sk-container-id-4 div.sk-container {/* jupyter's `normalize.less` sets `[hidden] { display: none; }` but bootstrap.min.css set `[hidden] { display: none !important; }` so we also need the `!important` here to be able to override the default hidden behavior on the sphinx rendered scikit-learn.org. See: https://github.com/scikit-learn/scikit-learn/issues/21755 */display: inline-block !important;position: relative;}#sk-container-id-4 div.sk-text-repr-fallback {display: none;}</style><div id=\"sk-container-id-4\" class=\"sk-top-container\"><div class=\"sk-text-repr-fallback\"><pre>GridSearchCV(cv=3, estimator=RandomForestRegressor(random_state=92308),\n",
       "             param_grid=[{&#x27;max_depth&#x27;: [1, 5, 10, 15, 20, 25],\n",
       "                          &#x27;max_features&#x27;: [0.5, 0.75, 1],\n",
       "                          &#x27;n_estimators&#x27;: [100, 200],\n",
       "                          &#x27;random_state&#x27;: [92308]}],\n",
       "             return_train_score=True, scoring=&#x27;neg_root_mean_squared_error&#x27;)</pre><b>In a Jupyter environment, please rerun this cell to show the HTML representation or trust the notebook. <br />On GitHub, the HTML representation is unable to render, please try loading this page with nbviewer.org.</b></div><div class=\"sk-container\" hidden><div class=\"sk-item sk-dashed-wrapped\"><div class=\"sk-label-container\"><div class=\"sk-label sk-toggleable\"><input class=\"sk-toggleable__control sk-hidden--visually\" id=\"sk-estimator-id-6\" type=\"checkbox\" ><label for=\"sk-estimator-id-6\" class=\"sk-toggleable__label sk-toggleable__label-arrow\">GridSearchCV</label><div class=\"sk-toggleable__content\"><pre>GridSearchCV(cv=3, estimator=RandomForestRegressor(random_state=92308),\n",
       "             param_grid=[{&#x27;max_depth&#x27;: [1, 5, 10, 15, 20, 25],\n",
       "                          &#x27;max_features&#x27;: [0.5, 0.75, 1],\n",
       "                          &#x27;n_estimators&#x27;: [100, 200],\n",
       "                          &#x27;random_state&#x27;: [92308]}],\n",
       "             return_train_score=True, scoring=&#x27;neg_root_mean_squared_error&#x27;)</pre></div></div></div><div class=\"sk-parallel\"><div class=\"sk-parallel-item\"><div class=\"sk-item\"><div class=\"sk-label-container\"><div class=\"sk-label sk-toggleable\"><input class=\"sk-toggleable__control sk-hidden--visually\" id=\"sk-estimator-id-7\" type=\"checkbox\" ><label for=\"sk-estimator-id-7\" class=\"sk-toggleable__label sk-toggleable__label-arrow\">estimator: RandomForestRegressor</label><div class=\"sk-toggleable__content\"><pre>RandomForestRegressor(random_state=92308)</pre></div></div></div><div class=\"sk-serial\"><div class=\"sk-item\"><div class=\"sk-estimator sk-toggleable\"><input class=\"sk-toggleable__control sk-hidden--visually\" id=\"sk-estimator-id-8\" type=\"checkbox\" ><label for=\"sk-estimator-id-8\" class=\"sk-toggleable__label sk-toggleable__label-arrow\">RandomForestRegressor</label><div class=\"sk-toggleable__content\"><pre>RandomForestRegressor(random_state=92308)</pre></div></div></div></div></div></div></div></div></div></div>"
      ],
      "text/plain": [
       "GridSearchCV(cv=3, estimator=RandomForestRegressor(random_state=92308),\n",
       "             param_grid=[{'max_depth': [1, 5, 10, 15, 20, 25],\n",
       "                          'max_features': [0.5, 0.75, 1],\n",
       "                          'n_estimators': [100, 200],\n",
       "                          'random_state': [92308]}],\n",
       "             return_train_score=True, scoring='neg_root_mean_squared_error')"
      ]
     },
     "execution_count": 178,
     "metadata": {},
     "output_type": "execute_result"
    }
   ],
   "source": [
    "param_grid = [\n",
    "    {'max_depth': [1, 5, 10, 15, 20, 25],\n",
    "     'max_features': [0.5, 0.75, 1],\n",
    "     'n_estimators': [100, 200],\n",
    "     'random_state': [seed]}\n",
    "]\n",
    "\n",
    "grid_search = GridSearchCV(rf, param_grid, scoring='neg_root_mean_squared_error', cv=3, return_train_score=True)\n",
    "\n",
    "grid_search.fit(X_train_preprocessed, y_train_no_outliers)"
   ]
  },
  {
   "cell_type": "code",
   "execution_count": 187,
   "id": "7126b740",
   "metadata": {},
   "outputs": [
    {
     "name": "stdout",
     "output_type": "stream",
     "text": [
      "Best validation RMSE: $1.65\n"
     ]
    }
   ],
   "source": [
    "print(f'Best validation RMSE: ${round(-1 * grid_search.best_score_, 2)}')"
   ]
  },
  {
   "cell_type": "code",
   "execution_count": 186,
   "id": "ec527b81",
   "metadata": {},
   "outputs": [
    {
     "name": "stdout",
     "output_type": "stream",
     "text": [
      "Training RMSE for best model: $0.65\n"
     ]
    }
   ],
   "source": [
    "print(f\"Training RMSE for best model: ${round(-1*grid_search.cv_results_['mean_train_score'][grid_search.best_index_], 2)}\")"
   ]
  },
  {
   "cell_type": "markdown",
   "id": "c3bc49b5",
   "metadata": {},
   "source": [
    "Visualize predictions for validation data:"
   ]
  },
  {
   "cell_type": "code",
   "execution_count": 191,
   "id": "099cc839",
   "metadata": {},
   "outputs": [
    {
     "data": {
      "image/png": "[encoded data removed]",
      "text/plain": [
       "<Figure size 640x480 with 1 Axes>"
      ]
     },
     "metadata": {},
     "output_type": "display_data"
    }
   ],
   "source": [
    "# visualize predictions for validation data\n",
    "# clone & fit best model\n",
    "best_rf_model = clone(grid_search.best_estimator_)\n",
    "best_rf_model.fit(X_train_preprocessed, y_train_no_outliers)\n",
    "# get predictions for validation data\n",
    "y_val_pred = best_rf_model.predict(X_val_preprocessed)\n",
    "\n",
    "# plot actual vs. predicted values\n",
    "fig, ax = plt.subplots()\n",
    "\n",
    "sns.scatterplot(x=y_val, y=y_val_pred)\n",
    "sns.lineplot(x=y_val, y=y_val, label='Correct Predictions')\n",
    "\n",
    "ax.set(title='Random Forest Regression: Actual vs Predicted Values', xlabel='Actual Price', ylabel='Predicted Price');"
   ]
  },
  {
   "cell_type": "markdown",
   "id": "7cfd91f8",
   "metadata": {},
   "source": [
    "The model tends to under-price candles in the validation data that have a price higher than the maximum acceptable price to exclude outliers (unsurprisingly.)"
   ]
  },
  {
   "cell_type": "code",
   "execution_count": 192,
   "id": "e6461e09",
   "metadata": {},
   "outputs": [
    {
     "data": {
      "text/plain": [
       "33.30875"
      ]
     },
     "execution_count": 192,
     "metadata": {},
     "output_type": "execute_result"
    }
   ],
   "source": [
    "max_acceptable_price"
   ]
  },
  {
   "cell_type": "markdown",
   "id": "9acb2599",
   "metadata": {},
   "source": [
    "We may want to explore including outliers in the training data."
   ]
  },
  {
   "cell_type": "markdown",
   "id": "ed28a7d4",
   "metadata": {},
   "source": [
    "## XG Boost Model"
   ]
  },
  {
   "cell_type": "markdown",
   "id": "691c74b9",
   "metadata": {},
   "source": [
    "### XG Boost Baseline Model"
   ]
  },
  {
   "cell_type": "code",
   "execution_count": 194,
   "id": "bb16ab0d",
   "metadata": {},
   "outputs": [
    {
     "name": "stdout",
     "output_type": "stream",
     "text": [
      "RMSE on Training Data: $0.09\n",
      "RMSE on Test Data: $10.42\n"
     ]
    }
   ],
   "source": [
    "xgb = XGBRegressor()\n",
    "xgb.fit(X_train_preprocessed, y_train_no_outliers)\n",
    "\n",
    "print(f'RMSE on Training Data: ${round(np.sqrt(mean_squared_error(y_train_no_outliers, xgb.predict(X_train_preprocessed))), 2)}')\n",
    "\n",
    "print(f'RMSE on Test Data: ${round(np.sqrt(mean_squared_error(y_val, xgb.predict(X_val_preprocessed))), 2)}')"
   ]
  },
  {
   "cell_type": "markdown",
   "id": "588a2571",
   "metadata": {},
   "source": [
    "### Tuning XG Boost"
   ]
  },
  {
   "cell_type": "markdown",
   "id": "afa7df3f",
   "metadata": {},
   "source": [
    "Tune XG Boost."
   ]
  },
  {
   "cell_type": "code",
   "execution_count": 196,
   "id": "495bae55",
   "metadata": {},
   "outputs": [
    {
     "data": {
      "text/html": [
       "<style>#sk-container-id-6 {color: black;background-color: white;}#sk-container-id-6 pre{padding: 0;}#sk-container-id-6 div.sk-toggleable {background-color: white;}#sk-container-id-6 label.sk-toggleable__label {cursor: pointer;display: block;width: 100%;margin-bottom: 0;padding: 0.3em;box-sizing: border-box;text-align: center;}#sk-container-id-6 label.sk-toggleable__label-arrow:before {content: \"▸\";float: left;margin-right: 0.25em;color: #696969;}#sk-container-id-6 label.sk-toggleable__label-arrow:hover:before {color: black;}#sk-container-id-6 div.sk-estimator:hover label.sk-toggleable__label-arrow:before {color: black;}#sk-container-id-6 div.sk-toggleable__content {max-height: 0;max-width: 0;overflow: hidden;text-align: left;background-color: #f0f8ff;}#sk-container-id-6 div.sk-toggleable__content pre {margin: 0.2em;color: black;border-radius: 0.25em;background-color: #f0f8ff;}#sk-container-id-6 input.sk-toggleable__control:checked~div.sk-toggleable__content {max-height: 200px;max-width: 100%;overflow: auto;}#sk-container-id-6 input.sk-toggleable__control:checked~label.sk-toggleable__label-arrow:before {content: \"▾\";}#sk-container-id-6 div.sk-estimator input.sk-toggleable__control:checked~label.sk-toggleable__label {background-color: #d4ebff;}#sk-container-id-6 div.sk-label input.sk-toggleable__control:checked~label.sk-toggleable__label {background-color: #d4ebff;}#sk-container-id-6 input.sk-hidden--visually {border: 0;clip: rect(1px 1px 1px 1px);clip: rect(1px, 1px, 1px, 1px);height: 1px;margin: -1px;overflow: hidden;padding: 0;position: absolute;width: 1px;}#sk-container-id-6 div.sk-estimator {font-family: monospace;background-color: #f0f8ff;border: 1px dotted black;border-radius: 0.25em;box-sizing: border-box;margin-bottom: 0.5em;}#sk-container-id-6 div.sk-estimator:hover {background-color: #d4ebff;}#sk-container-id-6 div.sk-parallel-item::after {content: \"\";width: 100%;border-bottom: 1px solid gray;flex-grow: 1;}#sk-container-id-6 div.sk-label:hover label.sk-toggleable__label {background-color: #d4ebff;}#sk-container-id-6 div.sk-serial::before {content: \"\";position: absolute;border-left: 1px solid gray;box-sizing: border-box;top: 0;bottom: 0;left: 50%;z-index: 0;}#sk-container-id-6 div.sk-serial {display: flex;flex-direction: column;align-items: center;background-color: white;padding-right: 0.2em;padding-left: 0.2em;position: relative;}#sk-container-id-6 div.sk-item {position: relative;z-index: 1;}#sk-container-id-6 div.sk-parallel {display: flex;align-items: stretch;justify-content: center;background-color: white;position: relative;}#sk-container-id-6 div.sk-item::before, #sk-container-id-6 div.sk-parallel-item::before {content: \"\";position: absolute;border-left: 1px solid gray;box-sizing: border-box;top: 0;bottom: 0;left: 50%;z-index: -1;}#sk-container-id-6 div.sk-parallel-item {display: flex;flex-direction: column;z-index: 1;position: relative;background-color: white;}#sk-container-id-6 div.sk-parallel-item:first-child::after {align-self: flex-end;width: 50%;}#sk-container-id-6 div.sk-parallel-item:last-child::after {align-self: flex-start;width: 50%;}#sk-container-id-6 div.sk-parallel-item:only-child::after {width: 0;}#sk-container-id-6 div.sk-dashed-wrapped {border: 1px dashed gray;margin: 0 0.4em 0.5em 0.4em;box-sizing: border-box;padding-bottom: 0.4em;background-color: white;}#sk-container-id-6 div.sk-label label {font-family: monospace;font-weight: bold;display: inline-block;line-height: 1.2em;}#sk-container-id-6 div.sk-label-container {text-align: center;}#sk-container-id-6 div.sk-container {/* jupyter's `normalize.less` sets `[hidden] { display: none; }` but bootstrap.min.css set `[hidden] { display: none !important; }` so we also need the `!important` here to be able to override the default hidden behavior on the sphinx rendered scikit-learn.org. See: https://github.com/scikit-learn/scikit-learn/issues/21755 */display: inline-block !important;position: relative;}#sk-container-id-6 div.sk-text-repr-fallback {display: none;}</style><div id=\"sk-container-id-6\" class=\"sk-top-container\"><div class=\"sk-text-repr-fallback\"><pre>GridSearchCV(cv=3,\n",
       "             estimator=XGBRegressor(base_score=None, booster=None,\n",
       "                                    callbacks=None, colsample_bylevel=None,\n",
       "                                    colsample_bynode=None,\n",
       "                                    colsample_bytree=None,\n",
       "                                    early_stopping_rounds=None,\n",
       "                                    enable_categorical=False, eval_metric=None,\n",
       "                                    feature_types=None, gamma=None, gpu_id=None,\n",
       "                                    grow_policy=None, importance_type=None,\n",
       "                                    interaction_constraints=None,\n",
       "                                    learning_rate=None, m...\n",
       "                                    min_child_weight=None, missing=nan,\n",
       "                                    monotone_constraints=None, n_estimators=100,\n",
       "                                    n_jobs=None, num_parallel_tree=None,\n",
       "                                    predictor=None, random_state=None, ...),\n",
       "             param_grid=[{&#x27;learning_rate&#x27;: [0.0001, 0.001, 0.01, 0.1],\n",
       "                          &#x27;max_depth&#x27;: [1, 5, 10, 15, 20, 25],\n",
       "                          &#x27;n_estimators&#x27;: [100, 200], &#x27;random_state&#x27;: [92308],\n",
       "                          &#x27;subsample&#x27;: [0.25, 0.5, 0.75, 1]}],\n",
       "             return_train_score=True, scoring=&#x27;neg_root_mean_squared_error&#x27;)</pre><b>In a Jupyter environment, please rerun this cell to show the HTML representation or trust the notebook. <br />On GitHub, the HTML representation is unable to render, please try loading this page with nbviewer.org.</b></div><div class=\"sk-container\" hidden><div class=\"sk-item sk-dashed-wrapped\"><div class=\"sk-label-container\"><div class=\"sk-label sk-toggleable\"><input class=\"sk-toggleable__control sk-hidden--visually\" id=\"sk-estimator-id-10\" type=\"checkbox\" ><label for=\"sk-estimator-id-10\" class=\"sk-toggleable__label sk-toggleable__label-arrow\">GridSearchCV</label><div class=\"sk-toggleable__content\"><pre>GridSearchCV(cv=3,\n",
       "             estimator=XGBRegressor(base_score=None, booster=None,\n",
       "                                    callbacks=None, colsample_bylevel=None,\n",
       "                                    colsample_bynode=None,\n",
       "                                    colsample_bytree=None,\n",
       "                                    early_stopping_rounds=None,\n",
       "                                    enable_categorical=False, eval_metric=None,\n",
       "                                    feature_types=None, gamma=None, gpu_id=None,\n",
       "                                    grow_policy=None, importance_type=None,\n",
       "                                    interaction_constraints=None,\n",
       "                                    learning_rate=None, m...\n",
       "                                    min_child_weight=None, missing=nan,\n",
       "                                    monotone_constraints=None, n_estimators=100,\n",
       "                                    n_jobs=None, num_parallel_tree=None,\n",
       "                                    predictor=None, random_state=None, ...),\n",
       "             param_grid=[{&#x27;learning_rate&#x27;: [0.0001, 0.001, 0.01, 0.1],\n",
       "                          &#x27;max_depth&#x27;: [1, 5, 10, 15, 20, 25],\n",
       "                          &#x27;n_estimators&#x27;: [100, 200], &#x27;random_state&#x27;: [92308],\n",
       "                          &#x27;subsample&#x27;: [0.25, 0.5, 0.75, 1]}],\n",
       "             return_train_score=True, scoring=&#x27;neg_root_mean_squared_error&#x27;)</pre></div></div></div><div class=\"sk-parallel\"><div class=\"sk-parallel-item\"><div class=\"sk-item\"><div class=\"sk-label-container\"><div class=\"sk-label sk-toggleable\"><input class=\"sk-toggleable__control sk-hidden--visually\" id=\"sk-estimator-id-11\" type=\"checkbox\" ><label for=\"sk-estimator-id-11\" class=\"sk-toggleable__label sk-toggleable__label-arrow\">estimator: XGBRegressor</label><div class=\"sk-toggleable__content\"><pre>XGBRegressor(base_score=None, booster=None, callbacks=None,\n",
       "             colsample_bylevel=None, colsample_bynode=None,\n",
       "             colsample_bytree=None, early_stopping_rounds=None,\n",
       "             enable_categorical=False, eval_metric=None, feature_types=None,\n",
       "             gamma=None, gpu_id=None, grow_policy=None, importance_type=None,\n",
       "             interaction_constraints=None, learning_rate=None, max_bin=None,\n",
       "             max_cat_threshold=None, max_cat_to_onehot=None,\n",
       "             max_delta_step=None, max_depth=None, max_leaves=None,\n",
       "             min_child_weight=None, missing=nan, monotone_constraints=None,\n",
       "             n_estimators=100, n_jobs=None, num_parallel_tree=None,\n",
       "             predictor=None, random_state=None, ...)</pre></div></div></div><div class=\"sk-serial\"><div class=\"sk-item\"><div class=\"sk-estimator sk-toggleable\"><input class=\"sk-toggleable__control sk-hidden--visually\" id=\"sk-estimator-id-12\" type=\"checkbox\" ><label for=\"sk-estimator-id-12\" class=\"sk-toggleable__label sk-toggleable__label-arrow\">XGBRegressor</label><div class=\"sk-toggleable__content\"><pre>XGBRegressor(base_score=None, booster=None, callbacks=None,\n",
       "             colsample_bylevel=None, colsample_bynode=None,\n",
       "             colsample_bytree=None, early_stopping_rounds=None,\n",
       "             enable_categorical=False, eval_metric=None, feature_types=None,\n",
       "             gamma=None, gpu_id=None, grow_policy=None, importance_type=None,\n",
       "             interaction_constraints=None, learning_rate=None, max_bin=None,\n",
       "             max_cat_threshold=None, max_cat_to_onehot=None,\n",
       "             max_delta_step=None, max_depth=None, max_leaves=None,\n",
       "             min_child_weight=None, missing=nan, monotone_constraints=None,\n",
       "             n_estimators=100, n_jobs=None, num_parallel_tree=None,\n",
       "             predictor=None, random_state=None, ...)</pre></div></div></div></div></div></div></div></div></div></div>"
      ],
      "text/plain": [
       "GridSearchCV(cv=3,\n",
       "             estimator=XGBRegressor(base_score=None, booster=None,\n",
       "                                    callbacks=None, colsample_bylevel=None,\n",
       "                                    colsample_bynode=None,\n",
       "                                    colsample_bytree=None,\n",
       "                                    early_stopping_rounds=None,\n",
       "                                    enable_categorical=False, eval_metric=None,\n",
       "                                    feature_types=None, gamma=None, gpu_id=None,\n",
       "                                    grow_policy=None, importance_type=None,\n",
       "                                    interaction_constraints=None,\n",
       "                                    learning_rate=None, m...\n",
       "                                    min_child_weight=None, missing=nan,\n",
       "                                    monotone_constraints=None, n_estimators=100,\n",
       "                                    n_jobs=None, num_parallel_tree=None,\n",
       "                                    predictor=None, random_state=None, ...),\n",
       "             param_grid=[{'learning_rate': [0.0001, 0.001, 0.01, 0.1],\n",
       "                          'max_depth': [1, 5, 10, 15, 20, 25],\n",
       "                          'n_estimators': [100, 200], 'random_state': [92308],\n",
       "                          'subsample': [0.25, 0.5, 0.75, 1]}],\n",
       "             return_train_score=True, scoring='neg_root_mean_squared_error')"
      ]
     },
     "execution_count": 196,
     "metadata": {},
     "output_type": "execute_result"
    }
   ],
   "source": [
    "param_grid = [\n",
    "    {'learning_rate': [0.0001, 0.001, 0.01, 0.1],\n",
    "     'max_depth': [1, 5, 10, 15, 20, 25],\n",
    "     'subsample': [0.25, 0.5, 0.75, 1],\n",
    "     'n_estimators': [100, 200],\n",
    "     'random_state': [seed]}\n",
    "]\n",
    "\n",
    "grid_search = GridSearchCV(xgb, param_grid, scoring='neg_root_mean_squared_error', cv=3, return_train_score=True)\n",
    "\n",
    "grid_search.fit(X_train_preprocessed, y_train_no_outliers)"
   ]
  },
  {
   "cell_type": "code",
   "execution_count": 197,
   "id": "672d9ec7",
   "metadata": {},
   "outputs": [
    {
     "name": "stdout",
     "output_type": "stream",
     "text": [
      "Best validation RMSE: $1.73\n",
      "Training RMSE for best model: $0.43\n"
     ]
    }
   ],
   "source": [
    "print(f'Best validation RMSE: ${round(-1 * grid_search.best_score_, 2)}')\n",
    "print(f\"Training RMSE for best model: ${round(-1*grid_search.cv_results_['mean_train_score'][grid_search.best_index_], 2)}\")"
   ]
  },
  {
   "cell_type": "markdown",
   "id": "6f9fdb26",
   "metadata": {},
   "source": [
    "Visualize predictions for validation data:"
   ]
  },
  {
   "cell_type": "code",
   "execution_count": 199,
   "id": "a31130e7",
   "metadata": {},
   "outputs": [
    {
     "data": {
      "image/png": "[encoded data removed]",
      "text/plain": [
       "<Figure size 640x480 with 1 Axes>"
      ]
     },
     "metadata": {},
     "output_type": "display_data"
    }
   ],
   "source": [
    "# visualize predictions for validation data\n",
    "# clone & fit best model\n",
    "best_xgb_model = clone(grid_search.best_estimator_)\n",
    "best_xgb_model.fit(X_train_preprocessed, y_train_no_outliers)\n",
    "# get predictions for validation data\n",
    "y_val_pred = best_xgb_model.predict(X_val_preprocessed)\n",
    "\n",
    "# plot actual vs. predicted values\n",
    "fig, ax = plt.subplots()\n",
    "\n",
    "sns.scatterplot(x=y_val, y=y_val_pred)\n",
    "sns.lineplot(x=y_val, y=y_val, label='Correct Predictions')\n",
    "\n",
    "ax.set(title='XG Boost Regression: Actual vs Predicted Values', xlabel='Actual Price', ylabel='Predicted Price');"
   ]
  },
  {
   "cell_type": "markdown",
   "id": "ee312b85",
   "metadata": {},
   "source": [
    "---"
   ]
  },
  {
   "cell_type": "markdown",
   "id": "2ff74f95",
   "metadata": {},
   "source": [
    "# To Do\n",
    "\n",
    "- [ ] Change the below section to dropping *fewer* outliers, and try random forest and xg boost models (quickly) again.\n",
    "- [ ] Move on to evaluation of the best model on the hold out test set.\n",
    "- [ ] Include a written summary evaluating the best model: interpreting RMSE, interpreting R^2, and making a comment on the actual vs. predicted visualization.\n",
    "- [ ] If best model is a random forest, look at feature importance.\n",
    "- [ ] If you have time, you can try polynomial terms with random forest regression. Not important.\n",
    "- [ ] Send a message to Abhineet; share best RMSE and improvement over baseline; also share number of models fitted.\n",
    "- [ ] Summarize modeling process in README; get banner and directory going; include visualizations.\n",
    "- [ ] Fulfill minimum reproducibility requirements.\n",
    "\n",
    "---\n",
    "\n",
    "- [ ] Put together your presentation (pick a slides theme, get visualizations to match, and comb over checklist for project again to be sure that you are meeting all requirements. :) )"
   ]
  },
  {
   "cell_type": "markdown",
   "id": "30a025b0",
   "metadata": {},
   "source": [
    "---"
   ]
  },
  {
   "cell_type": "markdown",
   "id": "50d90888",
   "metadata": {},
   "source": [
    "## Drop More Outliers"
   ]
  },
  {
   "cell_type": "markdown",
   "id": "9d358ea6",
   "metadata": {},
   "source": [
    "Earlier, we set an arbitrary ceiling for the price of a candle at \\\\$100. Let's try lowering this ceiling, and we can also try using the standard upper limit for outliers (based on the interquartile range.)"
   ]
  },
  {
   "cell_type": "code",
   "execution_count": 37,
   "id": "b5bb8be7",
   "metadata": {},
   "outputs": [],
   "source": [
    "price_IQR = df.price.quantile(0.75) - df.price.quantile(0.25)\n",
    "\n",
    "price_min_acceptable_value = df.price.quantile(0.25) - 1.5*price_IQR\n",
    "price_max_acceptable_value = df.price.quantile(.75) + 1.5*price_IQR\n",
    "\n",
    "# drop outliers\n",
    "df_less_outliers = df.loc[(df.price > price_min_acceptable_value) & (df.price < price_max_acceptable_value)].copy()"
   ]
  },
  {
   "cell_type": "markdown",
   "id": "e3beecc5",
   "metadata": {},
   "source": [
    "Separate features and target."
   ]
  },
  {
   "cell_type": "code",
   "execution_count": 38,
   "id": "a8a4a263",
   "metadata": {},
   "outputs": [
    {
     "data": {
      "text/html": [
       "<div>\n",
       "<style scoped>\n",
       "    .dataframe tbody tr th:only-of-type {\n",
       "        vertical-align: middle;\n",
       "    }\n",
       "\n",
       "    .dataframe tbody tr th {\n",
       "        vertical-align: top;\n",
       "    }\n",
       "\n",
       "    .dataframe thead th {\n",
       "        text-align: right;\n",
       "    }\n",
       "</style>\n",
       "<table border=\"1\" class=\"dataframe\">\n",
       "  <thead>\n",
       "    <tr style=\"text-align: right;\">\n",
       "      <th></th>\n",
       "      <th>avg_rating</th>\n",
       "      <th>review_count</th>\n",
       "      <th>seller_response_time</th>\n",
       "      <th>item_favorites</th>\n",
       "      <th>early_days_to_arrival</th>\n",
       "      <th>later_days_to_arrival</th>\n",
       "      <th>num_sales</th>\n",
       "      <th>num_admirers</th>\n",
       "      <th>avg_item_review_rounded</th>\n",
       "      <th>num_item_reviews</th>\n",
       "      <th>on_etsy_since</th>\n",
       "      <th>return_and_exchange_policy_category</th>\n",
       "      <th>days_since_listed</th>\n",
       "    </tr>\n",
       "    <tr>\n",
       "      <th>index</th>\n",
       "      <th></th>\n",
       "      <th></th>\n",
       "      <th></th>\n",
       "      <th></th>\n",
       "      <th></th>\n",
       "      <th></th>\n",
       "      <th></th>\n",
       "      <th></th>\n",
       "      <th></th>\n",
       "      <th></th>\n",
       "      <th></th>\n",
       "      <th></th>\n",
       "      <th></th>\n",
       "    </tr>\n",
       "  </thead>\n",
       "  <tbody>\n",
       "    <tr>\n",
       "      <th>144399</th>\n",
       "      <td>4.9691</td>\n",
       "      <td>2420.0</td>\n",
       "      <td>within_a_few_hours</td>\n",
       "      <td>2.0</td>\n",
       "      <td>11.0</td>\n",
       "      <td>17.0</td>\n",
       "      <td>8276.0</td>\n",
       "      <td>1172.0</td>\n",
       "      <td>5.0</td>\n",
       "      <td>2420.0</td>\n",
       "      <td>2017.0</td>\n",
       "      <td>not_accepted</td>\n",
       "      <td>2.0</td>\n",
       "    </tr>\n",
       "    <tr>\n",
       "      <th>147618</th>\n",
       "      <td>4.9475</td>\n",
       "      <td>25699.0</td>\n",
       "      <td>within_a_few_hours</td>\n",
       "      <td>1307.0</td>\n",
       "      <td>2.0</td>\n",
       "      <td>7.0</td>\n",
       "      <td>87673.0</td>\n",
       "      <td>10218.0</td>\n",
       "      <td>5.0</td>\n",
       "      <td>25723.0</td>\n",
       "      <td>2013.0</td>\n",
       "      <td>date_restricted</td>\n",
       "      <td>0.0</td>\n",
       "    </tr>\n",
       "    <tr>\n",
       "      <th>16123</th>\n",
       "      <td>4.9282</td>\n",
       "      <td>3750.0</td>\n",
       "      <td>none_given</td>\n",
       "      <td>762.0</td>\n",
       "      <td>8.0</td>\n",
       "      <td>9.0</td>\n",
       "      <td>20080.0</td>\n",
       "      <td>3958.0</td>\n",
       "      <td>5.0</td>\n",
       "      <td>3752.0</td>\n",
       "      <td>2011.0</td>\n",
       "      <td>not_accepted</td>\n",
       "      <td>0.0</td>\n",
       "    </tr>\n",
       "    <tr>\n",
       "      <th>7595</th>\n",
       "      <td>4.9323</td>\n",
       "      <td>29144.0</td>\n",
       "      <td>within_a_few_hours</td>\n",
       "      <td>17705.0</td>\n",
       "      <td>2.0</td>\n",
       "      <td>10.0</td>\n",
       "      <td>150866.0</td>\n",
       "      <td>21155.0</td>\n",
       "      <td>5.0</td>\n",
       "      <td>29173.0</td>\n",
       "      <td>2011.0</td>\n",
       "      <td>date_restricted</td>\n",
       "      <td>0.0</td>\n",
       "    </tr>\n",
       "    <tr>\n",
       "      <th>182537</th>\n",
       "      <td>4.9524</td>\n",
       "      <td>24133.0</td>\n",
       "      <td>within_24_hours</td>\n",
       "      <td>569.0</td>\n",
       "      <td>2.0</td>\n",
       "      <td>10.0</td>\n",
       "      <td>76266.0</td>\n",
       "      <td>17753.0</td>\n",
       "      <td>5.0</td>\n",
       "      <td>24136.0</td>\n",
       "      <td>2010.0</td>\n",
       "      <td>date_restricted</td>\n",
       "      <td>36.0</td>\n",
       "    </tr>\n",
       "  </tbody>\n",
       "</table>\n",
       "</div>"
      ],
      "text/plain": [
       "        avg_rating  review_count seller_response_time  item_favorites  \\\n",
       "index                                                                   \n",
       "144399      4.9691        2420.0   within_a_few_hours             2.0   \n",
       "147618      4.9475       25699.0   within_a_few_hours          1307.0   \n",
       "16123       4.9282        3750.0           none_given           762.0   \n",
       "7595        4.9323       29144.0   within_a_few_hours         17705.0   \n",
       "182537      4.9524       24133.0      within_24_hours           569.0   \n",
       "\n",
       "        early_days_to_arrival  later_days_to_arrival  num_sales  num_admirers  \\\n",
       "index                                                                           \n",
       "144399                   11.0                   17.0     8276.0        1172.0   \n",
       "147618                    2.0                    7.0    87673.0       10218.0   \n",
       "16123                     8.0                    9.0    20080.0        3958.0   \n",
       "7595                      2.0                   10.0   150866.0       21155.0   \n",
       "182537                    2.0                   10.0    76266.0       17753.0   \n",
       "\n",
       "        avg_item_review_rounded  num_item_reviews  on_etsy_since  \\\n",
       "index                                                              \n",
       "144399                      5.0            2420.0         2017.0   \n",
       "147618                      5.0           25723.0         2013.0   \n",
       "16123                       5.0            3752.0         2011.0   \n",
       "7595                        5.0           29173.0         2011.0   \n",
       "182537                      5.0           24136.0         2010.0   \n",
       "\n",
       "       return_and_exchange_policy_category  days_since_listed  \n",
       "index                                                          \n",
       "144399                        not_accepted                2.0  \n",
       "147618                     date_restricted                0.0  \n",
       "16123                         not_accepted                0.0  \n",
       "7595                       date_restricted                0.0  \n",
       "182537                     date_restricted               36.0  "
      ]
     },
     "execution_count": 38,
     "metadata": {},
     "output_type": "execute_result"
    }
   ],
   "source": [
    "X = df_less_outliers.drop(columns=['product_name', 'product_url', 'brand_type', 'brand_name', 'price', 'currency',\n",
    "                                 'position', 'product_description', 'return_and_exchange_policy', 'item_listing_date',\n",
    "                                 'early_est_arrival', 'later_est_arrival', 'current_date', 'name', 'shop_description',\n",
    "                                 'location']\n",
    "                       )\n",
    "y = df_less_outliers['price'].copy()\n",
    "\n",
    "X.head()"
   ]
  },
  {
   "cell_type": "markdown",
   "id": "91e7ccdb",
   "metadata": {},
   "source": [
    "Train test split."
   ]
  },
  {
   "cell_type": "code",
   "execution_count": 39,
   "id": "3eef77af",
   "metadata": {},
   "outputs": [],
   "source": [
    "X_train, X_test, y_train, y_test = train_test_split(X, y, test_size=0.2, random_state=seed)"
   ]
  },
  {
   "cell_type": "markdown",
   "id": "39670db5",
   "metadata": {},
   "source": [
    "Preprocess data for modeling."
   ]
  },
  {
   "cell_type": "code",
   "execution_count": 40,
   "id": "666aa257",
   "metadata": {},
   "outputs": [
    {
     "data": {
      "text/html": [
       "<div>\n",
       "<style scoped>\n",
       "    .dataframe tbody tr th:only-of-type {\n",
       "        vertical-align: middle;\n",
       "    }\n",
       "\n",
       "    .dataframe tbody tr th {\n",
       "        vertical-align: top;\n",
       "    }\n",
       "\n",
       "    .dataframe thead th {\n",
       "        text-align: right;\n",
       "    }\n",
       "</style>\n",
       "<table border=\"1\" class=\"dataframe\">\n",
       "  <thead>\n",
       "    <tr style=\"text-align: right;\">\n",
       "      <th></th>\n",
       "      <th>num__avg_rating</th>\n",
       "      <th>num__review_count</th>\n",
       "      <th>num__early_days_to_arrival</th>\n",
       "      <th>num__later_days_to_arrival</th>\n",
       "      <th>num__avg_item_review_rounded</th>\n",
       "      <th>num__num_item_reviews</th>\n",
       "      <th>num__days_since_listed</th>\n",
       "      <th>cat__seller_response_time_within_24_hours</th>\n",
       "      <th>cat__seller_response_time_within_a_few_hours</th>\n",
       "      <th>cat__return_and_exchange_policy_category_date_restricted</th>\n",
       "      <th>cat__return_and_exchange_policy_category_free</th>\n",
       "      <th>cat__return_and_exchange_policy_category_not_accepted</th>\n",
       "      <th>cat__return_and_exchange_policy_category_not_listed</th>\n",
       "      <th>remainder__item_favorites</th>\n",
       "      <th>remainder__num_sales</th>\n",
       "      <th>remainder__num_admirers</th>\n",
       "      <th>remainder__on_etsy_since</th>\n",
       "    </tr>\n",
       "    <tr>\n",
       "      <th>index</th>\n",
       "      <th></th>\n",
       "      <th></th>\n",
       "      <th></th>\n",
       "      <th></th>\n",
       "      <th></th>\n",
       "      <th></th>\n",
       "      <th></th>\n",
       "      <th></th>\n",
       "      <th></th>\n",
       "      <th></th>\n",
       "      <th></th>\n",
       "      <th></th>\n",
       "      <th></th>\n",
       "      <th></th>\n",
       "      <th></th>\n",
       "      <th></th>\n",
       "      <th></th>\n",
       "    </tr>\n",
       "  </thead>\n",
       "  <tbody>\n",
       "    <tr>\n",
       "      <th>170223</th>\n",
       "      <td>-0.218521</td>\n",
       "      <td>-0.336854</td>\n",
       "      <td>-0.615646</td>\n",
       "      <td>-1.211384</td>\n",
       "      <td>0.231504</td>\n",
       "      <td>-0.336808</td>\n",
       "      <td>0.242656</td>\n",
       "      <td>-0.563848</td>\n",
       "      <td>-1.043663</td>\n",
       "      <td>1.788686</td>\n",
       "      <td>-0.328407</td>\n",
       "      <td>-0.854210</td>\n",
       "      <td>-0.098164</td>\n",
       "      <td>-0.284297</td>\n",
       "      <td>-0.332230</td>\n",
       "      <td>-0.320101</td>\n",
       "      <td>0.549048</td>\n",
       "    </tr>\n",
       "    <tr>\n",
       "      <th>104914</th>\n",
       "      <td>0.403123</td>\n",
       "      <td>-0.229340</td>\n",
       "      <td>-0.615646</td>\n",
       "      <td>-0.888734</td>\n",
       "      <td>0.231504</td>\n",
       "      <td>-0.229364</td>\n",
       "      <td>-0.453034</td>\n",
       "      <td>1.773528</td>\n",
       "      <td>-1.043663</td>\n",
       "      <td>-0.559070</td>\n",
       "      <td>-0.328407</td>\n",
       "      <td>1.170673</td>\n",
       "      <td>-0.098164</td>\n",
       "      <td>-0.174289</td>\n",
       "      <td>-0.188076</td>\n",
       "      <td>-0.110565</td>\n",
       "      <td>0.236531</td>\n",
       "    </tr>\n",
       "    <tr>\n",
       "      <th>37534</th>\n",
       "      <td>-0.169336</td>\n",
       "      <td>-0.335651</td>\n",
       "      <td>-0.236028</td>\n",
       "      <td>0.079217</td>\n",
       "      <td>0.231504</td>\n",
       "      <td>-0.335605</td>\n",
       "      <td>-0.105189</td>\n",
       "      <td>-0.563848</td>\n",
       "      <td>0.958164</td>\n",
       "      <td>-0.559070</td>\n",
       "      <td>-0.328407</td>\n",
       "      <td>1.170673</td>\n",
       "      <td>-0.098164</td>\n",
       "      <td>-0.449094</td>\n",
       "      <td>-0.332923</td>\n",
       "      <td>-0.403106</td>\n",
       "      <td>0.861565</td>\n",
       "    </tr>\n",
       "    <tr>\n",
       "      <th>41947</th>\n",
       "      <td>0.076589</td>\n",
       "      <td>3.717629</td>\n",
       "      <td>-0.615646</td>\n",
       "      <td>-0.888734</td>\n",
       "      <td>0.231504</td>\n",
       "      <td>3.718570</td>\n",
       "      <td>-0.552418</td>\n",
       "      <td>-0.563848</td>\n",
       "      <td>0.958164</td>\n",
       "      <td>-0.559070</td>\n",
       "      <td>3.045006</td>\n",
       "      <td>-0.854210</td>\n",
       "      <td>-0.098164</td>\n",
       "      <td>2.057977</td>\n",
       "      <td>3.690450</td>\n",
       "      <td>3.665791</td>\n",
       "      <td>-0.075985</td>\n",
       "    </tr>\n",
       "    <tr>\n",
       "      <th>179924</th>\n",
       "      <td>0.444110</td>\n",
       "      <td>-0.184841</td>\n",
       "      <td>-0.236028</td>\n",
       "      <td>0.079217</td>\n",
       "      <td>0.231504</td>\n",
       "      <td>-0.184797</td>\n",
       "      <td>-0.552418</td>\n",
       "      <td>-0.563848</td>\n",
       "      <td>0.958164</td>\n",
       "      <td>1.788686</td>\n",
       "      <td>-0.328407</td>\n",
       "      <td>-0.854210</td>\n",
       "      <td>-0.098164</td>\n",
       "      <td>-0.118420</td>\n",
       "      <td>-0.106400</td>\n",
       "      <td>-0.352779</td>\n",
       "      <td>0.549048</td>\n",
       "    </tr>\n",
       "  </tbody>\n",
       "</table>\n",
       "</div>"
      ],
      "text/plain": [
       "        num__avg_rating  num__review_count  num__early_days_to_arrival  \\\n",
       "index                                                                    \n",
       "170223        -0.218521          -0.336854                   -0.615646   \n",
       "104914         0.403123          -0.229340                   -0.615646   \n",
       "37534         -0.169336          -0.335651                   -0.236028   \n",
       "41947          0.076589           3.717629                   -0.615646   \n",
       "179924         0.444110          -0.184841                   -0.236028   \n",
       "\n",
       "        num__later_days_to_arrival  num__avg_item_review_rounded  \\\n",
       "index                                                              \n",
       "170223                   -1.211384                      0.231504   \n",
       "104914                   -0.888734                      0.231504   \n",
       "37534                     0.079217                      0.231504   \n",
       "41947                    -0.888734                      0.231504   \n",
       "179924                    0.079217                      0.231504   \n",
       "\n",
       "        num__num_item_reviews  num__days_since_listed  \\\n",
       "index                                                   \n",
       "170223              -0.336808                0.242656   \n",
       "104914              -0.229364               -0.453034   \n",
       "37534               -0.335605               -0.105189   \n",
       "41947                3.718570               -0.552418   \n",
       "179924              -0.184797               -0.552418   \n",
       "\n",
       "        cat__seller_response_time_within_24_hours  \\\n",
       "index                                               \n",
       "170223                                  -0.563848   \n",
       "104914                                   1.773528   \n",
       "37534                                   -0.563848   \n",
       "41947                                   -0.563848   \n",
       "179924                                  -0.563848   \n",
       "\n",
       "        cat__seller_response_time_within_a_few_hours  \\\n",
       "index                                                  \n",
       "170223                                     -1.043663   \n",
       "104914                                     -1.043663   \n",
       "37534                                       0.958164   \n",
       "41947                                       0.958164   \n",
       "179924                                      0.958164   \n",
       "\n",
       "        cat__return_and_exchange_policy_category_date_restricted  \\\n",
       "index                                                              \n",
       "170223                                           1.788686          \n",
       "104914                                          -0.559070          \n",
       "37534                                           -0.559070          \n",
       "41947                                           -0.559070          \n",
       "179924                                           1.788686          \n",
       "\n",
       "        cat__return_and_exchange_policy_category_free  \\\n",
       "index                                                   \n",
       "170223                                      -0.328407   \n",
       "104914                                      -0.328407   \n",
       "37534                                       -0.328407   \n",
       "41947                                        3.045006   \n",
       "179924                                      -0.328407   \n",
       "\n",
       "        cat__return_and_exchange_policy_category_not_accepted  \\\n",
       "index                                                           \n",
       "170223                                          -0.854210       \n",
       "104914                                           1.170673       \n",
       "37534                                            1.170673       \n",
       "41947                                           -0.854210       \n",
       "179924                                          -0.854210       \n",
       "\n",
       "        cat__return_and_exchange_policy_category_not_listed  \\\n",
       "index                                                         \n",
       "170223                                          -0.098164     \n",
       "104914                                          -0.098164     \n",
       "37534                                           -0.098164     \n",
       "41947                                           -0.098164     \n",
       "179924                                          -0.098164     \n",
       "\n",
       "        remainder__item_favorites  remainder__num_sales  \\\n",
       "index                                                     \n",
       "170223                  -0.284297             -0.332230   \n",
       "104914                  -0.174289             -0.188076   \n",
       "37534                   -0.449094             -0.332923   \n",
       "41947                    2.057977              3.690450   \n",
       "179924                  -0.118420             -0.106400   \n",
       "\n",
       "        remainder__num_admirers  remainder__on_etsy_since  \n",
       "index                                                      \n",
       "170223                -0.320101                  0.549048  \n",
       "104914                -0.110565                  0.236531  \n",
       "37534                 -0.403106                  0.861565  \n",
       "41947                  3.665791                 -0.075985  \n",
       "179924                -0.352779                  0.549048  "
      ]
     },
     "execution_count": 40,
     "metadata": {},
     "output_type": "execute_result"
    }
   ],
   "source": [
    "ohe = OneHotEncoder(drop='first')\n",
    "si = SimpleImputer()\n",
    "\n",
    "categorical_features = ['seller_response_time', 'return_and_exchange_policy_category']\n",
    "\n",
    "numeric_features = ['avg_rating', 'review_count', 'early_days_to_arrival', 'later_days_to_arrival',\n",
    "                  'avg_item_review_rounded', 'num_item_reviews', 'days_since_listed']\n",
    "\n",
    "preprocessor = ColumnTransformer(\n",
    "    transformers=[\n",
    "        (\"num\", si, numeric_features),\n",
    "        (\"cat\", ohe, categorical_features),\n",
    "    ],\n",
    "    remainder='passthrough' # keep other features\n",
    ")\n",
    "\n",
    "ss = StandardScaler()\n",
    "\n",
    "X_train_preprocessed = pd.DataFrame(ss.fit_transform(preprocessor.fit_transform(X_train)),\n",
    "                                    columns=preprocessor.get_feature_names_out(),\n",
    "                                    index=X_train.index)\n",
    "X_test_preprocessed = pd.DataFrame(ss.transform(preprocessor.transform(X_test)),\n",
    "                                   columns=preprocessor.get_feature_names_out(),\n",
    "                                   index=X_test.index)\n",
    "\n",
    "X_train_preprocessed.head()"
   ]
  },
  {
   "cell_type": "markdown",
   "id": "cdb8dd18",
   "metadata": {},
   "source": [
    "### Linear Model"
   ]
  },
  {
   "cell_type": "code",
   "execution_count": 46,
   "id": "029aef33",
   "metadata": {},
   "outputs": [
    {
     "name": "stdout",
     "output_type": "stream",
     "text": [
      "RMSE on Training Data: 4.806022967430017\n",
      "RMSE on Test Data: 4.834199987613098\n"
     ]
    }
   ],
   "source": [
    "lr = LinearRegression()\n",
    "\n",
    "lr.fit(X_train_preprocessed, y_train)\n",
    "\n",
    "print(f'RMSE on Training Data: {np.sqrt(mean_squared_error(y_train, lr.predict(X_train_preprocessed)))}')\n",
    "\n",
    "print(f'RMSE on Test Data: {np.sqrt(mean_squared_error(y_test, lr.predict(X_test_preprocessed)))}')"
   ]
  },
  {
   "cell_type": "markdown",
   "id": "dc91917c",
   "metadata": {},
   "source": [
    "### Random Forest"
   ]
  },
  {
   "cell_type": "code",
   "execution_count": 47,
   "id": "11d1bfdf",
   "metadata": {},
   "outputs": [
    {
     "name": "stdout",
     "output_type": "stream",
     "text": [
      "RMSE on Training Data: 0.5955448181556956\n",
      "RMSE on Test Data: 1.672302597135333\n"
     ]
    }
   ],
   "source": [
    "rf = RandomForestRegressor(random_state=seed)\n",
    "rf.fit(X_train_preprocessed, y_train)\n",
    "\n",
    "print(f'RMSE on Training Data: {np.sqrt(mean_squared_error(y_train, rf.predict(X_train_preprocessed)))}')\n",
    "\n",
    "print(f'RMSE on Test Data: {np.sqrt(mean_squared_error(y_test, rf.predict(X_test_preprocessed)))}')"
   ]
  },
  {
   "cell_type": "markdown",
   "id": "b7d428b2",
   "metadata": {},
   "source": [
    "### XGBoost"
   ]
  },
  {
   "cell_type": "code",
   "execution_count": 41,
   "id": "1cf95d74",
   "metadata": {},
   "outputs": [
    {
     "name": "stdout",
     "output_type": "stream",
     "text": [
      "RMSE on Training Data: 0.1221196423863471\n",
      "RMSE on Test Data: 1.690240821802121\n"
     ]
    }
   ],
   "source": [
    "xgb = XGBRegressor()\n",
    "xgb.fit(X_train_preprocessed, y_train)\n",
    "\n",
    "print(f'RMSE on Training Data: {np.sqrt(mean_squared_error(y_train, xgb.predict(X_train_preprocessed)))}')\n",
    "\n",
    "print(f'RMSE on Test Data: {np.sqrt(mean_squared_error(y_test, xgb.predict(X_test_preprocessed)))}')"
   ]
  },
  {
   "cell_type": "markdown",
   "id": "4255d43d",
   "metadata": {},
   "source": [
    "## Next Steps"
   ]
  },
  {
   "cell_type": "markdown",
   "id": "cac788d7",
   "metadata": {},
   "source": [
    "- [x] Try adding polynomial features. (What is the criteria for feature selection?)\n",
    "- [ ] Explore the best models.\n",
    "- [ ] Check assumptions for linear regression. Residual plot, qq plot (conda install statsmodels.)\n",
    "- [ ] Use statsmodels to assess statistical significance of coefficients. (This could be a way to select polynomial features to include.)\n",
    "- [ ] Visualize results from random forest model (actual vs. predicted scatter plot, feat importance, what else?)\n",
    "- [ ] Clean up mark down.\n",
    "- [ ] Re-position EDA.\n",
    "- [ ] Clean up web scraping notebook & get minimum reproducibility requirements met."
   ]
  },
  {
   "cell_type": "markdown",
   "id": "f931141f",
   "metadata": {},
   "source": [
    "## Load Data"
   ]
  },
  {
   "cell_type": "markdown",
   "id": "6807ebd2",
   "metadata": {},
   "source": [
    "Blurb about loading data. (Look at [this notebook](web-scraping.ipynb) to see script used to scrape the below data from July 7 - 10, 2023.)"
   ]
  },
  {
   "cell_type": "code",
   "execution_count": 3,
   "id": "a946c657",
   "metadata": {},
   "outputs": [
    {
     "data": {
      "text/html": [
       "<div>\n",
       "<style scoped>\n",
       "    .dataframe tbody tr th:only-of-type {\n",
       "        vertical-align: middle;\n",
       "    }\n",
       "\n",
       "    .dataframe tbody tr th {\n",
       "        vertical-align: top;\n",
       "    }\n",
       "\n",
       "    .dataframe thead th {\n",
       "        text-align: right;\n",
       "    }\n",
       "</style>\n",
       "<table border=\"1\" class=\"dataframe\">\n",
       "  <thead>\n",
       "    <tr style=\"text-align: right;\">\n",
       "      <th></th>\n",
       "      <th>product_name</th>\n",
       "      <th>product_url</th>\n",
       "      <th>brand_type</th>\n",
       "      <th>brand_name</th>\n",
       "      <th>price</th>\n",
       "      <th>currency</th>\n",
       "      <th>position</th>\n",
       "      <th>avg_rating</th>\n",
       "      <th>review_count</th>\n",
       "      <th>product_description</th>\n",
       "    </tr>\n",
       "  </thead>\n",
       "  <tbody>\n",
       "    <tr>\n",
       "      <th>0</th>\n",
       "      <td>Yellow Gold Rustic Unscented Pillar Candle - C...</td>\n",
       "      <td>https://www.etsy.com/listing/171033085/yellow-...</td>\n",
       "      <td>Brand</td>\n",
       "      <td>StillWaterCandles</td>\n",
       "      <td>16.0</td>\n",
       "      <td>USD</td>\n",
       "      <td>1</td>\n",
       "      <td>4.9284</td>\n",
       "      <td>3750.0</td>\n",
       "      <td>This large yellow gold rustic unscented pillar...</td>\n",
       "    </tr>\n",
       "    <tr>\n",
       "      <th>1</th>\n",
       "      <td>Pear Green Rustic Textured Unscented Block Pil...</td>\n",
       "      <td>https://www.etsy.com/listing/98864574/pear-gre...</td>\n",
       "      <td>Brand</td>\n",
       "      <td>StillWaterCandles</td>\n",
       "      <td>16.0</td>\n",
       "      <td>USD</td>\n",
       "      <td>2</td>\n",
       "      <td>4.9284</td>\n",
       "      <td>3750.0</td>\n",
       "      <td>This large pear green rustic unscented pillar ...</td>\n",
       "    </tr>\n",
       "    <tr>\n",
       "      <th>2</th>\n",
       "      <td>Burnt Orange Rustic Large Unscented Pillar Can...</td>\n",
       "      <td>https://www.etsy.com/listing/172053498/burnt-o...</td>\n",
       "      <td>Brand</td>\n",
       "      <td>StillWaterCandles</td>\n",
       "      <td>16.0</td>\n",
       "      <td>USD</td>\n",
       "      <td>3</td>\n",
       "      <td>4.9284</td>\n",
       "      <td>3750.0</td>\n",
       "      <td>This large burnt orange unscented rustic pilla...</td>\n",
       "    </tr>\n",
       "    <tr>\n",
       "      <th>3</th>\n",
       "      <td>Soy Mason Jar Candle////Choose Your Scent//Con...</td>\n",
       "      <td>https://www.etsy.com/listing/270002845/soy-mas...</td>\n",
       "      <td>Brand</td>\n",
       "      <td>TheDancingWick</td>\n",
       "      <td>15.0</td>\n",
       "      <td>USD</td>\n",
       "      <td>4</td>\n",
       "      <td>4.9323</td>\n",
       "      <td>29140.0</td>\n",
       "      <td>These beautiful candles are the perfect additi...</td>\n",
       "    </tr>\n",
       "    <tr>\n",
       "      <th>4</th>\n",
       "      <td>Rainbow Candle / Soy Candle with 6 colorful la...</td>\n",
       "      <td>https://www.etsy.com/listing/251774155/rainbow...</td>\n",
       "      <td>Brand</td>\n",
       "      <td>SoapForYourSoul</td>\n",
       "      <td>29.0</td>\n",
       "      <td>USD</td>\n",
       "      <td>5</td>\n",
       "      <td>4.9102</td>\n",
       "      <td>5057.0</td>\n",
       "      <td>Colorful rainbow candle is six layers of scent...</td>\n",
       "    </tr>\n",
       "  </tbody>\n",
       "</table>\n",
       "</div>"
      ],
      "text/plain": [
       "                                        product_name  \\\n",
       "0  Yellow Gold Rustic Unscented Pillar Candle - C...   \n",
       "1  Pear Green Rustic Textured Unscented Block Pil...   \n",
       "2  Burnt Orange Rustic Large Unscented Pillar Can...   \n",
       "3  Soy Mason Jar Candle////Choose Your Scent//Con...   \n",
       "4  Rainbow Candle / Soy Candle with 6 colorful la...   \n",
       "\n",
       "                                         product_url brand_type  \\\n",
       "0  https://www.etsy.com/listing/171033085/yellow-...      Brand   \n",
       "1  https://www.etsy.com/listing/98864574/pear-gre...      Brand   \n",
       "2  https://www.etsy.com/listing/172053498/burnt-o...      Brand   \n",
       "3  https://www.etsy.com/listing/270002845/soy-mas...      Brand   \n",
       "4  https://www.etsy.com/listing/251774155/rainbow...      Brand   \n",
       "\n",
       "          brand_name  price currency  position  avg_rating  review_count  \\\n",
       "0  StillWaterCandles   16.0      USD         1      4.9284        3750.0   \n",
       "1  StillWaterCandles   16.0      USD         2      4.9284        3750.0   \n",
       "2  StillWaterCandles   16.0      USD         3      4.9284        3750.0   \n",
       "3     TheDancingWick   15.0      USD         4      4.9323       29140.0   \n",
       "4    SoapForYourSoul   29.0      USD         5      4.9102        5057.0   \n",
       "\n",
       "                                 product_description  \n",
       "0  This large yellow gold rustic unscented pillar...  \n",
       "1  This large pear green rustic unscented pillar ...  \n",
       "2  This large burnt orange unscented rustic pilla...  \n",
       "3  These beautiful candles are the perfect additi...  \n",
       "4  Colorful rainbow candle is six layers of scent...  "
      ]
     },
     "execution_count": 3,
     "metadata": {},
     "output_type": "execute_result"
    }
   ],
   "source": [
    "data = pd.read_csv('Data/product_data.csv')\n",
    "data.head()"
   ]
  },
  {
   "cell_type": "markdown",
   "id": "ec0b854a",
   "metadata": {},
   "source": [
    "**TO DO **\n",
    "- [ ] Add brand info.\n",
    "- [ ] Drop records based on missing brand info.\n",
    "- [ ] Feature engineering round 1 (number of other candles for sale, etc.)\n",
    "- [ ] Get a random sample of 10,000 candles.\n",
    "- [ ] Fix the review_count for candles in sample (get number of review for individual product, as well as for brand as a whole.) Can you also get the earliest and latest estimated arrival, in days from now? And whether or not returns and exchanges are accepted? And the listing date? And the number of favorites?"
   ]
  },
  {
   "cell_type": "markdown",
   "id": "77db936a",
   "metadata": {},
   "source": [
    "We have information about 190,128 candles that were for sale on Etsy from July 7-10 in 2023."
   ]
  },
  {
   "cell_type": "code",
   "execution_count": 4,
   "id": "57f70186",
   "metadata": {},
   "outputs": [
    {
     "name": "stdout",
     "output_type": "stream",
     "text": [
      "(190128, 10)\n"
     ]
    }
   ],
   "source": [
    "print(data.shape)"
   ]
  },
  {
   "cell_type": "markdown",
   "id": "2fd45734",
   "metadata": {},
   "source": [
    "Add newly scraped information about the brand."
   ]
  },
  {
   "cell_type": "code",
   "execution_count": 25,
   "id": "c408b51a",
   "metadata": {
    "scrolled": false
   },
   "outputs": [
    {
     "data": {
      "text/html": [
       "<div>\n",
       "<style scoped>\n",
       "    .dataframe tbody tr th:only-of-type {\n",
       "        vertical-align: middle;\n",
       "    }\n",
       "\n",
       "    .dataframe tbody tr th {\n",
       "        vertical-align: top;\n",
       "    }\n",
       "\n",
       "    .dataframe thead th {\n",
       "        text-align: right;\n",
       "    }\n",
       "</style>\n",
       "<table border=\"1\" class=\"dataframe\">\n",
       "  <thead>\n",
       "    <tr style=\"text-align: right;\">\n",
       "      <th></th>\n",
       "      <th>name</th>\n",
       "      <th>shop_description</th>\n",
       "      <th>location</th>\n",
       "      <th>num_sales</th>\n",
       "      <th>num_admirers</th>\n",
       "      <th>avg_item_review_rounded</th>\n",
       "      <th>num_item_reviews</th>\n",
       "      <th>on_etsy_since</th>\n",
       "    </tr>\n",
       "  </thead>\n",
       "  <tbody>\n",
       "    <tr>\n",
       "      <th>0</th>\n",
       "      <td>160candles</td>\n",
       "      <td>Hand-poured candles – with 100% soy wax and 0%...</td>\n",
       "      <td>Europe</td>\n",
       "      <td>68.0</td>\n",
       "      <td>50.0</td>\n",
       "      <td>5.0</td>\n",
       "      <td>21.0</td>\n",
       "      <td>2021.0</td>\n",
       "    </tr>\n",
       "    <tr>\n",
       "      <th>1</th>\n",
       "      <td>16wishescandles</td>\n",
       "      <td>Everything SWEET 16 for your MAGICAL day- xoxo</td>\n",
       "      <td>Dallas, Texas</td>\n",
       "      <td>1533.0</td>\n",
       "      <td>363.0</td>\n",
       "      <td>4.0</td>\n",
       "      <td>280.0</td>\n",
       "      <td>NaN</td>\n",
       "    </tr>\n",
       "    <tr>\n",
       "      <th>2</th>\n",
       "      <td>Sunnysmilenyc</td>\n",
       "      <td>NaN</td>\n",
       "      <td>NaN</td>\n",
       "      <td>0.0</td>\n",
       "      <td>0.0</td>\n",
       "      <td>NaN</td>\n",
       "      <td>NaN</td>\n",
       "      <td>NaN</td>\n",
       "    </tr>\n",
       "    <tr>\n",
       "      <th>3</th>\n",
       "      <td>27thcandle</td>\n",
       "      <td>NaN</td>\n",
       "      <td>NaN</td>\n",
       "      <td>0.0</td>\n",
       "      <td>0.0</td>\n",
       "      <td>NaN</td>\n",
       "      <td>NaN</td>\n",
       "      <td>NaN</td>\n",
       "    </tr>\n",
       "    <tr>\n",
       "      <th>4</th>\n",
       "      <td>320Sycamorecandles</td>\n",
       "      <td>Hand Poured Pure Soy Candles with Cotton Wicks</td>\n",
       "      <td>Overland, Missouri</td>\n",
       "      <td>6700.0</td>\n",
       "      <td>1009.0</td>\n",
       "      <td>5.0</td>\n",
       "      <td>1715.0</td>\n",
       "      <td>2016.0</td>\n",
       "    </tr>\n",
       "  </tbody>\n",
       "</table>\n",
       "</div>"
      ],
      "text/plain": [
       "                 name                                   shop_description  \\\n",
       "0          160candles  Hand-poured candles – with 100% soy wax and 0%...   \n",
       "1     16wishescandles     Everything SWEET 16 for your MAGICAL day- xoxo   \n",
       "2       Sunnysmilenyc                                                NaN   \n",
       "3          27thcandle                                                NaN   \n",
       "4  320Sycamorecandles     Hand Poured Pure Soy Candles with Cotton Wicks   \n",
       "\n",
       "             location  num_sales  num_admirers  avg_item_review_rounded  \\\n",
       "0              Europe       68.0          50.0                      5.0   \n",
       "1       Dallas, Texas     1533.0         363.0                      4.0   \n",
       "2                 NaN        0.0           0.0                      NaN   \n",
       "3                 NaN        0.0           0.0                      NaN   \n",
       "4  Overland, Missouri     6700.0        1009.0                      5.0   \n",
       "\n",
       "   num_item_reviews  on_etsy_since  \n",
       "0              21.0         2021.0  \n",
       "1             280.0            NaN  \n",
       "2               NaN            NaN  \n",
       "3               NaN            NaN  \n",
       "4            1715.0         2016.0  "
      ]
     },
     "execution_count": 25,
     "metadata": {},
     "output_type": "execute_result"
    }
   ],
   "source": [
    "brand_data = pd.read_csv('Data/brand_data_raw.csv', index_col=0)\n",
    "brand_data.head()"
   ]
  },
  {
   "cell_type": "markdown",
   "id": "5f9fc1ec",
   "metadata": {},
   "source": [
    "Check null values in brand data."
   ]
  },
  {
   "cell_type": "code",
   "execution_count": 31,
   "id": "cd4e079a",
   "metadata": {},
   "outputs": [
    {
     "data": {
      "text/plain": [
       "name                         1\n",
       "shop_description           284\n",
       "location                   144\n",
       "num_sales                   30\n",
       "num_admirers                30\n",
       "avg_item_review_rounded    436\n",
       "num_item_reviews           436\n",
       "on_etsy_since              648\n",
       "dtype: int64"
      ]
     },
     "execution_count": 31,
     "metadata": {},
     "output_type": "execute_result"
    }
   ],
   "source": [
    "brand_data.isna().sum()"
   ]
  },
  {
   "cell_type": "markdown",
   "id": "bf805166",
   "metadata": {},
   "source": [
    "Drop records with a null value for num_sales or name."
   ]
  },
  {
   "cell_type": "code",
   "execution_count": 34,
   "id": "ca83ffac",
   "metadata": {},
   "outputs": [],
   "source": [
    "brand_data.dropna(subset=['name', 'num_sales'], axis=0, inplace=True)"
   ]
  },
  {
   "cell_type": "markdown",
   "id": "f41fd3ce",
   "metadata": {},
   "source": [
    "Join brand_data to product_data."
   ]
  },
  {
   "cell_type": "code",
   "execution_count": 42,
   "id": "86975d23",
   "metadata": {},
   "outputs": [
    {
     "data": {
      "text/html": [
       "<div>\n",
       "<style scoped>\n",
       "    .dataframe tbody tr th:only-of-type {\n",
       "        vertical-align: middle;\n",
       "    }\n",
       "\n",
       "    .dataframe tbody tr th {\n",
       "        vertical-align: top;\n",
       "    }\n",
       "\n",
       "    .dataframe thead th {\n",
       "        text-align: right;\n",
       "    }\n",
       "</style>\n",
       "<table border=\"1\" class=\"dataframe\">\n",
       "  <thead>\n",
       "    <tr style=\"text-align: right;\">\n",
       "      <th></th>\n",
       "      <th>product_name</th>\n",
       "      <th>product_url</th>\n",
       "      <th>brand_type</th>\n",
       "      <th>brand_name</th>\n",
       "      <th>price</th>\n",
       "      <th>currency</th>\n",
       "      <th>position</th>\n",
       "      <th>avg_rating</th>\n",
       "      <th>review_count</th>\n",
       "      <th>product_description</th>\n",
       "      <th>name</th>\n",
       "      <th>shop_description</th>\n",
       "      <th>location</th>\n",
       "      <th>num_sales</th>\n",
       "      <th>num_admirers</th>\n",
       "      <th>avg_item_review_rounded</th>\n",
       "      <th>num_item_reviews</th>\n",
       "      <th>on_etsy_since</th>\n",
       "    </tr>\n",
       "  </thead>\n",
       "  <tbody>\n",
       "    <tr>\n",
       "      <th>0</th>\n",
       "      <td>Yellow Gold Rustic Unscented Pillar Candle - C...</td>\n",
       "      <td>https://www.etsy.com/listing/171033085/yellow-...</td>\n",
       "      <td>Brand</td>\n",
       "      <td>StillWaterCandles</td>\n",
       "      <td>16.0</td>\n",
       "      <td>USD</td>\n",
       "      <td>1</td>\n",
       "      <td>4.9284</td>\n",
       "      <td>3750.0</td>\n",
       "      <td>This large yellow gold rustic unscented pillar...</td>\n",
       "      <td>StillWaterCandles</td>\n",
       "      <td>Handmade Rustic Pillar Candles  - Free Ship ov...</td>\n",
       "      <td>Missouri, United States</td>\n",
       "      <td>20080.0</td>\n",
       "      <td>3958.0</td>\n",
       "      <td>5.0</td>\n",
       "      <td>3752.0</td>\n",
       "      <td>2011.0</td>\n",
       "    </tr>\n",
       "    <tr>\n",
       "      <th>1</th>\n",
       "      <td>Pear Green Rustic Textured Unscented Block Pil...</td>\n",
       "      <td>https://www.etsy.com/listing/98864574/pear-gre...</td>\n",
       "      <td>Brand</td>\n",
       "      <td>StillWaterCandles</td>\n",
       "      <td>16.0</td>\n",
       "      <td>USD</td>\n",
       "      <td>2</td>\n",
       "      <td>4.9284</td>\n",
       "      <td>3750.0</td>\n",
       "      <td>This large pear green rustic unscented pillar ...</td>\n",
       "      <td>StillWaterCandles</td>\n",
       "      <td>Handmade Rustic Pillar Candles  - Free Ship ov...</td>\n",
       "      <td>Missouri, United States</td>\n",
       "      <td>20080.0</td>\n",
       "      <td>3958.0</td>\n",
       "      <td>5.0</td>\n",
       "      <td>3752.0</td>\n",
       "      <td>2011.0</td>\n",
       "    </tr>\n",
       "    <tr>\n",
       "      <th>2</th>\n",
       "      <td>Burnt Orange Rustic Large Unscented Pillar Can...</td>\n",
       "      <td>https://www.etsy.com/listing/172053498/burnt-o...</td>\n",
       "      <td>Brand</td>\n",
       "      <td>StillWaterCandles</td>\n",
       "      <td>16.0</td>\n",
       "      <td>USD</td>\n",
       "      <td>3</td>\n",
       "      <td>4.9284</td>\n",
       "      <td>3750.0</td>\n",
       "      <td>This large burnt orange unscented rustic pilla...</td>\n",
       "      <td>StillWaterCandles</td>\n",
       "      <td>Handmade Rustic Pillar Candles  - Free Ship ov...</td>\n",
       "      <td>Missouri, United States</td>\n",
       "      <td>20080.0</td>\n",
       "      <td>3958.0</td>\n",
       "      <td>5.0</td>\n",
       "      <td>3752.0</td>\n",
       "      <td>2011.0</td>\n",
       "    </tr>\n",
       "    <tr>\n",
       "      <th>3</th>\n",
       "      <td>Soy Mason Jar Candle////Choose Your Scent//Con...</td>\n",
       "      <td>https://www.etsy.com/listing/270002845/soy-mas...</td>\n",
       "      <td>Brand</td>\n",
       "      <td>TheDancingWick</td>\n",
       "      <td>15.0</td>\n",
       "      <td>USD</td>\n",
       "      <td>4</td>\n",
       "      <td>4.9323</td>\n",
       "      <td>29140.0</td>\n",
       "      <td>These beautiful candles are the perfect additi...</td>\n",
       "      <td>TheDancingWick</td>\n",
       "      <td>Personalized Soy Candles, Favors &amp; Sugar scrubs</td>\n",
       "      <td>Bixby, Oklahoma</td>\n",
       "      <td>150866.0</td>\n",
       "      <td>21155.0</td>\n",
       "      <td>5.0</td>\n",
       "      <td>29173.0</td>\n",
       "      <td>2011.0</td>\n",
       "    </tr>\n",
       "    <tr>\n",
       "      <th>4</th>\n",
       "      <td>Rainbow Candle / Soy Candle with 6 colorful la...</td>\n",
       "      <td>https://www.etsy.com/listing/251774155/rainbow...</td>\n",
       "      <td>Brand</td>\n",
       "      <td>SoapForYourSoul</td>\n",
       "      <td>29.0</td>\n",
       "      <td>USD</td>\n",
       "      <td>5</td>\n",
       "      <td>4.9102</td>\n",
       "      <td>5057.0</td>\n",
       "      <td>Colorful rainbow candle is six layers of scent...</td>\n",
       "      <td>SoapForYourSoul</td>\n",
       "      <td>Handmade Soap Company, Soy Candles &amp; Laundry Soap</td>\n",
       "      <td>Conway, South Carolina</td>\n",
       "      <td>13650.0</td>\n",
       "      <td>11583.0</td>\n",
       "      <td>5.0</td>\n",
       "      <td>5060.0</td>\n",
       "      <td>2009.0</td>\n",
       "    </tr>\n",
       "  </tbody>\n",
       "</table>\n",
       "</div>"
      ],
      "text/plain": [
       "                                        product_name  \\\n",
       "0  Yellow Gold Rustic Unscented Pillar Candle - C...   \n",
       "1  Pear Green Rustic Textured Unscented Block Pil...   \n",
       "2  Burnt Orange Rustic Large Unscented Pillar Can...   \n",
       "3  Soy Mason Jar Candle////Choose Your Scent//Con...   \n",
       "4  Rainbow Candle / Soy Candle with 6 colorful la...   \n",
       "\n",
       "                                         product_url brand_type  \\\n",
       "0  https://www.etsy.com/listing/171033085/yellow-...      Brand   \n",
       "1  https://www.etsy.com/listing/98864574/pear-gre...      Brand   \n",
       "2  https://www.etsy.com/listing/172053498/burnt-o...      Brand   \n",
       "3  https://www.etsy.com/listing/270002845/soy-mas...      Brand   \n",
       "4  https://www.etsy.com/listing/251774155/rainbow...      Brand   \n",
       "\n",
       "          brand_name  price currency  position  avg_rating  review_count  \\\n",
       "0  StillWaterCandles   16.0      USD         1      4.9284        3750.0   \n",
       "1  StillWaterCandles   16.0      USD         2      4.9284        3750.0   \n",
       "2  StillWaterCandles   16.0      USD         3      4.9284        3750.0   \n",
       "3     TheDancingWick   15.0      USD         4      4.9323       29140.0   \n",
       "4    SoapForYourSoul   29.0      USD         5      4.9102        5057.0   \n",
       "\n",
       "                                 product_description               name  \\\n",
       "0  This large yellow gold rustic unscented pillar...  StillWaterCandles   \n",
       "1  This large pear green rustic unscented pillar ...  StillWaterCandles   \n",
       "2  This large burnt orange unscented rustic pilla...  StillWaterCandles   \n",
       "3  These beautiful candles are the perfect additi...     TheDancingWick   \n",
       "4  Colorful rainbow candle is six layers of scent...    SoapForYourSoul   \n",
       "\n",
       "                                    shop_description                 location  \\\n",
       "0  Handmade Rustic Pillar Candles  - Free Ship ov...  Missouri, United States   \n",
       "1  Handmade Rustic Pillar Candles  - Free Ship ov...  Missouri, United States   \n",
       "2  Handmade Rustic Pillar Candles  - Free Ship ov...  Missouri, United States   \n",
       "3    Personalized Soy Candles, Favors & Sugar scrubs          Bixby, Oklahoma   \n",
       "4  Handmade Soap Company, Soy Candles & Laundry Soap   Conway, South Carolina   \n",
       "\n",
       "   num_sales  num_admirers  avg_item_review_rounded  num_item_reviews  \\\n",
       "0    20080.0        3958.0                      5.0            3752.0   \n",
       "1    20080.0        3958.0                      5.0            3752.0   \n",
       "2    20080.0        3958.0                      5.0            3752.0   \n",
       "3   150866.0       21155.0                      5.0           29173.0   \n",
       "4    13650.0       11583.0                      5.0            5060.0   \n",
       "\n",
       "   on_etsy_since  \n",
       "0         2011.0  \n",
       "1         2011.0  \n",
       "2         2011.0  \n",
       "3         2011.0  \n",
       "4         2009.0  "
      ]
     },
     "execution_count": 42,
     "metadata": {},
     "output_type": "execute_result"
    }
   ],
   "source": [
    "query = '''SELECT *\n",
    "           FROM data\n",
    "           LEFT JOIN brand_data\n",
    "           ON data.brand_name = brand_data.name'''\n",
    "\n",
    "all_data = sqldf(query)\n",
    "\n",
    "all_data.head()"
   ]
  },
  {
   "cell_type": "markdown",
   "id": "1c0ddc11",
   "metadata": {},
   "source": [
    "We don't need a \"brand_name\" and a \"name\" column. Also, \"brand_type\" is Brand for every record, so we can drop this feature. We also don't need product_url anymore."
   ]
  },
  {
   "cell_type": "code",
   "execution_count": 43,
   "id": "223a65c9",
   "metadata": {},
   "outputs": [],
   "source": [
    "all_data.drop(columns=['brand_type', 'name', 'product_url'], inplace=True)"
   ]
  },
  {
   "cell_type": "markdown",
   "id": "5e1e2698",
   "metadata": {},
   "source": [
    "Below are the current counts for all null values in each feature category."
   ]
  },
  {
   "cell_type": "code",
   "execution_count": 44,
   "id": "3c3f24bc",
   "metadata": {},
   "outputs": [
    {
     "data": {
      "text/plain": [
       "product_name                  14\n",
       "brand_name                     0\n",
       "price                         19\n",
       "currency                      19\n",
       "position                       0\n",
       "avg_rating                 11330\n",
       "review_count               11330\n",
       "product_description           24\n",
       "shop_description            5242\n",
       "location                    1689\n",
       "num_sales                    417\n",
       "num_admirers                 417\n",
       "avg_item_review_rounded    11332\n",
       "num_item_reviews           11332\n",
       "on_etsy_since              17875\n",
       "dtype: int64"
      ]
     },
     "execution_count": 44,
     "metadata": {},
     "output_type": "execute_result"
    }
   ],
   "source": [
    "all_data.isna().sum()"
   ]
  },
  {
   "cell_type": "code",
   "execution_count": 46,
   "id": "222a4852",
   "metadata": {},
   "outputs": [
    {
     "data": {
      "text/html": [
       "<div>\n",
       "<style scoped>\n",
       "    .dataframe tbody tr th:only-of-type {\n",
       "        vertical-align: middle;\n",
       "    }\n",
       "\n",
       "    .dataframe tbody tr th {\n",
       "        vertical-align: top;\n",
       "    }\n",
       "\n",
       "    .dataframe thead th {\n",
       "        text-align: right;\n",
       "    }\n",
       "</style>\n",
       "<table border=\"1\" class=\"dataframe\">\n",
       "  <thead>\n",
       "    <tr style=\"text-align: right;\">\n",
       "      <th></th>\n",
       "      <th>brand_name</th>\n",
       "      <th>candle_count</th>\n",
       "      <th>product_name</th>\n",
       "      <th>brand_name</th>\n",
       "      <th>price</th>\n",
       "      <th>currency</th>\n",
       "      <th>position</th>\n",
       "      <th>avg_rating</th>\n",
       "      <th>review_count</th>\n",
       "      <th>product_description</th>\n",
       "      <th>shop_description</th>\n",
       "      <th>location</th>\n",
       "      <th>num_sales</th>\n",
       "      <th>num_admirers</th>\n",
       "      <th>avg_item_review_rounded</th>\n",
       "      <th>num_item_reviews</th>\n",
       "      <th>on_etsy_since</th>\n",
       "    </tr>\n",
       "  </thead>\n",
       "  <tbody>\n",
       "    <tr>\n",
       "      <th>0</th>\n",
       "      <td>160candles</td>\n",
       "      <td>3</td>\n",
       "      <td>Birthdate zodiac candle Leo gift birthday astr...</td>\n",
       "      <td>160candles</td>\n",
       "      <td>28.0</td>\n",
       "      <td>USD</td>\n",
       "      <td>9</td>\n",
       "      <td>5.0000</td>\n",
       "      <td>21.0</td>\n",
       "      <td>Birthdate zodiac candle for Leo – perfect astr...</td>\n",
       "      <td>Hand-poured candles – with 100% soy wax and 0%...</td>\n",
       "      <td>Europe</td>\n",
       "      <td>68.0</td>\n",
       "      <td>50.0</td>\n",
       "      <td>5.0</td>\n",
       "      <td>21.0</td>\n",
       "      <td>2021.0</td>\n",
       "    </tr>\n",
       "    <tr>\n",
       "      <th>1</th>\n",
       "      <td>160candles</td>\n",
       "      <td>3</td>\n",
       "      <td>Birthdate zodiac candle Leo gift birthday astr...</td>\n",
       "      <td>160candles</td>\n",
       "      <td>28.0</td>\n",
       "      <td>USD</td>\n",
       "      <td>8</td>\n",
       "      <td>5.0000</td>\n",
       "      <td>21.0</td>\n",
       "      <td>Birthdate zodiac candle for Leo – perfect astr...</td>\n",
       "      <td>Hand-poured candles – with 100% soy wax and 0%...</td>\n",
       "      <td>Europe</td>\n",
       "      <td>68.0</td>\n",
       "      <td>50.0</td>\n",
       "      <td>5.0</td>\n",
       "      <td>21.0</td>\n",
       "      <td>2021.0</td>\n",
       "    </tr>\n",
       "    <tr>\n",
       "      <th>2</th>\n",
       "      <td>160candles</td>\n",
       "      <td>3</td>\n",
       "      <td>Birthdate zodiac candle Leo gift birthday astr...</td>\n",
       "      <td>160candles</td>\n",
       "      <td>28.0</td>\n",
       "      <td>USD</td>\n",
       "      <td>10</td>\n",
       "      <td>5.0000</td>\n",
       "      <td>21.0</td>\n",
       "      <td>Birthdate zodiac candle for Leo – perfect astr...</td>\n",
       "      <td>Hand-poured candles – with 100% soy wax and 0%...</td>\n",
       "      <td>Europe</td>\n",
       "      <td>68.0</td>\n",
       "      <td>50.0</td>\n",
       "      <td>5.0</td>\n",
       "      <td>21.0</td>\n",
       "      <td>2021.0</td>\n",
       "    </tr>\n",
       "    <tr>\n",
       "      <th>3</th>\n",
       "      <td>16wishescandles</td>\n",
       "      <td>6</td>\n",
       "      <td>16 Wishes Candle Box Gold tin Sweet 16 gift id...</td>\n",
       "      <td>16wishescandles</td>\n",
       "      <td>61.0</td>\n",
       "      <td>USD</td>\n",
       "      <td>30</td>\n",
       "      <td>4.6703</td>\n",
       "      <td>280.0</td>\n",
       "      <td>***optional add on**** a replica of Abby Jense...</td>\n",
       "      <td>Everything SWEET 16 for your MAGICAL day- xoxo</td>\n",
       "      <td>Dallas, Texas</td>\n",
       "      <td>1533.0</td>\n",
       "      <td>363.0</td>\n",
       "      <td>4.0</td>\n",
       "      <td>280.0</td>\n",
       "      <td>NaN</td>\n",
       "    </tr>\n",
       "    <tr>\n",
       "      <th>4</th>\n",
       "      <td>16wishescandles</td>\n",
       "      <td>6</td>\n",
       "      <td>16 Wishes Candle Box Gold tin Sweet 16 gift id...</td>\n",
       "      <td>16wishescandles</td>\n",
       "      <td>61.0</td>\n",
       "      <td>USD</td>\n",
       "      <td>29</td>\n",
       "      <td>4.6703</td>\n",
       "      <td>280.0</td>\n",
       "      <td>***optional add on**** a replica of Abby Jense...</td>\n",
       "      <td>Everything SWEET 16 for your MAGICAL day- xoxo</td>\n",
       "      <td>Dallas, Texas</td>\n",
       "      <td>1533.0</td>\n",
       "      <td>363.0</td>\n",
       "      <td>4.0</td>\n",
       "      <td>280.0</td>\n",
       "      <td>NaN</td>\n",
       "    </tr>\n",
       "    <tr>\n",
       "      <th>...</th>\n",
       "      <td>...</td>\n",
       "      <td>...</td>\n",
       "      <td>...</td>\n",
       "      <td>...</td>\n",
       "      <td>...</td>\n",
       "      <td>...</td>\n",
       "      <td>...</td>\n",
       "      <td>...</td>\n",
       "      <td>...</td>\n",
       "      <td>...</td>\n",
       "      <td>...</td>\n",
       "      <td>...</td>\n",
       "      <td>...</td>\n",
       "      <td>...</td>\n",
       "      <td>...</td>\n",
       "      <td>...</td>\n",
       "      <td>...</td>\n",
       "    </tr>\n",
       "    <tr>\n",
       "      <th>190174</th>\n",
       "      <td>yourclassicshop</td>\n",
       "      <td>7</td>\n",
       "      <td>Beyond Beautiful Cherry Blossom Scented Candle...</td>\n",
       "      <td>yourclassicshop</td>\n",
       "      <td>70.0</td>\n",
       "      <td>USD</td>\n",
       "      <td>11</td>\n",
       "      <td>NaN</td>\n",
       "      <td>NaN</td>\n",
       "      <td>Beyond Beautiful Cherry Blossom Scented Candle...</td>\n",
       "      <td>Loris Gift Shop</td>\n",
       "      <td>None</td>\n",
       "      <td>0.0</td>\n",
       "      <td>0.0</td>\n",
       "      <td>NaN</td>\n",
       "      <td>NaN</td>\n",
       "      <td>NaN</td>\n",
       "    </tr>\n",
       "    <tr>\n",
       "      <th>190175</th>\n",
       "      <td>yourclassicshop</td>\n",
       "      <td>7</td>\n",
       "      <td>Beyond Beautiful Cherry Blossom Scented Candle...</td>\n",
       "      <td>yourclassicshop</td>\n",
       "      <td>70.0</td>\n",
       "      <td>USD</td>\n",
       "      <td>4</td>\n",
       "      <td>NaN</td>\n",
       "      <td>NaN</td>\n",
       "      <td>Beyond Beautiful Cherry Blossom Scented Candle...</td>\n",
       "      <td>Loris Gift Shop</td>\n",
       "      <td>None</td>\n",
       "      <td>0.0</td>\n",
       "      <td>0.0</td>\n",
       "      <td>NaN</td>\n",
       "      <td>NaN</td>\n",
       "      <td>NaN</td>\n",
       "    </tr>\n",
       "    <tr>\n",
       "      <th>190176</th>\n",
       "      <td>yourclassicshop</td>\n",
       "      <td>7</td>\n",
       "      <td>Beyond Beautiful Cherry Blossom Scented Candle...</td>\n",
       "      <td>yourclassicshop</td>\n",
       "      <td>70.0</td>\n",
       "      <td>USD</td>\n",
       "      <td>11</td>\n",
       "      <td>NaN</td>\n",
       "      <td>NaN</td>\n",
       "      <td>Beyond Beautiful Cherry Blossom Scented Candle...</td>\n",
       "      <td>Loris Gift Shop</td>\n",
       "      <td>None</td>\n",
       "      <td>0.0</td>\n",
       "      <td>0.0</td>\n",
       "      <td>NaN</td>\n",
       "      <td>NaN</td>\n",
       "      <td>NaN</td>\n",
       "    </tr>\n",
       "    <tr>\n",
       "      <th>190177</th>\n",
       "      <td>yourclassicshop</td>\n",
       "      <td>7</td>\n",
       "      <td>Beyond Beautiful Cherry Blossom Scented Candle...</td>\n",
       "      <td>yourclassicshop</td>\n",
       "      <td>70.0</td>\n",
       "      <td>USD</td>\n",
       "      <td>10</td>\n",
       "      <td>NaN</td>\n",
       "      <td>NaN</td>\n",
       "      <td>Beyond Beautiful Cherry Blossom Scented Candle...</td>\n",
       "      <td>Loris Gift Shop</td>\n",
       "      <td>None</td>\n",
       "      <td>0.0</td>\n",
       "      <td>0.0</td>\n",
       "      <td>NaN</td>\n",
       "      <td>NaN</td>\n",
       "      <td>NaN</td>\n",
       "    </tr>\n",
       "    <tr>\n",
       "      <th>190178</th>\n",
       "      <td>yourclassicshop</td>\n",
       "      <td>7</td>\n",
       "      <td>Beyond Beautiful Cherry Blossom Scented Candle...</td>\n",
       "      <td>yourclassicshop</td>\n",
       "      <td>70.0</td>\n",
       "      <td>USD</td>\n",
       "      <td>10</td>\n",
       "      <td>NaN</td>\n",
       "      <td>NaN</td>\n",
       "      <td>Beyond Beautiful Cherry Blossom Scented Candle...</td>\n",
       "      <td>Loris Gift Shop</td>\n",
       "      <td>None</td>\n",
       "      <td>0.0</td>\n",
       "      <td>0.0</td>\n",
       "      <td>NaN</td>\n",
       "      <td>NaN</td>\n",
       "      <td>NaN</td>\n",
       "    </tr>\n",
       "  </tbody>\n",
       "</table>\n",
       "<p>190179 rows × 17 columns</p>\n",
       "</div>"
      ],
      "text/plain": [
       "             brand_name  candle_count  \\\n",
       "0            160candles             3   \n",
       "1            160candles             3   \n",
       "2            160candles             3   \n",
       "3       16wishescandles             6   \n",
       "4       16wishescandles             6   \n",
       "...                 ...           ...   \n",
       "190174  yourclassicshop             7   \n",
       "190175  yourclassicshop             7   \n",
       "190176  yourclassicshop             7   \n",
       "190177  yourclassicshop             7   \n",
       "190178  yourclassicshop             7   \n",
       "\n",
       "                                             product_name       brand_name  \\\n",
       "0       Birthdate zodiac candle Leo gift birthday astr...       160candles   \n",
       "1       Birthdate zodiac candle Leo gift birthday astr...       160candles   \n",
       "2       Birthdate zodiac candle Leo gift birthday astr...       160candles   \n",
       "3       16 Wishes Candle Box Gold tin Sweet 16 gift id...  16wishescandles   \n",
       "4       16 Wishes Candle Box Gold tin Sweet 16 gift id...  16wishescandles   \n",
       "...                                                   ...              ...   \n",
       "190174  Beyond Beautiful Cherry Blossom Scented Candle...  yourclassicshop   \n",
       "190175  Beyond Beautiful Cherry Blossom Scented Candle...  yourclassicshop   \n",
       "190176  Beyond Beautiful Cherry Blossom Scented Candle...  yourclassicshop   \n",
       "190177  Beyond Beautiful Cherry Blossom Scented Candle...  yourclassicshop   \n",
       "190178  Beyond Beautiful Cherry Blossom Scented Candle...  yourclassicshop   \n",
       "\n",
       "        price currency  position  avg_rating  review_count  \\\n",
       "0        28.0      USD         9      5.0000          21.0   \n",
       "1        28.0      USD         8      5.0000          21.0   \n",
       "2        28.0      USD        10      5.0000          21.0   \n",
       "3        61.0      USD        30      4.6703         280.0   \n",
       "4        61.0      USD        29      4.6703         280.0   \n",
       "...       ...      ...       ...         ...           ...   \n",
       "190174   70.0      USD        11         NaN           NaN   \n",
       "190175   70.0      USD         4         NaN           NaN   \n",
       "190176   70.0      USD        11         NaN           NaN   \n",
       "190177   70.0      USD        10         NaN           NaN   \n",
       "190178   70.0      USD        10         NaN           NaN   \n",
       "\n",
       "                                      product_description  \\\n",
       "0       Birthdate zodiac candle for Leo – perfect astr...   \n",
       "1       Birthdate zodiac candle for Leo – perfect astr...   \n",
       "2       Birthdate zodiac candle for Leo – perfect astr...   \n",
       "3       ***optional add on**** a replica of Abby Jense...   \n",
       "4       ***optional add on**** a replica of Abby Jense...   \n",
       "...                                                   ...   \n",
       "190174  Beyond Beautiful Cherry Blossom Scented Candle...   \n",
       "190175  Beyond Beautiful Cherry Blossom Scented Candle...   \n",
       "190176  Beyond Beautiful Cherry Blossom Scented Candle...   \n",
       "190177  Beyond Beautiful Cherry Blossom Scented Candle...   \n",
       "190178  Beyond Beautiful Cherry Blossom Scented Candle...   \n",
       "\n",
       "                                         shop_description       location  \\\n",
       "0       Hand-poured candles – with 100% soy wax and 0%...         Europe   \n",
       "1       Hand-poured candles – with 100% soy wax and 0%...         Europe   \n",
       "2       Hand-poured candles – with 100% soy wax and 0%...         Europe   \n",
       "3          Everything SWEET 16 for your MAGICAL day- xoxo  Dallas, Texas   \n",
       "4          Everything SWEET 16 for your MAGICAL day- xoxo  Dallas, Texas   \n",
       "...                                                   ...            ...   \n",
       "190174                                    Loris Gift Shop           None   \n",
       "190175                                    Loris Gift Shop           None   \n",
       "190176                                    Loris Gift Shop           None   \n",
       "190177                                    Loris Gift Shop           None   \n",
       "190178                                    Loris Gift Shop           None   \n",
       "\n",
       "        num_sales  num_admirers  avg_item_review_rounded  num_item_reviews  \\\n",
       "0            68.0          50.0                      5.0              21.0   \n",
       "1            68.0          50.0                      5.0              21.0   \n",
       "2            68.0          50.0                      5.0              21.0   \n",
       "3          1533.0         363.0                      4.0             280.0   \n",
       "4          1533.0         363.0                      4.0             280.0   \n",
       "...           ...           ...                      ...               ...   \n",
       "190174        0.0           0.0                      NaN               NaN   \n",
       "190175        0.0           0.0                      NaN               NaN   \n",
       "190176        0.0           0.0                      NaN               NaN   \n",
       "190177        0.0           0.0                      NaN               NaN   \n",
       "190178        0.0           0.0                      NaN               NaN   \n",
       "\n",
       "        on_etsy_since  \n",
       "0              2021.0  \n",
       "1              2021.0  \n",
       "2              2021.0  \n",
       "3                 NaN  \n",
       "4                 NaN  \n",
       "...               ...  \n",
       "190174            NaN  \n",
       "190175            NaN  \n",
       "190176            NaN  \n",
       "190177            NaN  \n",
       "190178            NaN  \n",
       "\n",
       "[190179 rows x 17 columns]"
      ]
     },
     "execution_count": 46,
     "metadata": {},
     "output_type": "execute_result"
    }
   ],
   "source": [
    "query = '''SELECT *\n",
    "           FROM (\n",
    "                 SELECT brand_name, count() AS candle_count\n",
    "                 FROM all_data\n",
    "                 GROUP BY brand_name\n",
    "                 ) AS candle_count_table\n",
    "           RIGHT JOIN all_data\n",
    "           ON candle_count_table.brand_name = all_data.brand_name\n",
    "           '''\n",
    "\n",
    "sqldf(query)"
   ]
  },
  {
   "cell_type": "code",
   "execution_count": 45,
   "id": "0fb705db",
   "metadata": {},
   "outputs": [
    {
     "data": {
      "text/plain": [
       "brand_name\n",
       "160candles               3\n",
       "16wishescandles          6\n",
       "1995DesignCompany        7\n",
       "27thcandle               3\n",
       "320Sycamorecandles      10\n",
       "                      ... \n",
       "withpoesie               4\n",
       "woodIandwitchcrafts      7\n",
       "woodwoodhoney            7\n",
       "www13grammcom          234\n",
       "yourclassicshop          7\n",
       "Name: product_name, Length: 1568, dtype: int64"
      ]
     },
     "execution_count": 45,
     "metadata": {},
     "output_type": "execute_result"
    }
   ],
   "source": [
    "all_data.groupby('brand_name').count()['product_name']"
   ]
  },
  {
   "cell_type": "markdown",
   "id": "bed8e767",
   "metadata": {},
   "source": [
    "We will use the following features to build a baseline model:\n",
    "\n",
    "ITEM INFO\n",
    "\n",
    "- avg_rating\n",
    "- review_count (for individual product, not brand!)\n",
    "-\n",
    "\n",
    "BRAND INFO\n",
    "\n",
    "- num_sales\n",
    "- num_admireres\n",
    "- avg_item_review_rounded\n",
    "- num_item_reviews\n",
    "- on_etsy_since"
   ]
  },
  {
   "cell_type": "markdown",
   "id": "c2feefcb",
   "metadata": {},
   "source": [
    "View five number summary for price, average rating and review count."
   ]
  },
  {
   "cell_type": "code",
   "execution_count": 6,
   "id": "d555e779",
   "metadata": {
    "scrolled": false
   },
   "outputs": [
    {
     "data": {
      "text/html": [
       "<div>\n",
       "<style scoped>\n",
       "    .dataframe tbody tr th:only-of-type {\n",
       "        vertical-align: middle;\n",
       "    }\n",
       "\n",
       "    .dataframe tbody tr th {\n",
       "        vertical-align: top;\n",
       "    }\n",
       "\n",
       "    .dataframe thead th {\n",
       "        text-align: right;\n",
       "    }\n",
       "</style>\n",
       "<table border=\"1\" class=\"dataframe\">\n",
       "  <thead>\n",
       "    <tr style=\"text-align: right;\">\n",
       "      <th></th>\n",
       "      <th>price</th>\n",
       "      <th>avg_rating</th>\n",
       "      <th>review_count</th>\n",
       "    </tr>\n",
       "  </thead>\n",
       "  <tbody>\n",
       "    <tr>\n",
       "      <th>count</th>\n",
       "      <td>190109.000000</td>\n",
       "      <td>178849.000000</td>\n",
       "      <td>178849.000000</td>\n",
       "    </tr>\n",
       "    <tr>\n",
       "      <th>mean</th>\n",
       "      <td>19.114158</td>\n",
       "      <td>4.915511</td>\n",
       "      <td>14551.489664</td>\n",
       "    </tr>\n",
       "    <tr>\n",
       "      <th>std</th>\n",
       "      <td>12.061501</td>\n",
       "      <td>0.081231</td>\n",
       "      <td>37589.173812</td>\n",
       "    </tr>\n",
       "    <tr>\n",
       "      <th>min</th>\n",
       "      <td>0.560000</td>\n",
       "      <td>1.000000</td>\n",
       "      <td>1.000000</td>\n",
       "    </tr>\n",
       "    <tr>\n",
       "      <th>25%</th>\n",
       "      <td>13.990000</td>\n",
       "      <td>4.901700</td>\n",
       "      <td>1257.000000</td>\n",
       "    </tr>\n",
       "    <tr>\n",
       "      <th>50%</th>\n",
       "      <td>15.000000</td>\n",
       "      <td>4.930000</td>\n",
       "      <td>3857.000000</td>\n",
       "    </tr>\n",
       "    <tr>\n",
       "      <th>75%</th>\n",
       "      <td>20.950000</td>\n",
       "      <td>4.953900</td>\n",
       "      <td>8205.000000</td>\n",
       "    </tr>\n",
       "    <tr>\n",
       "      <th>max</th>\n",
       "      <td>350.000000</td>\n",
       "      <td>5.000000</td>\n",
       "      <td>169122.000000</td>\n",
       "    </tr>\n",
       "  </tbody>\n",
       "</table>\n",
       "</div>"
      ],
      "text/plain": [
       "               price     avg_rating   review_count\n",
       "count  190109.000000  178849.000000  178849.000000\n",
       "mean       19.114158       4.915511   14551.489664\n",
       "std        12.061501       0.081231   37589.173812\n",
       "min         0.560000       1.000000       1.000000\n",
       "25%        13.990000       4.901700    1257.000000\n",
       "50%        15.000000       4.930000    3857.000000\n",
       "75%        20.950000       4.953900    8205.000000\n",
       "max       350.000000       5.000000  169122.000000"
      ]
     },
     "execution_count": 6,
     "metadata": {},
     "output_type": "execute_result"
    }
   ],
   "source": [
    "data.describe().drop(['position'], axis=1)"
   ]
  },
  {
   "cell_type": "markdown",
   "id": "14c5138b",
   "metadata": {},
   "source": [
    "**Price**\n",
    "\n",
    "Mean price of a candle: \\\\$19\n",
    "\n",
    "Standard deviation: $12\n",
    "\n",
    "Median price of a candle: \\\\$15\n",
    "\n",
    "Maximum price: \\\\$350\n",
    "\n",
    "Minimum price: \\\\$0.56\n",
    "\n",
    "^^*Explore outliers*\n",
    "\n",
    "**Average Rating**\n",
    "\n",
    "Mean mean rating: 4.92\n",
    "\n",
    "Standard deviation: 0.08\n",
    "\n",
    "*Most ratings are quite high.*\n",
    "\n",
    "In fact, 50\\% of ratings lie between 4.9 and 4.95.\n",
    "\n",
    "The minimum, however, is 1, and the maximum is 5, as expected.\n",
    "\n",
    "**Review Count**\n",
    "\n",
    "Mean review count: 14,551\n",
    "\n",
    "Standard deviation: 37,589\n",
    "\n",
    "Minimum: 1\n",
    "\n",
    "Maximum: 169,122\n",
    "\n",
    "50\\% lie between 1257 reviews and 8205 reviews."
   ]
  },
  {
   "cell_type": "markdown",
   "id": "44891214",
   "metadata": {},
   "source": [
    "**Null values**\n",
    "\n",
    "A little over 11,000 candles do not have an average rating or review count.\n",
    "\n",
    "19 candles do not have a price listed."
   ]
  },
  {
   "cell_type": "code",
   "execution_count": 8,
   "id": "f606da3f",
   "metadata": {},
   "outputs": [
    {
     "data": {
      "text/plain": [
       "11279"
      ]
     },
     "execution_count": 8,
     "metadata": {},
     "output_type": "execute_result"
    }
   ],
   "source": [
    "data.avg_rating.isna().sum()"
   ]
  },
  {
   "cell_type": "code",
   "execution_count": 9,
   "id": "8dc19ff2",
   "metadata": {},
   "outputs": [
    {
     "data": {
      "text/plain": [
       "19"
      ]
     },
     "execution_count": 9,
     "metadata": {},
     "output_type": "execute_result"
    }
   ],
   "source": [
    "data.price.isna().sum()"
   ]
  },
  {
   "cell_type": "markdown",
   "id": "4ebe05ab",
   "metadata": {},
   "source": [
    "**Brand**\n",
    "\n",
    "100% of candles have a brand listed."
   ]
  },
  {
   "cell_type": "code",
   "execution_count": 10,
   "id": "bb5857a0",
   "metadata": {},
   "outputs": [
    {
     "data": {
      "text/plain": [
       "Brand    190128\n",
       "Name: brand_type, dtype: int64"
      ]
     },
     "execution_count": 10,
     "metadata": {},
     "output_type": "execute_result"
    }
   ],
   "source": [
    "data.brand_type.value_counts()"
   ]
  },
  {
   "cell_type": "code",
   "execution_count": 14,
   "id": "46f5fd55",
   "metadata": {},
   "outputs": [
    {
     "data": {
      "text/plain": [
       "0"
      ]
     },
     "execution_count": 14,
     "metadata": {},
     "output_type": "execute_result"
    }
   ],
   "source": [
    "data.brand_name.isna().sum()"
   ]
  },
  {
   "cell_type": "markdown",
   "id": "0d0f2da5",
   "metadata": {},
   "source": [
    "Number of brands in the dataset: 1568"
   ]
  },
  {
   "cell_type": "code",
   "execution_count": 21,
   "id": "7ae0a312",
   "metadata": {},
   "outputs": [
    {
     "data": {
      "text/plain": [
       "(1568,)"
      ]
     },
     "execution_count": 21,
     "metadata": {},
     "output_type": "execute_result"
    }
   ],
   "source": [
    "data.brand_name.value_counts().shape"
   ]
  },
  {
   "cell_type": "markdown",
   "id": "88c2e4e4",
   "metadata": {},
   "source": [
    "50% of brands have between 6 and 19 candles for sale in the search results.\n",
    "\n",
    "The most prolific brand has 11,211 candles for sale in this dataset alone.\n",
    "\n",
    "25% of brands have 6 or fewer candles for sale in this dataset."
   ]
  },
  {
   "cell_type": "code",
   "execution_count": 12,
   "id": "723b5104",
   "metadata": {},
   "outputs": [
    {
     "data": {
      "text/plain": [
       "count     1568.000000\n",
       "mean       121.255102\n",
       "std        703.398801\n",
       "min          1.000000\n",
       "25%          6.000000\n",
       "50%          7.000000\n",
       "75%         19.000000\n",
       "max      11211.000000\n",
       "Name: brand_name, dtype: float64"
      ]
     },
     "execution_count": 12,
     "metadata": {},
     "output_type": "execute_result"
    }
   ],
   "source": [
    "data.brand_name.value_counts().describe()"
   ]
  },
  {
   "cell_type": "markdown",
   "id": "d52f95d7",
   "metadata": {},
   "source": [
    "**Product Description**"
   ]
  },
  {
   "cell_type": "markdown",
   "id": "6057f3b8",
   "metadata": {},
   "source": [
    "24 candles are missing a product description."
   ]
  },
  {
   "cell_type": "code",
   "execution_count": 16,
   "id": "16679811",
   "metadata": {},
   "outputs": [
    {
     "data": {
      "text/plain": [
       "24"
      ]
     },
     "execution_count": 16,
     "metadata": {},
     "output_type": "execute_result"
    }
   ],
   "source": [
    "data.product_description.isna().sum()"
   ]
  },
  {
   "cell_type": "markdown",
   "id": "394b9d68",
   "metadata": {},
   "source": [
    "The \"average\" product description contains 452 words, but there is a HUGE standard deviation! In reality, 75% of product descriptions are shorter than 389 words, and 50% have fewer than 233 words."
   ]
  },
  {
   "cell_type": "code",
   "execution_count": 18,
   "id": "8c96a36c",
   "metadata": {},
   "outputs": [
    {
     "data": {
      "text/plain": [
       "count    190104.000000\n",
       "mean        452.528279\n",
       "std         892.365711\n",
       "min           1.000000\n",
       "25%         146.000000\n",
       "50%         233.000000\n",
       "75%         389.000000\n",
       "max        5602.000000\n",
       "Name: product_description, dtype: float64"
      ]
     },
     "execution_count": 18,
     "metadata": {},
     "output_type": "execute_result"
    }
   ],
   "source": [
    "data.product_description.dropna().map(lambda x: len(x.split())).describe()"
   ]
  },
  {
   "cell_type": "markdown",
   "id": "dc3f14c7",
   "metadata": {},
   "source": [
    "TO DO:\n",
    "\n",
    "- [ ] Look at top words in product descriptions and product names"
   ]
  },
  {
   "cell_type": "markdown",
   "id": "02801e80",
   "metadata": {},
   "source": [
    "**Product Name**"
   ]
  },
  {
   "cell_type": "markdown",
   "id": "9f1105e8",
   "metadata": {},
   "source": [
    "14 candles do not have a product name."
   ]
  },
  {
   "cell_type": "code",
   "execution_count": 19,
   "id": "78d456cc",
   "metadata": {},
   "outputs": [
    {
     "data": {
      "text/plain": [
       "14"
      ]
     },
     "execution_count": 19,
     "metadata": {},
     "output_type": "execute_result"
    }
   ],
   "source": [
    "data.product_name.isna().sum()"
   ]
  },
  {
   "cell_type": "markdown",
   "id": "27ff5405",
   "metadata": {},
   "source": [
    "The \"average\" product name is 16 words long, which is relatively close to the median length as well."
   ]
  },
  {
   "cell_type": "code",
   "execution_count": 20,
   "id": "6a07fae5",
   "metadata": {},
   "outputs": [
    {
     "data": {
      "text/plain": [
       "count    190114.000000\n",
       "mean         16.107656\n",
       "std           6.302984\n",
       "min           1.000000\n",
       "25%          11.000000\n",
       "50%          17.000000\n",
       "75%          22.000000\n",
       "max          32.000000\n",
       "Name: product_name, dtype: float64"
      ]
     },
     "execution_count": 20,
     "metadata": {},
     "output_type": "execute_result"
    }
   ],
   "source": [
    "data.product_name.dropna().map(lambda x: len(x.split())).describe()"
   ]
  }
 ],
 "metadata": {
  "kernelspec": {
   "display_name": "etsy-demand-model",
   "language": "python",
   "name": "etsy-demand-model"
  },
  "language_info": {
   "codemirror_mode": {
    "name": "ipython",
    "version": 3
   },
   "file_extension": ".py",
   "mimetype": "text/x-python",
   "name": "python",
   "nbconvert_exporter": "python",
   "pygments_lexer": "ipython3",
   "version": "3.11.4"
  }
 },
 "nbformat": 4,
 "nbformat_minor": 5
}
