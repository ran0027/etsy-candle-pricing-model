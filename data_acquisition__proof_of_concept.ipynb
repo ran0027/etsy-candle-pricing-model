{
 "cells": [
  {
   "cell_type": "code",
   "execution_count": 1,
   "metadata": {},
   "outputs": [],
   "source": [
    "import requests\n",
    "from bs4 import BeautifulSoup\n",
    "import json"
   ]
  },
  {
   "cell_type": "code",
   "execution_count": 3,
   "metadata": {},
   "outputs": [
    {
     "name": "stdout",
     "output_type": "stream",
     "text": [
      "200\n"
     ]
    }
   ],
   "source": [
    "response = requests.get('https://www.etsy.com/c/home-and-living/home-decor/candles-and-holders?ref=catnav-891')\n",
    "print(response.status_code)"
   ]
  },
  {
   "cell_type": "code",
   "execution_count": 4,
   "metadata": {},
   "outputs": [],
   "source": [
    "soup = BeautifulSoup(response.text)"
   ]
  },
  {
   "cell_type": "code",
   "execution_count": 5,
   "metadata": {},
   "outputs": [
    {
     "name": "stdout",
     "output_type": "stream",
     "text": [
      "<class 'list'>\n"
     ]
    }
   ],
   "source": [
    "s = soup.find_all('script', type='application/ld+json')\n",
    "\n",
    "# these are only true for the first page, for some reason; on subsequent pages, the list_items occur 3rd in the list\\n\",\n",
    "meta_content = s[0]\n",
    "list_items = s[1]\n",
    "\n",
    "# convert list_items to string, then strip script tags\n",
    "# I expected the bs4.element.Tag method \\\"text\\\" to do this, but it returned an empty string\n",
    "list_items = json.loads(str(list_items).strip('<script type=\\\"application/ld+json\\\">').strip('</script'))\n",
    "\n",
    "# then access list of list items\n",
    "list_items = list_items['itemListElement']\n",
    "\n",
    "print(type(list_items))"
   ]
  },
  {
   "cell_type": "markdown",
   "metadata": {},
   "source": [
    "Test: Can I use the URL provided from the search results to get the description of that specific product?"
   ]
  },
  {
   "cell_type": "code",
   "execution_count": 7,
   "metadata": {},
   "outputs": [
    {
     "name": "stdout",
     "output_type": "stream",
     "text": [
      "200\n"
     ]
    }
   ],
   "source": [
    "product_response = requests.get('https://www.etsy.com/listing/549794406/6-brass-candleholder-for-our-celebration')\n",
    "product_soup = BeautifulSoup(product_response.text)\n",
    "print(product_response.status_code)"
   ]
  },
  {
   "cell_type": "code",
   "execution_count": 11,
   "metadata": {},
   "outputs": [],
   "source": [
    "s = product_soup.find_all('script', type='application/ld+json')\n",
    "product_info = s[0]\n",
    "product_meta_content = s[1]\n",
    "product_info = json.loads(str(product_info).strip('<script type=\\\"application/ld+json\\\">').strip('</script'))"
   ]
  },
  {
   "cell_type": "markdown",
   "metadata": {},
   "source": [
    "Test: Does requesting page 2 (of search results) work?"
   ]
  },
  {
   "cell_type": "code",
   "execution_count": 16,
   "metadata": {},
   "outputs": [],
   "source": [
    "URL = \"https://www.etsy.com/c/home-and-living/home-decor/candles-and-holders/candles?explicit=1&ref=pagination&page=2\"\n",
    "response = requests.get(URL)\n",
    "soup = BeautifulSoup(response.text)\n",
    "s = soup.find_all('script', type='application/ld+json')\n",
    "list_items = s[2]\n",
    "\n",
    "# convert list_items to string, then strip script tags\n",
    "# I expected the bs4.element.Tag method \\\"text\\\" to do this, but it returned an empty string\n",
    "list_items = json.loads(str(list_items).strip('<script type=\\\"application/ld+json\\\">').strip('</script'))\n",
    "\n",
    "# then access list of list items\n",
    "list_items = list_items['itemListElement']"
   ]
  },
  {
   "cell_type": "markdown",
   "metadata": {},
   "source": [
    "Test: Is the structure of page 3 (and onward) reliably similar to that of page 2?"
   ]
  },
  {
   "cell_type": "code",
   "execution_count": 18,
   "metadata": {},
   "outputs": [],
   "source": [
    "URL = \"https://www.etsy.com/c/home-and-living/home-decor/candles-and-holders/candles?explicit=1&ref=pagination&page=3\"\n",
    "response = requests.get(URL)\n",
    "soup = BeautifulSoup(response.text)\n",
    "s = soup.find_all('script', type='application/ld+json')\n",
    "list_items = s[2]\n",
    "\n",
    "# convert list_items to string, then strip script tags\n",
    "# I expected the bs4.element.Tag method \\\"text\\\" to do this, but it returned an empty string\n",
    "list_items = json.loads(str(list_items).strip('<script type=\\\"application/ld+json\\\">').strip('</script'))\n",
    "\n",
    "# then access list of list items\n",
    "list_items = list_items['itemListElement']"
   ]
  },
  {
   "cell_type": "code",
   "execution_count": 20,
   "metadata": {},
   "outputs": [
    {
     "name": "stdout",
     "output_type": "stream",
     "text": [
      "Correct type.\n",
      "Correct expected length.\n",
      "Keys of first list item: dict_keys(['@context', '@type', 'image', 'name', 'url', 'brand', 'offers', 'position', 'aggregateRating'])\n",
      "\n",
      "\n",
      "Correct type.\n",
      "Correct expected length.\n",
      "Keys of first list item: dict_keys(['@context', '@type', 'image', 'name', 'url', 'brand', 'offers', 'position', 'aggregateRating'])\n",
      "\n",
      "\n",
      "Correct type.\n",
      "Correct expected length.\n",
      "Keys of first list item: dict_keys(['@context', '@type', 'image', 'name', 'url', 'brand', 'offers', 'position', 'aggregateRating'])\n",
      "\n",
      "\n",
      "Correct type.\n",
      "Correct expected length.\n",
      "Keys of first list item: dict_keys(['@context', '@type', 'image', 'name', 'url', 'brand', 'offers', 'position', 'aggregateRating'])\n",
      "\n",
      "\n",
      "Correct type.\n",
      "Correct expected length.\n",
      "Keys of first list item: dict_keys(['@context', '@type', 'image', 'name', 'url', 'brand', 'offers', 'position', 'aggregateRating'])\n",
      "\n",
      "\n",
      "Correct type.\n",
      "Correct expected length.\n",
      "Keys of first list item: dict_keys(['@context', '@type', 'image', 'name', 'url', 'brand', 'offers', 'position', 'aggregateRating'])\n",
      "\n",
      "\n",
      "Correct type.\n",
      "Correct expected length.\n",
      "Keys of first list item: dict_keys(['@context', '@type', 'image', 'name', 'url', 'brand', 'offers', 'position', 'aggregateRating'])\n",
      "\n",
      "\n",
      "Correct type.\n",
      "Correct expected length.\n",
      "Keys of first list item: dict_keys(['@context', '@type', 'image', 'name', 'url', 'brand', 'offers', 'position', 'aggregateRating'])\n",
      "\n",
      "\n",
      "Correct type.\n",
      "Correct expected length.\n",
      "Keys of first list item: dict_keys(['@context', '@type', 'image', 'name', 'url', 'brand', 'offers', 'position', 'aggregateRating'])\n",
      "\n",
      "\n",
      "Correct type.\n",
      "Correct expected length.\n",
      "Keys of first list item: dict_keys(['@context', '@type', 'image', 'name', 'url', 'brand', 'offers', 'position', 'aggregateRating'])\n",
      "\n",
      "\n",
      "Correct type.\n",
      "Correct expected length.\n",
      "Keys of first list item: dict_keys(['@context', '@type', 'image', 'name', 'url', 'brand', 'offers', 'position', 'aggregateRating'])\n",
      "\n",
      "\n",
      "Correct type.\n",
      "Correct expected length.\n",
      "Keys of first list item: dict_keys(['@context', '@type', 'image', 'name', 'url', 'brand', 'offers', 'position', 'aggregateRating'])\n",
      "\n",
      "\n"
     ]
    }
   ],
   "source": [
    "for i in range(4, 16):\n",
    "    URL = f\"https://www.etsy.com/c/home-and-living/home-decor/candles-and-holders/candles?explicit=1&ref=pagination&page={i}\"\n",
    "    response = requests.get(URL)\n",
    "    soup = BeautifulSoup(response.text)\n",
    "    \n",
    "    s = soup.find_all('script', type='application/ld+json')\n",
    "    list_items = s[2]\n",
    "    \n",
    "    # convert list_items to string, then strip script tags\n",
    "    # I expected the bs4.element.Tag method \\\"text\\\" to do this, but it returned an empty string\n",
    "    list_items = json.loads(str(list_items).strip('<script type=\\\"application/ld+json\\\">').strip('</script'))\n",
    "    \n",
    "    # then access list of list items\n",
    "    list_items = list_items['itemListElement']\n",
    "    \n",
    "    if type(list_items) == list:\n",
    "        print('Correct type.')\n",
    "    \n",
    "    if len(list_items) == 48:\n",
    "        print('Correct expected length.')\n",
    "    else:\n",
    "        print(f'Length: {len(list_items)}.')\n",
    "    \n",
    "    print(f'Keys of first list item: {list_items[0].keys()}')\n",
    "    \n",
    "    print('\\n')"
   ]
  }
 ],
 "metadata": {
  "kernelspec": {
   "display_name": "Python (learn-env)",
   "language": "python",
   "name": "learn-env"
  },
  "language_info": {
   "codemirror_mode": {
    "name": "ipython",
    "version": 3
   },
   "file_extension": ".py",
   "mimetype": "text/x-python",
   "name": "python",
   "nbconvert_exporter": "python",
   "pygments_lexer": "ipython3",
   "version": "3.8.5"
  },
  "toc": {
   "base_numbering": 1,
   "nav_menu": {},
   "number_sections": true,
   "sideBar": true,
   "skip_h1_title": false,
   "title_cell": "Table of Contents",
   "title_sidebar": "Contents",
   "toc_cell": false,
   "toc_position": {},
   "toc_section_display": true,
   "toc_window_display": false
  }
 },
 "nbformat": 4,
 "nbformat_minor": 4
}
